{
 "cells": [
  {
   "cell_type": "code",
   "execution_count": 1,
   "metadata": {},
   "outputs": [],
   "source": [
    "import pandas as pd\n",
    "import numpy as np\n",
    "import matplotlib.pyplot as plt\n",
    "from matplotlib.ticker import MaxNLocator\n",
    "import lightgbm as lgb\n",
    "import xgboost as xgb\n",
    "from sklearn.pipeline import make_pipeline, Pipeline,  FunctionTransformer\n",
    "from sklearn.compose import ColumnTransformer\n",
    "from sklearn.metrics import roc_auc_score, confusion_matrix, ConfusionMatrixDisplay, roc_curve, auc, RocCurveDisplay, classification_report\n",
    "from sklearn.model_selection import cross_validate, StratifiedKFold, cross_val_predict, train_test_split\n",
    "from sklearn.preprocessing import LabelEncoder\n",
    "import catboost as cb\n",
    "from sklearn.base import clone\n",
    "import joblib\n",
    "import optuna\n",
    "from optuna.samplers import TPESampler\n",
    "import torch\n",
    "import torch.nn as nn\n",
    "import torch.nn.functional as F\n",
    "import torch.optim as optim\n",
    "import random\n",
    "import os\n",
    "from tqdm.notebook import tqdm\n",
    "from torch.utils.data import Dataset, DataLoader\n",
    "from torch.utils.data.sampler import SubsetRandomSampler\n",
    "import copy\n",
    "from scipy.special import softmax\n",
    "from IPython.display import clear_output\n",
    "from sklearn.linear_model import LogisticRegression"
   ]
  },
  {
   "cell_type": "code",
   "execution_count": 2,
   "metadata": {},
   "outputs": [],
   "source": [
    "seed = 1126"
   ]
  },
  {
   "cell_type": "markdown",
   "metadata": {},
   "source": [
    "### EDA"
   ]
  },
  {
   "cell_type": "code",
   "execution_count": 3,
   "metadata": {},
   "outputs": [],
   "source": [
    "train = pd.read_csv('./baseball_data/train.csv')\n",
    "test = pd.read_csv('./baseball_data/test.csv')\n",
    "submission = pd.read_csv('./baseball_data/sample_submission.csv')"
   ]
  },
  {
   "cell_type": "code",
   "execution_count": 4,
   "metadata": {},
   "outputs": [
    {
     "data": {
      "text/html": [
       "<div>\n",
       "<style scoped>\n",
       "    .dataframe tbody tr th:only-of-type {\n",
       "        vertical-align: middle;\n",
       "    }\n",
       "\n",
       "    .dataframe tbody tr th {\n",
       "        vertical-align: top;\n",
       "    }\n",
       "\n",
       "    .dataframe thead th {\n",
       "        text-align: right;\n",
       "    }\n",
       "</style>\n",
       "<table border=\"1\" class=\"dataframe\">\n",
       "  <thead>\n",
       "    <tr style=\"text-align: right;\">\n",
       "      <th></th>\n",
       "      <th>uid</th>\n",
       "      <th>pitch_type</th>\n",
       "      <th>release_speed</th>\n",
       "      <th>release_pos_x</th>\n",
       "      <th>release_pos_z</th>\n",
       "      <th>game_type</th>\n",
       "      <th>is_lhp</th>\n",
       "      <th>is_lhb</th>\n",
       "      <th>balls</th>\n",
       "      <th>strikes</th>\n",
       "      <th>...</th>\n",
       "      <th>release_extension</th>\n",
       "      <th>release_pos_y</th>\n",
       "      <th>pitch_number</th>\n",
       "      <th>pitch_name</th>\n",
       "      <th>spin_axis</th>\n",
       "      <th>spray_angle</th>\n",
       "      <th>bat_speed</th>\n",
       "      <th>swing_length</th>\n",
       "      <th>outcome</th>\n",
       "      <th>outcome_code</th>\n",
       "    </tr>\n",
       "  </thead>\n",
       "  <tbody>\n",
       "    <tr>\n",
       "      <th>0</th>\n",
       "      <td>0</td>\n",
       "      <td>FF</td>\n",
       "      <td>93.3</td>\n",
       "      <td>2.01</td>\n",
       "      <td>5.77</td>\n",
       "      <td>R</td>\n",
       "      <td>1</td>\n",
       "      <td>0</td>\n",
       "      <td>0</td>\n",
       "      <td>0</td>\n",
       "      <td>...</td>\n",
       "      <td>6.7</td>\n",
       "      <td>53.80</td>\n",
       "      <td>1</td>\n",
       "      <td>4-Seam Fastball</td>\n",
       "      <td>136</td>\n",
       "      <td>32.304361</td>\n",
       "      <td>76.26113</td>\n",
       "      <td>7.97873</td>\n",
       "      <td>out</td>\n",
       "      <td>0</td>\n",
       "    </tr>\n",
       "    <tr>\n",
       "      <th>1</th>\n",
       "      <td>1</td>\n",
       "      <td>SL</td>\n",
       "      <td>86.1</td>\n",
       "      <td>2.00</td>\n",
       "      <td>5.84</td>\n",
       "      <td>R</td>\n",
       "      <td>1</td>\n",
       "      <td>1</td>\n",
       "      <td>1</td>\n",
       "      <td>2</td>\n",
       "      <td>...</td>\n",
       "      <td>6.6</td>\n",
       "      <td>53.87</td>\n",
       "      <td>4</td>\n",
       "      <td>Slider</td>\n",
       "      <td>126</td>\n",
       "      <td>14.241746</td>\n",
       "      <td>61.82557</td>\n",
       "      <td>7.87052</td>\n",
       "      <td>out</td>\n",
       "      <td>0</td>\n",
       "    </tr>\n",
       "    <tr>\n",
       "      <th>2</th>\n",
       "      <td>2</td>\n",
       "      <td>SI</td>\n",
       "      <td>92.7</td>\n",
       "      <td>-1.67</td>\n",
       "      <td>6.54</td>\n",
       "      <td>R</td>\n",
       "      <td>0</td>\n",
       "      <td>0</td>\n",
       "      <td>1</td>\n",
       "      <td>1</td>\n",
       "      <td>...</td>\n",
       "      <td>6.9</td>\n",
       "      <td>53.61</td>\n",
       "      <td>3</td>\n",
       "      <td>Sinker</td>\n",
       "      <td>209</td>\n",
       "      <td>-2.398097</td>\n",
       "      <td>69.42584</td>\n",
       "      <td>6.47008</td>\n",
       "      <td>single</td>\n",
       "      <td>1</td>\n",
       "    </tr>\n",
       "    <tr>\n",
       "      <th>3</th>\n",
       "      <td>3</td>\n",
       "      <td>FF</td>\n",
       "      <td>92.7</td>\n",
       "      <td>1.97</td>\n",
       "      <td>5.78</td>\n",
       "      <td>R</td>\n",
       "      <td>1</td>\n",
       "      <td>0</td>\n",
       "      <td>2</td>\n",
       "      <td>1</td>\n",
       "      <td>...</td>\n",
       "      <td>6.6</td>\n",
       "      <td>53.85</td>\n",
       "      <td>4</td>\n",
       "      <td>4-Seam Fastball</td>\n",
       "      <td>142</td>\n",
       "      <td>-4.906157</td>\n",
       "      <td>76.19749</td>\n",
       "      <td>8.03785</td>\n",
       "      <td>out</td>\n",
       "      <td>0</td>\n",
       "    </tr>\n",
       "    <tr>\n",
       "      <th>4</th>\n",
       "      <td>5</td>\n",
       "      <td>SL</td>\n",
       "      <td>85.7</td>\n",
       "      <td>2.13</td>\n",
       "      <td>5.80</td>\n",
       "      <td>R</td>\n",
       "      <td>1</td>\n",
       "      <td>0</td>\n",
       "      <td>0</td>\n",
       "      <td>2</td>\n",
       "      <td>...</td>\n",
       "      <td>6.7</td>\n",
       "      <td>53.83</td>\n",
       "      <td>3</td>\n",
       "      <td>Slider</td>\n",
       "      <td>313</td>\n",
       "      <td>35.167845</td>\n",
       "      <td>68.84496</td>\n",
       "      <td>6.37508</td>\n",
       "      <td>single</td>\n",
       "      <td>1</td>\n",
       "    </tr>\n",
       "  </tbody>\n",
       "</table>\n",
       "<p>5 rows × 41 columns</p>\n",
       "</div>"
      ],
      "text/plain": [
       "   uid pitch_type  release_speed  release_pos_x  release_pos_z game_type  \\\n",
       "0    0         FF           93.3           2.01           5.77         R   \n",
       "1    1         SL           86.1           2.00           5.84         R   \n",
       "2    2         SI           92.7          -1.67           6.54         R   \n",
       "3    3         FF           92.7           1.97           5.78         R   \n",
       "4    5         SL           85.7           2.13           5.80         R   \n",
       "\n",
       "   is_lhp  is_lhb  balls  strikes  ...  release_extension  release_pos_y  \\\n",
       "0       1       0      0        0  ...                6.7          53.80   \n",
       "1       1       1      1        2  ...                6.6          53.87   \n",
       "2       0       0      1        1  ...                6.9          53.61   \n",
       "3       1       0      2        1  ...                6.6          53.85   \n",
       "4       1       0      0        2  ...                6.7          53.83   \n",
       "\n",
       "   pitch_number       pitch_name  spin_axis  spray_angle  bat_speed  \\\n",
       "0             1  4-Seam Fastball        136    32.304361   76.26113   \n",
       "1             4           Slider        126    14.241746   61.82557   \n",
       "2             3           Sinker        209    -2.398097   69.42584   \n",
       "3             4  4-Seam Fastball        142    -4.906157   76.19749   \n",
       "4             3           Slider        313    35.167845   68.84496   \n",
       "\n",
       "   swing_length  outcome  outcome_code  \n",
       "0       7.97873      out             0  \n",
       "1       7.87052      out             0  \n",
       "2       6.47008   single             1  \n",
       "3       8.03785      out             0  \n",
       "4       6.37508   single             1  \n",
       "\n",
       "[5 rows x 41 columns]"
      ]
     },
     "execution_count": 4,
     "metadata": {},
     "output_type": "execute_result"
    }
   ],
   "source": [
    "train.head()"
   ]
  },
  {
   "cell_type": "code",
   "execution_count": 5,
   "metadata": {},
   "outputs": [
    {
     "data": {
      "text/html": [
       "<div>\n",
       "<style scoped>\n",
       "    .dataframe tbody tr th:only-of-type {\n",
       "        vertical-align: middle;\n",
       "    }\n",
       "\n",
       "    .dataframe tbody tr th {\n",
       "        vertical-align: top;\n",
       "    }\n",
       "\n",
       "    .dataframe thead th {\n",
       "        text-align: right;\n",
       "    }\n",
       "</style>\n",
       "<table border=\"1\" class=\"dataframe\">\n",
       "  <thead>\n",
       "    <tr style=\"text-align: right;\">\n",
       "      <th></th>\n",
       "      <th>uid</th>\n",
       "      <th>pitch_type</th>\n",
       "      <th>release_speed</th>\n",
       "      <th>release_pos_x</th>\n",
       "      <th>release_pos_z</th>\n",
       "      <th>game_type</th>\n",
       "      <th>is_lhp</th>\n",
       "      <th>is_lhb</th>\n",
       "      <th>balls</th>\n",
       "      <th>strikes</th>\n",
       "      <th>...</th>\n",
       "      <th>effective_speed</th>\n",
       "      <th>release_spin_rate</th>\n",
       "      <th>release_extension</th>\n",
       "      <th>release_pos_y</th>\n",
       "      <th>pitch_number</th>\n",
       "      <th>pitch_name</th>\n",
       "      <th>spin_axis</th>\n",
       "      <th>spray_angle</th>\n",
       "      <th>bat_speed</th>\n",
       "      <th>swing_length</th>\n",
       "    </tr>\n",
       "  </thead>\n",
       "  <tbody>\n",
       "    <tr>\n",
       "      <th>0</th>\n",
       "      <td>4</td>\n",
       "      <td>SL</td>\n",
       "      <td>85.4</td>\n",
       "      <td>2.20</td>\n",
       "      <td>5.63</td>\n",
       "      <td>R</td>\n",
       "      <td>1</td>\n",
       "      <td>1</td>\n",
       "      <td>3</td>\n",
       "      <td>2</td>\n",
       "      <td>...</td>\n",
       "      <td>87.0</td>\n",
       "      <td>2298</td>\n",
       "      <td>6.9</td>\n",
       "      <td>53.64</td>\n",
       "      <td>6</td>\n",
       "      <td>Slider</td>\n",
       "      <td>260</td>\n",
       "      <td>-31.164645</td>\n",
       "      <td>73.43104</td>\n",
       "      <td>6.87080</td>\n",
       "    </tr>\n",
       "    <tr>\n",
       "      <th>1</th>\n",
       "      <td>11</td>\n",
       "      <td>SL</td>\n",
       "      <td>87.3</td>\n",
       "      <td>2.10</td>\n",
       "      <td>5.82</td>\n",
       "      <td>R</td>\n",
       "      <td>1</td>\n",
       "      <td>0</td>\n",
       "      <td>1</td>\n",
       "      <td>2</td>\n",
       "      <td>...</td>\n",
       "      <td>87.9</td>\n",
       "      <td>2302</td>\n",
       "      <td>6.7</td>\n",
       "      <td>53.82</td>\n",
       "      <td>8</td>\n",
       "      <td>Slider</td>\n",
       "      <td>217</td>\n",
       "      <td>-33.681464</td>\n",
       "      <td>75.32171</td>\n",
       "      <td>7.48533</td>\n",
       "    </tr>\n",
       "    <tr>\n",
       "      <th>2</th>\n",
       "      <td>18</td>\n",
       "      <td>FF</td>\n",
       "      <td>94.9</td>\n",
       "      <td>2.05</td>\n",
       "      <td>5.71</td>\n",
       "      <td>R</td>\n",
       "      <td>1</td>\n",
       "      <td>1</td>\n",
       "      <td>3</td>\n",
       "      <td>2</td>\n",
       "      <td>...</td>\n",
       "      <td>96.2</td>\n",
       "      <td>2328</td>\n",
       "      <td>6.9</td>\n",
       "      <td>53.63</td>\n",
       "      <td>8</td>\n",
       "      <td>4-Seam Fastball</td>\n",
       "      <td>144</td>\n",
       "      <td>-17.218933</td>\n",
       "      <td>71.42883</td>\n",
       "      <td>6.91588</td>\n",
       "    </tr>\n",
       "    <tr>\n",
       "      <th>3</th>\n",
       "      <td>19</td>\n",
       "      <td>FF</td>\n",
       "      <td>89.2</td>\n",
       "      <td>-2.13</td>\n",
       "      <td>6.40</td>\n",
       "      <td>R</td>\n",
       "      <td>0</td>\n",
       "      <td>1</td>\n",
       "      <td>0</td>\n",
       "      <td>2</td>\n",
       "      <td>...</td>\n",
       "      <td>90.5</td>\n",
       "      <td>2233</td>\n",
       "      <td>6.8</td>\n",
       "      <td>53.71</td>\n",
       "      <td>3</td>\n",
       "      <td>4-Seam Fastball</td>\n",
       "      <td>215</td>\n",
       "      <td>0.671784</td>\n",
       "      <td>63.05006</td>\n",
       "      <td>6.00551</td>\n",
       "    </tr>\n",
       "    <tr>\n",
       "      <th>4</th>\n",
       "      <td>21</td>\n",
       "      <td>SL</td>\n",
       "      <td>83.2</td>\n",
       "      <td>-3.27</td>\n",
       "      <td>6.09</td>\n",
       "      <td>R</td>\n",
       "      <td>0</td>\n",
       "      <td>0</td>\n",
       "      <td>0</td>\n",
       "      <td>2</td>\n",
       "      <td>...</td>\n",
       "      <td>83.4</td>\n",
       "      <td>1966</td>\n",
       "      <td>6.2</td>\n",
       "      <td>54.30</td>\n",
       "      <td>3</td>\n",
       "      <td>Slider</td>\n",
       "      <td>182</td>\n",
       "      <td>1.550768</td>\n",
       "      <td>72.77345</td>\n",
       "      <td>8.18495</td>\n",
       "    </tr>\n",
       "  </tbody>\n",
       "</table>\n",
       "<p>5 rows × 39 columns</p>\n",
       "</div>"
      ],
      "text/plain": [
       "   uid pitch_type  release_speed  release_pos_x  release_pos_z game_type  \\\n",
       "0    4         SL           85.4           2.20           5.63         R   \n",
       "1   11         SL           87.3           2.10           5.82         R   \n",
       "2   18         FF           94.9           2.05           5.71         R   \n",
       "3   19         FF           89.2          -2.13           6.40         R   \n",
       "4   21         SL           83.2          -3.27           6.09         R   \n",
       "\n",
       "   is_lhp  is_lhb  balls  strikes  ...  effective_speed  release_spin_rate  \\\n",
       "0       1       1      3        2  ...             87.0               2298   \n",
       "1       1       0      1        2  ...             87.9               2302   \n",
       "2       1       1      3        2  ...             96.2               2328   \n",
       "3       0       1      0        2  ...             90.5               2233   \n",
       "4       0       0      0        2  ...             83.4               1966   \n",
       "\n",
       "   release_extension  release_pos_y  pitch_number       pitch_name  spin_axis  \\\n",
       "0                6.9          53.64             6           Slider        260   \n",
       "1                6.7          53.82             8           Slider        217   \n",
       "2                6.9          53.63             8  4-Seam Fastball        144   \n",
       "3                6.8          53.71             3  4-Seam Fastball        215   \n",
       "4                6.2          54.30             3           Slider        182   \n",
       "\n",
       "   spray_angle  bat_speed  swing_length  \n",
       "0   -31.164645   73.43104       6.87080  \n",
       "1   -33.681464   75.32171       7.48533  \n",
       "2   -17.218933   71.42883       6.91588  \n",
       "3     0.671784   63.05006       6.00551  \n",
       "4     1.550768   72.77345       8.18495  \n",
       "\n",
       "[5 rows x 39 columns]"
      ]
     },
     "execution_count": 5,
     "metadata": {},
     "output_type": "execute_result"
    }
   ],
   "source": [
    "test.head()"
   ]
  },
  {
   "cell_type": "code",
   "execution_count": 6,
   "metadata": {},
   "outputs": [
    {
     "data": {
      "text/plain": [
       "((50000, 41), (14220, 39))"
      ]
     },
     "execution_count": 6,
     "metadata": {},
     "output_type": "execute_result"
    }
   ],
   "source": [
    "train.shape, test.shape"
   ]
  },
  {
   "cell_type": "code",
   "execution_count": 7,
   "metadata": {},
   "outputs": [],
   "source": [
    "train = train.drop(['outcome'], axis = 1)\n",
    "# test = test.drop(['uid'], axis = 1)"
   ]
  },
  {
   "cell_type": "code",
   "execution_count": 8,
   "metadata": {},
   "outputs": [
    {
     "data": {
      "text/plain": [
       "False"
      ]
     },
     "execution_count": 8,
     "metadata": {},
     "output_type": "execute_result"
    }
   ],
   "source": [
    "train.duplicated().any().any()"
   ]
  },
  {
   "cell_type": "code",
   "execution_count": 9,
   "metadata": {},
   "outputs": [
    {
     "name": "stdout",
     "output_type": "stream",
     "text": [
      "1\n",
      "['CS']\n",
      "0\n",
      "[]\n",
      "1\n",
      "['Slow Curve']\n"
     ]
    }
   ],
   "source": [
    "cat_features = test.select_dtypes(include='object').columns.tolist()\n",
    "initial_features = list(test.columns)\n",
    "for feature in initial_features:\n",
    "    if feature in cat_features:    \n",
    "        categories = sorted(set(test[feature].dropna()))\n",
    "        dtype = pd.CategoricalDtype(categories=categories, ordered=False)\n",
    "        print(sum(~np.isin(test[feature].unique(),train[feature].unique())))\n",
    "        print(test[feature].unique()[~np.isin(test[feature].unique(),train[feature].unique())])\n",
    "        train.loc[~train[feature].isin(categories),feature] = np.nan\n",
    "        train[feature] = train[feature].astype(dtype)     \n",
    "        test[feature] = test[feature].astype(dtype)"
   ]
  },
  {
   "cell_type": "code",
   "execution_count": 10,
   "metadata": {},
   "outputs": [],
   "source": [
    "initial_features = list(test.columns)"
   ]
  },
  {
   "cell_type": "code",
   "execution_count": 11,
   "metadata": {},
   "outputs": [
    {
     "data": {
      "image/png": "[encoded data removed]",
      "text/plain": [
       "<Figure size 2000x2400 with 40 Axes>"
      ]
     },
     "metadata": {},
     "output_type": "display_data"
    }
   ],
   "source": [
    "fig, axs = plt.subplots(10,4, figsize=(20,4*6))\n",
    "for col, ax in zip(initial_features,axs.ravel()):\n",
    "    if train[col].dtype=='float':\n",
    "        ax.hist(train[col],color='g',bins=200) \n",
    "#         ax.text(0.95,0.95,f'skew: {train[col].skew()}', transform=ax.transAxes,\n",
    "#                 fontsize=12, verticalalignment='top', horizontalalignment='right')\n",
    "    elif train[col].dtype=='category':\n",
    "        vc =train[col].value_counts()/len(train)\n",
    "        ax.bar(vc.index,vc,color='black')\n",
    "        ax.yaxis.set_major_formatter('{x:.0%}')\n",
    "        if len(vc)<=15:\n",
    "            ax.set_xticks(np.arange(len(train[col].dtype.categories)), train[col].dtype.categories,rotation=90)\n",
    "        \n",
    "        else:\n",
    "            ax.set_xticks([])\n",
    "    else: \n",
    "        vc = train[col].value_counts()/len(train)\n",
    "        \n",
    "        ax.yaxis.set_major_formatter('{x:.0%}')\n",
    "        if len(vc)<=30:\n",
    "            ax.bar(vc.index, vc, color='blue')            \n",
    "            ax.xaxis.set_major_locator(MaxNLocator(integer=True))\n",
    "        else:\n",
    "            ax.hist(train[col],color='blue',bins=120,density=True)            \n",
    "    ax.set_title(f'{col}')\n",
    "axs.flat[-1].set_visible(False)\n",
    "axs.flat[-2].set_visible(False)\n",
    "plt.tight_layout()    \n",
    "#plt.subplots_adjust(hspace=0.5)\n",
    "plt.show()"
   ]
  },
  {
   "cell_type": "code",
   "execution_count": 12,
   "metadata": {},
   "outputs": [],
   "source": [
    "drop_cols = ['game_year','game_type']\n",
    "target = 'outcome_code'"
   ]
  },
  {
   "cell_type": "code",
   "execution_count": 13,
   "metadata": {},
   "outputs": [],
   "source": [
    "train = train.drop(drop_cols, axis = 1)\n",
    "train = train.drop(['uid'], axis = 1)\n",
    "test = test.drop(drop_cols, axis = 1)\n",
    "cat_features = test.select_dtypes(include = 'category').columns.tolist()\n",
    "initial_features = train.columns[:-1].tolist()"
   ]
  },
  {
   "cell_type": "code",
   "execution_count": 14,
   "metadata": {},
   "outputs": [
    {
     "name": "stdout",
     "output_type": "stream",
     "text": [
      "36\n"
     ]
    }
   ],
   "source": [
    "print(len(initial_features))"
   ]
  },
  {
   "cell_type": "code",
   "execution_count": 15,
   "metadata": {},
   "outputs": [
    {
     "data": {
      "text/plain": [
       "Text(0.5, 1.0, 'Targets')"
      ]
     },
     "execution_count": 15,
     "metadata": {},
     "output_type": "execute_result"
    },
    {
     "data": {
      "image/png": "[encoded data removed]",
      "text/plain": [
       "<Figure size 800x300 with 2 Axes>"
      ]
     },
     "metadata": {},
     "output_type": "display_data"
    }
   ],
   "source": [
    "_, axs = plt.subplots(1, 2, figsize=(8, 3))\n",
    "ax = axs.ravel()\n",
    "vc = train[target].value_counts()/len(train)\n",
    "ax[0].bar(vc.index, vc, color='lightblue')\n",
    "ax[0].bar_label(ax[0].containers[0], label_type='center', color='red')\n",
    "ax[0].yaxis.set_major_formatter('{x:.0%}')\n",
    "vc = train[target].value_counts()\n",
    "ax[1].pie(vc,labels=vc.index, autopct='%.0f%%')\n",
    "plt.title('Targets')"
   ]
  },
  {
   "cell_type": "markdown",
   "metadata": {},
   "source": [
    "### Original Modeling"
   ]
  },
  {
   "cell_type": "code",
   "execution_count": 16,
   "metadata": {},
   "outputs": [],
   "source": [
    "X = train.drop([target], axis = 1)\n",
    "y = train[target]"
   ]
  },
  {
   "cell_type": "code",
   "execution_count": 17,
   "metadata": {},
   "outputs": [
    {
     "data": {
      "text/plain": [
       "Index(['pitch_type', 'release_speed', 'release_pos_x', 'release_pos_z',\n",
       "       'is_lhp', 'is_lhb', 'balls', 'strikes', 'pfx_x', 'pfx_z', 'plate_x',\n",
       "       'plate_z', 'on_3b', 'on_2b', 'on_1b', 'outs_when_up', 'inning',\n",
       "       'is_top', 'vx0', 'vy0', 'vz0', 'ax', 'ay', 'az', 'sz_top', 'sz_bot',\n",
       "       'effective_speed', 'release_spin_rate', 'release_extension',\n",
       "       'release_pos_y', 'pitch_number', 'pitch_name', 'spin_axis',\n",
       "       'spray_angle', 'bat_speed', 'swing_length'],\n",
       "      dtype='object')"
      ]
     },
     "execution_count": 17,
     "metadata": {},
     "output_type": "execute_result"
    }
   ],
   "source": [
    "X.columns"
   ]
  },
  {
   "cell_type": "code",
   "execution_count": 18,
   "metadata": {},
   "outputs": [
    {
     "data": {
      "text/plain": [
       "['pitch_type', 'pitch_name']"
      ]
     },
     "execution_count": 18,
     "metadata": {},
     "output_type": "execute_result"
    }
   ],
   "source": [
    "X.select_dtypes(include='category').columns.tolist()"
   ]
  },
  {
   "cell_type": "code",
   "execution_count": 19,
   "metadata": {},
   "outputs": [],
   "source": [
    "for feature in cat_features:\n",
    "    # For training data\n",
    "    if X[feature].dtype.name == 'category':\n",
    "        # Add 'Unknown' to categories if it's not already there\n",
    "        if 'Unknown' not in X[feature].cat.categories:\n",
    "            X[feature] = X[feature].cat.add_categories('Unknown')\n",
    "        X[feature] = X[feature].fillna('Unknown')\n",
    "    else:\n",
    "        X[feature] = X[feature].fillna('Unknown').astype('category')\n",
    "    \n",
    "    # For test data\n",
    "    if test[feature].dtype.name == 'category':\n",
    "        # Ensure all categories from training data are in test data\n",
    "        test[feature] = test[feature].cat.add_categories(X[feature].cat.categories.difference(test[feature].cat.categories))\n",
    "        if 'Unknown' not in test[feature].cat.categories:\n",
    "            test[feature] = test[feature].cat.add_categories('Unknown')\n",
    "        test[feature] = test[feature].fillna('Unknown')\n",
    "    else:\n",
    "        test[feature] = test[feature].fillna('Unknown').astype('category')\n",
    "    \n",
    "    # Ensure both train and test have the same categories\n",
    "    all_categories = X[feature].cat.categories.union(test[feature].cat.categories)\n",
    "    X[feature] = X[feature].cat.set_categories(all_categories)\n",
    "    test[feature] = test[feature].cat.set_categories(all_categories)"
   ]
  },
  {
   "cell_type": "code",
   "execution_count": 20,
   "metadata": {},
   "outputs": [],
   "source": [
    "def custom_cross_validate_v1(model, X, y, cv, model_path, fit_params = {}):\n",
    "\n",
    "    for fold, (train_idx, val_idx) in enumerate(cv.split(X, y)):\n",
    "        fold_model = clone(model)\n",
    "\n",
    "        X_train, X_val = X.iloc[train_idx], X.iloc[val_idx]\n",
    "        y_train, y_val = y.iloc[train_idx], y.iloc[val_idx]\n",
    "\n",
    "        fit_params['eval_set'] = [(X_val, y_val)]\n",
    "        \n",
    "        # Fit the model with categorical features\n",
    "        fold_model.fit(X_train, y_train, **fit_params)\n",
    "        \n",
    "        # Predict probabilities for the validation set\n",
    "        y_preds = fold_model.predict(X_val)\n",
    "        y_preds_prob = fold_model.predict_proba(X_val)\n",
    "        \n",
    "        # Calculate and print AUC for the current fold\n",
    "        auc_score = roc_auc_score(y_val, y_preds_prob, multi_class = 'ovr')\n",
    "        print(f\"Fold {fold + 1} - AUC: {auc_score:.4f}\\n\")\n",
    "        print(classification_report(y_val, y_preds))\n",
    "        print('----------------------------------------------\\n')\n",
    "\n",
    "        joblib.dump(fold_model, model_path + f'fold{fold + 1}.pkl')"
   ]
  },
  {
   "cell_type": "code",
   "execution_count": 21,
   "metadata": {},
   "outputs": [
    {
     "data": {
      "text/plain": [
       "['pitch_type', 'pitch_name']"
      ]
     },
     "execution_count": 21,
     "metadata": {},
     "output_type": "execute_result"
    }
   ],
   "source": [
    "cat_features"
   ]
  },
  {
   "cell_type": "code",
   "execution_count": 22,
   "metadata": {},
   "outputs": [
    {
     "data": {
      "text/plain": [
       "False"
      ]
     },
     "execution_count": 22,
     "metadata": {},
     "output_type": "execute_result"
    }
   ],
   "source": [
    "X.isna().any().any()"
   ]
  },
  {
   "cell_type": "markdown",
   "metadata": {},
   "source": [
    "##### CatBoost Modeling"
   ]
  },
  {
   "cell_type": "code",
   "execution_count": 27,
   "metadata": {},
   "outputs": [
    {
     "name": "stderr",
     "output_type": "stream",
     "text": [
      "Default metric period is 5 because AUC is/are not implemented for GPU\n",
      "AUC is not implemented on GPU. Will use CPU for metric computation, this could significantly affect learning time\n"
     ]
    },
    {
     "name": "stdout",
     "output_type": "stream",
     "text": [
      "Fold 1 - AUC: 0.7339\n",
      "\n",
      "              precision    recall  f1-score   support\n",
      "\n",
      "           0       0.68      0.99      0.81      6797\n",
      "           1       0.35      0.01      0.02      2081\n",
      "           2       0.45      0.09      0.15       633\n",
      "           3       0.00      0.00      0.00        56\n",
      "           4       0.30      0.01      0.01       433\n",
      "\n",
      "    accuracy                           0.68     10000\n",
      "   macro avg       0.36      0.22      0.20     10000\n",
      "weighted avg       0.58      0.68      0.56     10000\n",
      "\n",
      "----------------------------------------------\n",
      "\n"
     ]
    },
    {
     "name": "stderr",
     "output_type": "stream",
     "text": [
      "c:\\Users\\citioplab\\works\\codes\\plant\\plant_venv\\Lib\\site-packages\\sklearn\\metrics\\_classification.py:1531: UndefinedMetricWarning: Precision is ill-defined and being set to 0.0 in labels with no predicted samples. Use `zero_division` parameter to control this behavior.\n",
      "  _warn_prf(average, modifier, f\"{metric.capitalize()} is\", len(result))\n",
      "c:\\Users\\citioplab\\works\\codes\\plant\\plant_venv\\Lib\\site-packages\\sklearn\\metrics\\_classification.py:1531: UndefinedMetricWarning: Precision is ill-defined and being set to 0.0 in labels with no predicted samples. Use `zero_division` parameter to control this behavior.\n",
      "  _warn_prf(average, modifier, f\"{metric.capitalize()} is\", len(result))\n",
      "c:\\Users\\citioplab\\works\\codes\\plant\\plant_venv\\Lib\\site-packages\\sklearn\\metrics\\_classification.py:1531: UndefinedMetricWarning: Precision is ill-defined and being set to 0.0 in labels with no predicted samples. Use `zero_division` parameter to control this behavior.\n",
      "  _warn_prf(average, modifier, f\"{metric.capitalize()} is\", len(result))\n",
      "Default metric period is 5 because AUC is/are not implemented for GPU\n",
      "AUC is not implemented on GPU. Will use CPU for metric computation, this could significantly affect learning time\n"
     ]
    },
    {
     "name": "stdout",
     "output_type": "stream",
     "text": [
      "Fold 2 - AUC: 0.7510\n",
      "\n",
      "              precision    recall  f1-score   support\n",
      "\n",
      "           0       0.68      1.00      0.81      6796\n",
      "           1       0.50      0.00      0.00      2082\n",
      "           2       0.50      0.09      0.15       632\n",
      "           3       0.00      0.00      0.00        56\n",
      "           4       0.33      0.00      0.00       434\n",
      "\n",
      "    accuracy                           0.68     10000\n",
      "   macro avg       0.40      0.22      0.19     10000\n",
      "weighted avg       0.62      0.68      0.56     10000\n",
      "\n",
      "----------------------------------------------\n",
      "\n"
     ]
    },
    {
     "name": "stderr",
     "output_type": "stream",
     "text": [
      "c:\\Users\\citioplab\\works\\codes\\plant\\plant_venv\\Lib\\site-packages\\sklearn\\metrics\\_classification.py:1531: UndefinedMetricWarning: Precision is ill-defined and being set to 0.0 in labels with no predicted samples. Use `zero_division` parameter to control this behavior.\n",
      "  _warn_prf(average, modifier, f\"{metric.capitalize()} is\", len(result))\n",
      "c:\\Users\\citioplab\\works\\codes\\plant\\plant_venv\\Lib\\site-packages\\sklearn\\metrics\\_classification.py:1531: UndefinedMetricWarning: Precision is ill-defined and being set to 0.0 in labels with no predicted samples. Use `zero_division` parameter to control this behavior.\n",
      "  _warn_prf(average, modifier, f\"{metric.capitalize()} is\", len(result))\n",
      "c:\\Users\\citioplab\\works\\codes\\plant\\plant_venv\\Lib\\site-packages\\sklearn\\metrics\\_classification.py:1531: UndefinedMetricWarning: Precision is ill-defined and being set to 0.0 in labels with no predicted samples. Use `zero_division` parameter to control this behavior.\n",
      "  _warn_prf(average, modifier, f\"{metric.capitalize()} is\", len(result))\n",
      "Default metric period is 5 because AUC is/are not implemented for GPU\n",
      "AUC is not implemented on GPU. Will use CPU for metric computation, this could significantly affect learning time\n"
     ]
    },
    {
     "name": "stdout",
     "output_type": "stream",
     "text": [
      "Fold 3 - AUC: 0.7354\n",
      "\n",
      "              precision    recall  f1-score   support\n",
      "\n",
      "           0       0.68      0.99      0.81      6796\n",
      "           1       0.56      0.01      0.01      2082\n",
      "           2       0.43      0.08      0.13       632\n",
      "           3       0.00      0.00      0.00        57\n",
      "           4       0.00      0.00      0.00       433\n",
      "\n",
      "    accuracy                           0.68     10000\n",
      "   macro avg       0.33      0.22      0.19     10000\n",
      "weighted avg       0.61      0.68      0.56     10000\n",
      "\n",
      "----------------------------------------------\n",
      "\n"
     ]
    },
    {
     "name": "stderr",
     "output_type": "stream",
     "text": [
      "c:\\Users\\citioplab\\works\\codes\\plant\\plant_venv\\Lib\\site-packages\\sklearn\\metrics\\_classification.py:1531: UndefinedMetricWarning: Precision is ill-defined and being set to 0.0 in labels with no predicted samples. Use `zero_division` parameter to control this behavior.\n",
      "  _warn_prf(average, modifier, f\"{metric.capitalize()} is\", len(result))\n",
      "c:\\Users\\citioplab\\works\\codes\\plant\\plant_venv\\Lib\\site-packages\\sklearn\\metrics\\_classification.py:1531: UndefinedMetricWarning: Precision is ill-defined and being set to 0.0 in labels with no predicted samples. Use `zero_division` parameter to control this behavior.\n",
      "  _warn_prf(average, modifier, f\"{metric.capitalize()} is\", len(result))\n",
      "c:\\Users\\citioplab\\works\\codes\\plant\\plant_venv\\Lib\\site-packages\\sklearn\\metrics\\_classification.py:1531: UndefinedMetricWarning: Precision is ill-defined and being set to 0.0 in labels with no predicted samples. Use `zero_division` parameter to control this behavior.\n",
      "  _warn_prf(average, modifier, f\"{metric.capitalize()} is\", len(result))\n",
      "Default metric period is 5 because AUC is/are not implemented for GPU\n",
      "AUC is not implemented on GPU. Will use CPU for metric computation, this could significantly affect learning time\n"
     ]
    },
    {
     "name": "stdout",
     "output_type": "stream",
     "text": [
      "Fold 4 - AUC: 0.7265\n",
      "\n",
      "              precision    recall  f1-score   support\n",
      "\n",
      "           0       0.68      0.99      0.81      6796\n",
      "           1       0.50      0.00      0.00      2082\n",
      "           2       0.45      0.07      0.12       632\n",
      "           3       0.00      0.00      0.00        57\n",
      "           4       0.00      0.00      0.00       433\n",
      "\n",
      "    accuracy                           0.68     10000\n",
      "   macro avg       0.33      0.21      0.19     10000\n",
      "weighted avg       0.60      0.68      0.56     10000\n",
      "\n",
      "----------------------------------------------\n",
      "\n"
     ]
    },
    {
     "name": "stderr",
     "output_type": "stream",
     "text": [
      "c:\\Users\\citioplab\\works\\codes\\plant\\plant_venv\\Lib\\site-packages\\sklearn\\metrics\\_classification.py:1531: UndefinedMetricWarning: Precision is ill-defined and being set to 0.0 in labels with no predicted samples. Use `zero_division` parameter to control this behavior.\n",
      "  _warn_prf(average, modifier, f\"{metric.capitalize()} is\", len(result))\n",
      "c:\\Users\\citioplab\\works\\codes\\plant\\plant_venv\\Lib\\site-packages\\sklearn\\metrics\\_classification.py:1531: UndefinedMetricWarning: Precision is ill-defined and being set to 0.0 in labels with no predicted samples. Use `zero_division` parameter to control this behavior.\n",
      "  _warn_prf(average, modifier, f\"{metric.capitalize()} is\", len(result))\n",
      "c:\\Users\\citioplab\\works\\codes\\plant\\plant_venv\\Lib\\site-packages\\sklearn\\metrics\\_classification.py:1531: UndefinedMetricWarning: Precision is ill-defined and being set to 0.0 in labels with no predicted samples. Use `zero_division` parameter to control this behavior.\n",
      "  _warn_prf(average, modifier, f\"{metric.capitalize()} is\", len(result))\n",
      "Default metric period is 5 because AUC is/are not implemented for GPU\n",
      "AUC is not implemented on GPU. Will use CPU for metric computation, this could significantly affect learning time\n"
     ]
    },
    {
     "name": "stdout",
     "output_type": "stream",
     "text": [
      "Fold 5 - AUC: 0.7413\n",
      "\n",
      "              precision    recall  f1-score   support\n",
      "\n",
      "           0       0.68      0.99      0.81      6796\n",
      "           1       0.37      0.00      0.01      2081\n",
      "           2       0.45      0.06      0.11       633\n",
      "           3       0.00      0.00      0.00        57\n",
      "           4       0.00      0.00      0.00       433\n",
      "\n",
      "    accuracy                           0.68     10000\n",
      "   macro avg       0.30      0.21      0.19     10000\n",
      "weighted avg       0.57      0.68      0.56     10000\n",
      "\n",
      "----------------------------------------------\n",
      "\n"
     ]
    },
    {
     "name": "stderr",
     "output_type": "stream",
     "text": [
      "c:\\Users\\citioplab\\works\\codes\\plant\\plant_venv\\Lib\\site-packages\\sklearn\\metrics\\_classification.py:1531: UndefinedMetricWarning: Precision is ill-defined and being set to 0.0 in labels with no predicted samples. Use `zero_division` parameter to control this behavior.\n",
      "  _warn_prf(average, modifier, f\"{metric.capitalize()} is\", len(result))\n",
      "c:\\Users\\citioplab\\works\\codes\\plant\\plant_venv\\Lib\\site-packages\\sklearn\\metrics\\_classification.py:1531: UndefinedMetricWarning: Precision is ill-defined and being set to 0.0 in labels with no predicted samples. Use `zero_division` parameter to control this behavior.\n",
      "  _warn_prf(average, modifier, f\"{metric.capitalize()} is\", len(result))\n",
      "c:\\Users\\citioplab\\works\\codes\\plant\\plant_venv\\Lib\\site-packages\\sklearn\\metrics\\_classification.py:1531: UndefinedMetricWarning: Precision is ill-defined and being set to 0.0 in labels with no predicted samples. Use `zero_division` parameter to control this behavior.\n",
      "  _warn_prf(average, modifier, f\"{metric.capitalize()} is\", len(result))\n"
     ]
    }
   ],
   "source": [
    "kf = StratifiedKFold(n_splits = 5, shuffle = True, random_state = seed)\n",
    "model_path = './saved_models/catboost/'\n",
    "cb_model = cb.CatBoostClassifier(iterations = 1000, learning_rate = 0.05, random_state = seed, eval_metric = 'AUC', verbose = False, cat_features = cat_features, task_type = \"GPU\")\n",
    "custom_cross_validate_v1(cb_model, X, y, kf, model_path)"
   ]
  },
  {
   "cell_type": "code",
   "execution_count": 28,
   "metadata": {},
   "outputs": [],
   "source": [
    "selected_fold = 2\n",
    "final_model_path = model_path + f'fold{selected_fold}.pkl'\n",
    "final_model = joblib.load(final_model_path)\n",
    "final_preds = final_model.predict_proba(test.drop(['uid'], axis = 1))"
   ]
  },
  {
   "cell_type": "code",
   "execution_count": 29,
   "metadata": {},
   "outputs": [],
   "source": [
    "submission = pd.DataFrame({\n",
    "    'uid': test['uid'],\n",
    "    'out': final_preds[:, 0],\n",
    "    'single': final_preds[:, 1],\n",
    "    'double': final_preds[:, 2],\n",
    "    'triple': final_preds[:, 3],\n",
    "    'home_run': final_preds[:, 4]\n",
    "})"
   ]
  },
  {
   "cell_type": "code",
   "execution_count": 30,
   "metadata": {},
   "outputs": [],
   "source": [
    "submission.to_csv('./submissions/first_attempt.csv', index = False)"
   ]
  },
  {
   "cell_type": "markdown",
   "metadata": {},
   "source": [
    "Submission results<br>\n",
    "Public Score: 0.72142<br>\n",
    "Private Score: 0.73799"
   ]
  },
  {
   "cell_type": "markdown",
   "metadata": {},
   "source": [
    "Try to use voting method"
   ]
  },
  {
   "cell_type": "code",
   "execution_count": 30,
   "metadata": {},
   "outputs": [],
   "source": [
    "model_path = './saved_models/catboost/'\n",
    "total_fold_preds = []\n",
    "\n",
    "for i in range(1, 6):\n",
    "    fold_path = model_path + f'fold{i}.pkl'\n",
    "    fold_model = joblib.load(fold_path)\n",
    "    fold_preds = fold_model.predict_proba(test.drop(['uid'], axis = 1))\n",
    "    total_fold_preds.append(fold_preds)\n",
    "\n",
    "total_fold_preds = np.array(total_fold_preds)"
   ]
  },
  {
   "cell_type": "code",
   "execution_count": 36,
   "metadata": {},
   "outputs": [
    {
     "data": {
      "text/plain": [
       "(5, 14220, 5)"
      ]
     },
     "execution_count": 36,
     "metadata": {},
     "output_type": "execute_result"
    }
   ],
   "source": [
    "total_fold_preds.shape"
   ]
  },
  {
   "cell_type": "code",
   "execution_count": 40,
   "metadata": {},
   "outputs": [],
   "source": [
    "final_preds = np.mean(total_fold_preds, axis = 0)"
   ]
  },
  {
   "cell_type": "code",
   "execution_count": 41,
   "metadata": {},
   "outputs": [],
   "source": [
    "submission = pd.DataFrame({\n",
    "    'uid': test['uid'],\n",
    "    'out': final_preds[:, 0],\n",
    "    'single': final_preds[:, 1],\n",
    "    'double': final_preds[:, 2],\n",
    "    'triple': final_preds[:, 3],\n",
    "    'home_run': final_preds[:, 4]\n",
    "})"
   ]
  },
  {
   "cell_type": "code",
   "execution_count": 43,
   "metadata": {},
   "outputs": [],
   "source": [
    "submission.to_csv('./submissions/eighth_attempt.csv', index = False)"
   ]
  },
  {
   "cell_type": "markdown",
   "metadata": {},
   "source": [
    "Submission results<br>\n",
    "Public Score: 0.72635<br>\n",
    "Private Score: 0.74334"
   ]
  },
  {
   "cell_type": "markdown",
   "metadata": {},
   "source": [
    "##### LightGBM Modeling"
   ]
  },
  {
   "cell_type": "code",
   "execution_count": 45,
   "metadata": {},
   "outputs": [
    {
     "name": "stdout",
     "output_type": "stream",
     "text": [
      "Fold 1 - AUC: 0.7155\n",
      "\n",
      "              precision    recall  f1-score   support\n",
      "\n",
      "           0       0.68      0.99      0.81      6797\n",
      "           1       0.32      0.01      0.02      2081\n",
      "           2       0.42      0.07      0.11       633\n",
      "           3       0.00      0.00      0.00        56\n",
      "           4       0.22      0.00      0.01       433\n",
      "\n",
      "    accuracy                           0.68     10000\n",
      "   macro avg       0.33      0.21      0.19     10000\n",
      "weighted avg       0.57      0.68      0.56     10000\n",
      "\n",
      "----------------------------------------------\n",
      "\n"
     ]
    },
    {
     "name": "stderr",
     "output_type": "stream",
     "text": [
      "c:\\Users\\citioplab\\works\\codes\\plant\\plant_venv\\Lib\\site-packages\\sklearn\\metrics\\_classification.py:1531: UndefinedMetricWarning: Precision is ill-defined and being set to 0.0 in labels with no predicted samples. Use `zero_division` parameter to control this behavior.\n",
      "  _warn_prf(average, modifier, f\"{metric.capitalize()} is\", len(result))\n",
      "c:\\Users\\citioplab\\works\\codes\\plant\\plant_venv\\Lib\\site-packages\\sklearn\\metrics\\_classification.py:1531: UndefinedMetricWarning: Precision is ill-defined and being set to 0.0 in labels with no predicted samples. Use `zero_division` parameter to control this behavior.\n",
      "  _warn_prf(average, modifier, f\"{metric.capitalize()} is\", len(result))\n",
      "c:\\Users\\citioplab\\works\\codes\\plant\\plant_venv\\Lib\\site-packages\\sklearn\\metrics\\_classification.py:1531: UndefinedMetricWarning: Precision is ill-defined and being set to 0.0 in labels with no predicted samples. Use `zero_division` parameter to control this behavior.\n",
      "  _warn_prf(average, modifier, f\"{metric.capitalize()} is\", len(result))\n"
     ]
    },
    {
     "name": "stdout",
     "output_type": "stream",
     "text": [
      "Fold 2 - AUC: 0.7187\n",
      "\n",
      "              precision    recall  f1-score   support\n",
      "\n",
      "           0       0.68      0.99      0.81      6796\n",
      "           1       0.40      0.01      0.02      2082\n",
      "           2       0.47      0.08      0.13       632\n",
      "           3       0.00      0.00      0.00        56\n",
      "           4       0.41      0.02      0.03       434\n",
      "\n",
      "    accuracy                           0.68     10000\n",
      "   macro avg       0.39      0.22      0.20     10000\n",
      "weighted avg       0.60      0.68      0.56     10000\n",
      "\n",
      "----------------------------------------------\n",
      "\n"
     ]
    },
    {
     "name": "stderr",
     "output_type": "stream",
     "text": [
      "c:\\Users\\citioplab\\works\\codes\\plant\\plant_venv\\Lib\\site-packages\\sklearn\\metrics\\_classification.py:1531: UndefinedMetricWarning: Precision is ill-defined and being set to 0.0 in labels with no predicted samples. Use `zero_division` parameter to control this behavior.\n",
      "  _warn_prf(average, modifier, f\"{metric.capitalize()} is\", len(result))\n",
      "c:\\Users\\citioplab\\works\\codes\\plant\\plant_venv\\Lib\\site-packages\\sklearn\\metrics\\_classification.py:1531: UndefinedMetricWarning: Precision is ill-defined and being set to 0.0 in labels with no predicted samples. Use `zero_division` parameter to control this behavior.\n",
      "  _warn_prf(average, modifier, f\"{metric.capitalize()} is\", len(result))\n",
      "c:\\Users\\citioplab\\works\\codes\\plant\\plant_venv\\Lib\\site-packages\\sklearn\\metrics\\_classification.py:1531: UndefinedMetricWarning: Precision is ill-defined and being set to 0.0 in labels with no predicted samples. Use `zero_division` parameter to control this behavior.\n",
      "  _warn_prf(average, modifier, f\"{metric.capitalize()} is\", len(result))\n"
     ]
    },
    {
     "name": "stdout",
     "output_type": "stream",
     "text": [
      "Fold 3 - AUC: 0.7037\n",
      "\n",
      "              precision    recall  f1-score   support\n",
      "\n",
      "           0       0.69      0.99      0.81      6796\n",
      "           1       0.41      0.01      0.03      2082\n",
      "           2       0.43      0.08      0.14       632\n",
      "           3       0.00      0.00      0.00        57\n",
      "           4       0.42      0.02      0.04       433\n",
      "\n",
      "    accuracy                           0.68     10000\n",
      "   macro avg       0.39      0.22      0.20     10000\n",
      "weighted avg       0.60      0.68      0.57     10000\n",
      "\n",
      "----------------------------------------------\n",
      "\n"
     ]
    },
    {
     "name": "stderr",
     "output_type": "stream",
     "text": [
      "c:\\Users\\citioplab\\works\\codes\\plant\\plant_venv\\Lib\\site-packages\\sklearn\\metrics\\_classification.py:1531: UndefinedMetricWarning: Precision is ill-defined and being set to 0.0 in labels with no predicted samples. Use `zero_division` parameter to control this behavior.\n",
      "  _warn_prf(average, modifier, f\"{metric.capitalize()} is\", len(result))\n",
      "c:\\Users\\citioplab\\works\\codes\\plant\\plant_venv\\Lib\\site-packages\\sklearn\\metrics\\_classification.py:1531: UndefinedMetricWarning: Precision is ill-defined and being set to 0.0 in labels with no predicted samples. Use `zero_division` parameter to control this behavior.\n",
      "  _warn_prf(average, modifier, f\"{metric.capitalize()} is\", len(result))\n",
      "c:\\Users\\citioplab\\works\\codes\\plant\\plant_venv\\Lib\\site-packages\\sklearn\\metrics\\_classification.py:1531: UndefinedMetricWarning: Precision is ill-defined and being set to 0.0 in labels with no predicted samples. Use `zero_division` parameter to control this behavior.\n",
      "  _warn_prf(average, modifier, f\"{metric.capitalize()} is\", len(result))\n"
     ]
    },
    {
     "name": "stdout",
     "output_type": "stream",
     "text": [
      "Fold 4 - AUC: 0.6978\n",
      "\n",
      "              precision    recall  f1-score   support\n",
      "\n",
      "           0       0.68      0.99      0.81      6796\n",
      "           1       0.36      0.01      0.02      2082\n",
      "           2       0.32      0.06      0.09       632\n",
      "           3       0.00      0.00      0.00        57\n",
      "           4       0.20      0.00      0.01       433\n",
      "\n",
      "    accuracy                           0.68     10000\n",
      "   macro avg       0.31      0.21      0.19     10000\n",
      "weighted avg       0.57      0.68      0.56     10000\n",
      "\n",
      "----------------------------------------------\n",
      "\n"
     ]
    },
    {
     "name": "stderr",
     "output_type": "stream",
     "text": [
      "c:\\Users\\citioplab\\works\\codes\\plant\\plant_venv\\Lib\\site-packages\\sklearn\\metrics\\_classification.py:1531: UndefinedMetricWarning: Precision is ill-defined and being set to 0.0 in labels with no predicted samples. Use `zero_division` parameter to control this behavior.\n",
      "  _warn_prf(average, modifier, f\"{metric.capitalize()} is\", len(result))\n",
      "c:\\Users\\citioplab\\works\\codes\\plant\\plant_venv\\Lib\\site-packages\\sklearn\\metrics\\_classification.py:1531: UndefinedMetricWarning: Precision is ill-defined and being set to 0.0 in labels with no predicted samples. Use `zero_division` parameter to control this behavior.\n",
      "  _warn_prf(average, modifier, f\"{metric.capitalize()} is\", len(result))\n",
      "c:\\Users\\citioplab\\works\\codes\\plant\\plant_venv\\Lib\\site-packages\\sklearn\\metrics\\_classification.py:1531: UndefinedMetricWarning: Precision is ill-defined and being set to 0.0 in labels with no predicted samples. Use `zero_division` parameter to control this behavior.\n",
      "  _warn_prf(average, modifier, f\"{metric.capitalize()} is\", len(result))\n"
     ]
    },
    {
     "name": "stdout",
     "output_type": "stream",
     "text": [
      "Fold 5 - AUC: 0.7099\n",
      "\n",
      "              precision    recall  f1-score   support\n",
      "\n",
      "           0       0.68      0.99      0.81      6796\n",
      "           1       0.40      0.01      0.02      2081\n",
      "           2       0.49      0.07      0.12       633\n",
      "           3       0.00      0.00      0.00        57\n",
      "           4       0.57      0.02      0.04       433\n",
      "\n",
      "    accuracy                           0.68     10000\n",
      "   macro avg       0.43      0.22      0.20     10000\n",
      "weighted avg       0.60      0.68      0.56     10000\n",
      "\n",
      "----------------------------------------------\n",
      "\n"
     ]
    },
    {
     "name": "stderr",
     "output_type": "stream",
     "text": [
      "c:\\Users\\citioplab\\works\\codes\\plant\\plant_venv\\Lib\\site-packages\\sklearn\\metrics\\_classification.py:1531: UndefinedMetricWarning: Precision is ill-defined and being set to 0.0 in labels with no predicted samples. Use `zero_division` parameter to control this behavior.\n",
      "  _warn_prf(average, modifier, f\"{metric.capitalize()} is\", len(result))\n",
      "c:\\Users\\citioplab\\works\\codes\\plant\\plant_venv\\Lib\\site-packages\\sklearn\\metrics\\_classification.py:1531: UndefinedMetricWarning: Precision is ill-defined and being set to 0.0 in labels with no predicted samples. Use `zero_division` parameter to control this behavior.\n",
      "  _warn_prf(average, modifier, f\"{metric.capitalize()} is\", len(result))\n",
      "c:\\Users\\citioplab\\works\\codes\\plant\\plant_venv\\Lib\\site-packages\\sklearn\\metrics\\_classification.py:1531: UndefinedMetricWarning: Precision is ill-defined and being set to 0.0 in labels with no predicted samples. Use `zero_division` parameter to control this behavior.\n",
      "  _warn_prf(average, modifier, f\"{metric.capitalize()} is\", len(result))\n"
     ]
    }
   ],
   "source": [
    "kf = StratifiedKFold(n_splits = 5, shuffle = True, random_state = seed)\n",
    "model_path = './saved_models/lightgbm/'\n",
    "lgb_model = lgb.LGBMClassifier(verbosity = -1, random_state = seed, objective = 'multiclass', num_class = 5, n_estimators = 1000, learning_rate = 0.02, cat_features = cat_features, device = \"gpu\")\n",
    "custom_cross_validate_v1(lgb_model, X, y, kf, model_path)"
   ]
  },
  {
   "cell_type": "code",
   "execution_count": 46,
   "metadata": {},
   "outputs": [],
   "source": [
    "selected_fold = 2\n",
    "final_model_path = model_path + f'fold{selected_fold}.pkl'\n",
    "final_model = joblib.load(final_model_path)\n",
    "final_preds = final_model.predict_proba(test.drop(['uid'], axis = 1))"
   ]
  },
  {
   "cell_type": "code",
   "execution_count": 47,
   "metadata": {},
   "outputs": [],
   "source": [
    "submission = pd.DataFrame({\n",
    "    'uid': test['uid'],\n",
    "    'out': final_preds[:, 0],\n",
    "    'single': final_preds[:, 1],\n",
    "    'double': final_preds[:, 2],\n",
    "    'triple': final_preds[:, 3],\n",
    "    'home_run': final_preds[:, 4]\n",
    "})"
   ]
  },
  {
   "cell_type": "code",
   "execution_count": 48,
   "metadata": {},
   "outputs": [],
   "source": [
    "submission.to_csv('./submissions/second_attempt.csv', index = False)"
   ]
  },
  {
   "cell_type": "markdown",
   "metadata": {},
   "source": [
    "Submission results<br>\n",
    "Public Score: 0.71958<br>\n",
    "Private Score: 0.70918"
   ]
  },
  {
   "cell_type": "markdown",
   "metadata": {},
   "source": [
    "Try to use voting method"
   ]
  },
  {
   "cell_type": "code",
   "execution_count": 49,
   "metadata": {},
   "outputs": [],
   "source": [
    "model_path = './saved_models/lightgbm/'\n",
    "total_fold_preds = []\n",
    "\n",
    "for i in range(1, 6):\n",
    "    fold_path = model_path + f'fold{i}.pkl'\n",
    "    fold_model = joblib.load(fold_path)\n",
    "    fold_preds = fold_model.predict_proba(test.drop(['uid'], axis = 1))\n",
    "    total_fold_preds.append(fold_preds)\n",
    "\n",
    "total_fold_preds = np.array(total_fold_preds)"
   ]
  },
  {
   "cell_type": "code",
   "execution_count": 50,
   "metadata": {},
   "outputs": [],
   "source": [
    "final_preds = np.mean(total_fold_preds, axis = 0)"
   ]
  },
  {
   "cell_type": "code",
   "execution_count": 51,
   "metadata": {},
   "outputs": [],
   "source": [
    "submission = pd.DataFrame({\n",
    "    'uid': test['uid'],\n",
    "    'out': final_preds[:, 0],\n",
    "    'single': final_preds[:, 1],\n",
    "    'double': final_preds[:, 2],\n",
    "    'triple': final_preds[:, 3],\n",
    "    'home_run': final_preds[:, 4]\n",
    "})"
   ]
  },
  {
   "cell_type": "code",
   "execution_count": 52,
   "metadata": {},
   "outputs": [],
   "source": [
    "submission.to_csv('./submissions/ninth_attempt.csv', index = False)"
   ]
  },
  {
   "cell_type": "markdown",
   "metadata": {},
   "source": [
    "Submission results<br>\n",
    "Public Score: 0.69969<br>\n",
    "Private Score: 0.72575"
   ]
  },
  {
   "cell_type": "markdown",
   "metadata": {},
   "source": [
    "##### DNN Modeling"
   ]
  },
  {
   "cell_type": "code",
   "execution_count": 23,
   "metadata": {},
   "outputs": [],
   "source": [
    "device = torch.device(\"cuda\" if torch.cuda.is_available() else \"cpu\")\n",
    "batch_size = 1024\n",
    "epochs = 50\n",
    "lr = 1e-3"
   ]
  },
  {
   "cell_type": "code",
   "execution_count": 24,
   "metadata": {},
   "outputs": [],
   "source": [
    "X_torch = X.copy()\n",
    "test_torch = test.copy()\n",
    "for c in cat_features:\n",
    "    lbl_enc = LabelEncoder()\n",
    "    tmp = pd.concat([X, test.drop(['uid'], axis = 1)])\n",
    "    lbl_enc.fit(tmp[c])\n",
    "\n",
    "    X_torch[c] = lbl_enc.transform(X[c])\n",
    "    test_torch[c] = lbl_enc.transform(test[c])"
   ]
  },
  {
   "cell_type": "code",
   "execution_count": 25,
   "metadata": {},
   "outputs": [],
   "source": [
    "cat_dim = [int(len(X[col].cat.categories)) for col in cat_features]\n",
    "cat_dim = [[x, min(50, (x + 1) // 2)] for x in cat_dim]"
   ]
  },
  {
   "cell_type": "code",
   "execution_count": 26,
   "metadata": {},
   "outputs": [
    {
     "data": {
      "text/plain": [
       "[[16, 8], [16, 8]]"
      ]
     },
     "execution_count": 26,
     "metadata": {},
     "output_type": "execute_result"
    }
   ],
   "source": [
    "cat_dim"
   ]
  },
  {
   "cell_type": "code",
   "execution_count": 27,
   "metadata": {},
   "outputs": [],
   "source": [
    "cont_features = X.columns.to_list()\n",
    "\n",
    "for c in cat_features:\n",
    "    cont_features.remove(c)"
   ]
  },
  {
   "cell_type": "code",
   "execution_count": 28,
   "metadata": {},
   "outputs": [],
   "source": [
    "def seed_everything(TORCH_SEED):\n",
    "\trandom.seed(TORCH_SEED)\n",
    "\tos.environ['PYTHONHASHSEED'] = str(TORCH_SEED)\n",
    "\tnp.random.seed(TORCH_SEED)\n",
    "\ttorch.manual_seed(TORCH_SEED)\n",
    "\ttorch.cuda.manual_seed_all(TORCH_SEED)\n",
    "\ttorch.backends.cudnn.deterministic = True\n",
    "\ttorch.backends.cudnn.benchmark = False"
   ]
  },
  {
   "cell_type": "code",
   "execution_count": 29,
   "metadata": {},
   "outputs": [],
   "source": [
    "seed_everything(seed)"
   ]
  },
  {
   "cell_type": "code",
   "execution_count": 30,
   "metadata": {},
   "outputs": [],
   "source": [
    "class ClassificationDataset(Dataset):\n",
    "    def __init__(self, features, labels = None, cat_cols_idx = None, cont_cols_idx = None, is_train = True):\n",
    "        self.X = features\n",
    "        self.y = labels\n",
    "        self.is_train = is_train\n",
    "        self.cat_cols_idx = cat_cols_idx\n",
    "        self.cont_cols_idx = cont_cols_idx\n",
    "    \n",
    "    def __getitem__(self, idx):\n",
    "        data_cat = []\n",
    "        data_cont = []\n",
    "        \n",
    "        result = None\n",
    "        \n",
    "        if self.cat_cols_idx:\n",
    "            data_cat = torch.tensor(self.X.loc[idx, self.cat_cols_idx].values, dtype = torch.int64)\n",
    "            \n",
    "        if self.cont_cols_idx:\n",
    "            data_cont = torch.tensor(self.X.loc[idx, self.cont_cols_idx].values, dtype = torch.float32)\n",
    "                \n",
    "        data = [data_cat, data_cont]\n",
    "                \n",
    "        if self.is_train:\n",
    "            result = {'data': data,\n",
    "                      'target': torch.tensor(self.y[idx], dtype = torch.int64)}\n",
    "        else:\n",
    "            result = {'data': data}\n",
    "            \n",
    "        return result      \n",
    "    \n",
    "    def __len__(self):\n",
    "        return(self.X.shape[0])"
   ]
  },
  {
   "cell_type": "code",
   "execution_count": 31,
   "metadata": {},
   "outputs": [],
   "source": [
    "class ClassificationEmbdNN(torch.nn.Module):\n",
    "    \n",
    "    def __init__(self, emb_dims, no_of_cont = None):\n",
    "        super(ClassificationEmbdNN, self).__init__()\n",
    "        \n",
    "        self.emb_layers = torch.nn.ModuleList([torch.nn.Embedding(x, y)\n",
    "                                               for x, y in emb_dims])\n",
    "        \n",
    "        no_of_embs = sum([y for x, y in emb_dims])\n",
    "        self.no_of_embs = no_of_embs\n",
    "        self.emb_dropout = torch.nn.Dropout(0.2)\n",
    "        \n",
    "        self.no_of_cont = 0\n",
    "        if no_of_cont:\n",
    "            self.no_of_cont = no_of_cont\n",
    "            self.bn_cont = torch.nn.BatchNorm1d(no_of_cont)\n",
    "        \n",
    "        self.fc1 = torch.nn.Linear(in_features = self.no_of_embs + self.no_of_cont, out_features = 64)\n",
    "        self.dropout1 = torch.nn.Dropout(0.2)\n",
    "        self.bn1 = torch.nn.BatchNorm1d(64)\n",
    "        self.act1 = torch.nn.ReLU()\n",
    "        \n",
    "        self.fc2 = torch.nn.Linear(in_features = 64, out_features = 32)\n",
    "        self.dropout2 = torch.nn.Dropout(0.2)\n",
    "        self.bn2 = torch.nn.BatchNorm1d(32)\n",
    "        self.act2 = torch.nn.ReLU()\n",
    "        \n",
    "        self.fc3 = torch.nn.Linear(in_features = 32, out_features = 5)\n",
    "        \n",
    "    def forward(self, x_cat, x_cont=None):\n",
    "        if self.no_of_embs != 0:\n",
    "            x = [emb_layer(x_cat[:, i]) for i, emb_layer in enumerate(self.emb_layers)]\n",
    "        \n",
    "            x = torch.cat(x, 1)\n",
    "            x = self.emb_dropout(x)\n",
    "            \n",
    "        if self.no_of_cont != 0:\n",
    "            x_cont = self.bn_cont(x_cont)\n",
    "            \n",
    "            if self.no_of_embs != 0:\n",
    "                x = torch.cat([x, x_cont], 1)\n",
    "            else:\n",
    "                x = x_cont\n",
    "        \n",
    "        x = self.fc1(x)\n",
    "        x = self.dropout1(x)\n",
    "        x = self.bn1(x)\n",
    "        x = self.act1(x)\n",
    "        \n",
    "        x = self.fc2(x)\n",
    "        x = self.dropout2(x)\n",
    "        x = self.bn2(x)\n",
    "        x = self.act2(x)\n",
    "        \n",
    "        x = self.fc3(x)\n",
    "        \n",
    "        return x"
   ]
  },
  {
   "cell_type": "code",
   "execution_count": 56,
   "metadata": {},
   "outputs": [],
   "source": [
    "# def build_model(cat_dim, no_of_cont):\n",
    "#     DNN_model = ClassificationEmbdNN(cat_dim, no_of_cont = no_of_cont)\n",
    "\n",
    "#     return DNN_model"
   ]
  },
  {
   "cell_type": "code",
   "execution_count": 32,
   "metadata": {},
   "outputs": [],
   "source": [
    "def train_network(model, train_loader, valid_loader, loss_func, optimizer, n_epochs=20, model_path = './saved_models/DNN/model.pt'):\n",
    "\n",
    "    model.to(device)\n",
    "    \n",
    "    # train_losses = list()\n",
    "    # valid_losses = list()\n",
    "    \n",
    "    valid_loss_min = np.inf\n",
    "    \n",
    "    for epoch in range(n_epochs):\n",
    "        train_loss = 0.0\n",
    "        valid_loss = 0.0\n",
    "        \n",
    "        train_acc = 0.0\n",
    "        valid_acc = 0.0\n",
    "        \n",
    "        model.train()\n",
    "        for batch in tqdm(train_loader):\n",
    "            optimizer.zero_grad()\n",
    "            \n",
    "            output = model(batch['data'][0].to(device),\n",
    "                           batch['data'][1].to(device))\n",
    "            \n",
    "            loss = loss_func(output, batch['target'].to(device))\n",
    "            \n",
    "            loss.backward()\n",
    "            optimizer.step()\n",
    "            \n",
    "            train_preds = torch.argmax(output, dim = 1)\n",
    "            train_acc += np.sum(batch['target'].cpu().numpy() == train_preds.detach().cpu().numpy())\n",
    "\n",
    "            train_loss += loss.item() * batch['data'][0].size(0)\n",
    "    \n",
    "\n",
    "        model.eval()\n",
    "        for batch in tqdm(valid_loader):\n",
    "            output = model(batch['data'][0].to(device),\n",
    "                           batch['data'][1].to(device))\n",
    "            \n",
    "            \n",
    "            loss = loss_func(output, batch['target'].to(device))\n",
    "            \n",
    "            val_preds = torch.argmax(output, dim = 1)\n",
    "            valid_acc += np.sum(batch['target'].cpu().numpy() == val_preds.cpu().numpy())\n",
    "\n",
    "            valid_loss += loss.item() * batch['data'][0].size(0)\n",
    "           \n",
    "        \n",
    "        train_loss = np.sqrt(train_loss / len(train_loader.sampler.indices))\n",
    "        valid_loss = np.sqrt(valid_loss / len(valid_loader.sampler.indices))\n",
    "\n",
    "        train_acc = train_acc / len(train_loader.sampler.indices)\n",
    "        valid_acc = valid_acc / len(valid_loader.sampler.indices)\n",
    "        \n",
    "        # train_losses.append(train_loss)\n",
    "        # valid_losses.append(valid_loss)\n",
    "\n",
    "        print('Epoch: {}. Training loss: {:.6f}. Validation loss: {:.6f}'\n",
    "              .format(epoch + 1, train_loss, valid_loss))\n",
    "        print('Training ACC: {:.6f}. Validation ACC: {:.6f}'\n",
    "              .format(train_acc, valid_acc))\n",
    "        \n",
    "        if valid_loss < valid_loss_min:  # let's save the best weights to use them in prediction\n",
    "            print('Validation Loss decreased ({:.6f} --> {:.6f}). Saving model...'\n",
    "                  .format(valid_loss_min, valid_loss))\n",
    "            \n",
    "            torch.save(model.state_dict(), model_path)\n",
    "            valid_loss_min = valid_loss\n",
    "    \n",
    "        #Load best model in this fold\n",
    "        best_model = copy.deepcopy(model)\n",
    "        best_model.load_state_dict(torch.load(model_path))\n",
    "            \n",
    "    return best_model"
   ]
  },
  {
   "cell_type": "code",
   "execution_count": 33,
   "metadata": {},
   "outputs": [],
   "source": [
    "def custom_cross_validate_v1_torch(model, trainset, cv, model_path):\n",
    "\n",
    "    for fold, (train_idx, val_idx) in enumerate(cv.split(X, y)):\n",
    "        fold_model = copy.deepcopy(model)\n",
    "        total_targets = np.array([])\n",
    "        total_outputs = np.array([])\n",
    "\n",
    "        val_sampler = SubsetRandomSampler(val_idx)\n",
    "        train_sampler = SubsetRandomSampler(train_idx)\n",
    "\n",
    "        train_loader = torch.utils.data.DataLoader(\n",
    "                      trainset, batch_size = batch_size, pin_memory = True, sampler = train_sampler, drop_last = True)\n",
    "        val_loader = torch.utils.data.DataLoader(\n",
    "                      trainset, batch_size = batch_size, pin_memory = True, sampler = val_sampler, drop_last = False)\n",
    "        \n",
    "        loss_function = nn.CrossEntropyLoss()\n",
    "        optimizer = optim.Adam(fold_model.parameters(), lr = lr)\n",
    "        \n",
    "        # Fit the model with categorical features\n",
    "        fold_model = train_network(fold_model, train_loader, val_loader, loss_function, optimizer, n_epochs = epochs, model_path = model_path + f'fold{fold + 1}.pt')\n",
    "        \n",
    "        # Predict probabilities for the validation set\n",
    "        fold_model.eval()\n",
    "        with torch.no_grad():\n",
    "            for batch in tqdm(val_loader):\n",
    "                output = fold_model(batch['data'][0].to(device), batch['data'][1].to(device))\n",
    "                total_targets = np.append(total_targets, batch['target'].numpy())\n",
    "                total_outputs = np.append(total_outputs, output.data.cpu().numpy().flatten())\n",
    "        \n",
    "            total_outputs = total_outputs.reshape(-1, 5)\n",
    "            total_outputs = softmax(total_outputs, axis = 1)\n",
    "            total_preds = total_outputs.argmax(axis = 1)\n",
    "\n",
    "        # Calculate and print AUC for the current fold\n",
    "        auc_score = roc_auc_score(total_targets, total_outputs, multi_class = 'ovr')\n",
    "        print(f\"Fold {fold + 1} - AUC: {auc_score:.4f}\\n\")\n",
    "        print(classification_report(total_targets, total_preds))\n",
    "        print('----------------------------------------------\\n')\n",
    "\n",
    "        if fold % 2 == 1:\n",
    "            clear_output()"
   ]
  },
  {
   "cell_type": "code",
   "execution_count": 34,
   "metadata": {},
   "outputs": [],
   "source": [
    "train_dataset = ClassificationDataset(X_torch, y.values, cat_features, cont_features, is_train = True)\n",
    "test_dataset = ClassificationDataset(test_torch.drop(['uid'], axis = 1), labels = None, cat_cols_idx = cat_features, cont_cols_idx = cont_features, is_train = False)"
   ]
  },
  {
   "cell_type": "code",
   "execution_count": 35,
   "metadata": {},
   "outputs": [
    {
     "data": {
      "application/vnd.jupyter.widget-view+json": {
       "model_id": "b7a2702b55b34392bb5c25b8075058dc",
       "version_major": 2,
       "version_minor": 0
      },
      "text/plain": [
       "  0%|          | 0/39 [00:00<?, ?it/s]"
      ]
     },
     "metadata": {},
     "output_type": "display_data"
    },
    {
     "data": {
      "application/vnd.jupyter.widget-view+json": {
       "model_id": "0503ff559e434fe198b54db8075ba001",
       "version_major": 2,
       "version_minor": 0
      },
      "text/plain": [
       "  0%|          | 0/10 [00:00<?, ?it/s]"
      ]
     },
     "metadata": {},
     "output_type": "display_data"
    },
    {
     "name": "stdout",
     "output_type": "stream",
     "text": [
      "Epoch: 1. Training loss: 1.298051. Validation loss: 1.217002\n",
      "Training ACC: 0.203325. Validation ACC: 0.325000\n",
      "Validation Loss decreased (inf --> 1.217002). Saving model...\n"
     ]
    },
    {
     "data": {
      "application/vnd.jupyter.widget-view+json": {
       "model_id": "facc708736a942b4836c257a3932f804",
       "version_major": 2,
       "version_minor": 0
      },
      "text/plain": [
       "  0%|          | 0/39 [00:00<?, ?it/s]"
      ]
     },
     "metadata": {},
     "output_type": "display_data"
    },
    {
     "data": {
      "application/vnd.jupyter.widget-view+json": {
       "model_id": "f540a57f1edc4311a36dcf00cc71f393",
       "version_major": 2,
       "version_minor": 0
      },
      "text/plain": [
       "  0%|          | 0/10 [00:00<?, ?it/s]"
      ]
     },
     "metadata": {},
     "output_type": "display_data"
    },
    {
     "name": "stdout",
     "output_type": "stream",
     "text": [
      "Epoch: 2. Training loss: 1.114018. Validation loss: 1.095729\n",
      "Training ACC: 0.588700. Validation ACC: 0.671000\n",
      "Validation Loss decreased (1.217002 --> 1.095729). Saving model...\n"
     ]
    },
    {
     "data": {
      "application/vnd.jupyter.widget-view+json": {
       "model_id": "7c311e0243ea45fc8a72df4cd630ef58",
       "version_major": 2,
       "version_minor": 0
      },
      "text/plain": [
       "  0%|          | 0/39 [00:00<?, ?it/s]"
      ]
     },
     "metadata": {},
     "output_type": "display_data"
    },
    {
     "data": {
      "application/vnd.jupyter.widget-view+json": {
       "model_id": "6c88fe64fead4f218901d7f70ec1a872",
       "version_major": 2,
       "version_minor": 0
      },
      "text/plain": [
       "  0%|          | 0/10 [00:00<?, ?it/s]"
      ]
     },
     "metadata": {},
     "output_type": "display_data"
    },
    {
     "name": "stdout",
     "output_type": "stream",
     "text": [
      "Epoch: 3. Training loss: 1.021232. Validation loss: 1.030217\n",
      "Training ACC: 0.674675. Validation ACC: 0.679600\n",
      "Validation Loss decreased (1.095729 --> 1.030217). Saving model...\n"
     ]
    },
    {
     "data": {
      "application/vnd.jupyter.widget-view+json": {
       "model_id": "3bd15a0551d24e90a75d8fc86c7f40f4",
       "version_major": 2,
       "version_minor": 0
      },
      "text/plain": [
       "  0%|          | 0/39 [00:00<?, ?it/s]"
      ]
     },
     "metadata": {},
     "output_type": "display_data"
    },
    {
     "data": {
      "application/vnd.jupyter.widget-view+json": {
       "model_id": "fcf7d27747114b3d85be39c856f35de4",
       "version_major": 2,
       "version_minor": 0
      },
      "text/plain": [
       "  0%|          | 0/10 [00:00<?, ?it/s]"
      ]
     },
     "metadata": {},
     "output_type": "display_data"
    },
    {
     "name": "stdout",
     "output_type": "stream",
     "text": [
      "Epoch: 4. Training loss: 0.984930. Validation loss: 0.997873\n",
      "Training ACC: 0.678350. Validation ACC: 0.679600\n",
      "Validation Loss decreased (1.030217 --> 0.997873). Saving model...\n"
     ]
    },
    {
     "data": {
      "application/vnd.jupyter.widget-view+json": {
       "model_id": "0b823f2160af4669b1749dfc7fb4da1e",
       "version_major": 2,
       "version_minor": 0
      },
      "text/plain": [
       "  0%|          | 0/39 [00:00<?, ?it/s]"
      ]
     },
     "metadata": {},
     "output_type": "display_data"
    },
    {
     "data": {
      "application/vnd.jupyter.widget-view+json": {
       "model_id": "a10f982fca8b43ba995dcc75455e1c39",
       "version_major": 2,
       "version_minor": 0
      },
      "text/plain": [
       "  0%|          | 0/10 [00:00<?, ?it/s]"
      ]
     },
     "metadata": {},
     "output_type": "display_data"
    },
    {
     "name": "stdout",
     "output_type": "stream",
     "text": [
      "Epoch: 5. Training loss: 0.970795. Validation loss: 0.985841\n",
      "Training ACC: 0.678200. Validation ACC: 0.679600\n",
      "Validation Loss decreased (0.997873 --> 0.985841). Saving model...\n"
     ]
    },
    {
     "data": {
      "application/vnd.jupyter.widget-view+json": {
       "model_id": "dc69b54ba1f147888091841210cf477f",
       "version_major": 2,
       "version_minor": 0
      },
      "text/plain": [
       "  0%|          | 0/39 [00:00<?, ?it/s]"
      ]
     },
     "metadata": {},
     "output_type": "display_data"
    },
    {
     "data": {
      "application/vnd.jupyter.widget-view+json": {
       "model_id": "2c0febd6f6614cc2aa522d64f0d56d03",
       "version_major": 2,
       "version_minor": 0
      },
      "text/plain": [
       "  0%|          | 0/10 [00:00<?, ?it/s]"
      ]
     },
     "metadata": {},
     "output_type": "display_data"
    },
    {
     "name": "stdout",
     "output_type": "stream",
     "text": [
      "Epoch: 6. Training loss: 0.965124. Validation loss: 0.974340\n",
      "Training ACC: 0.678050. Validation ACC: 0.679400\n",
      "Validation Loss decreased (0.985841 --> 0.974340). Saving model...\n"
     ]
    },
    {
     "data": {
      "application/vnd.jupyter.widget-view+json": {
       "model_id": "c6db9f719bbd4f52b9c80558229f7df8",
       "version_major": 2,
       "version_minor": 0
      },
      "text/plain": [
       "  0%|          | 0/39 [00:00<?, ?it/s]"
      ]
     },
     "metadata": {},
     "output_type": "display_data"
    },
    {
     "data": {
      "application/vnd.jupyter.widget-view+json": {
       "model_id": "3309148e99784e29b7abcfa0f88e9aa9",
       "version_major": 2,
       "version_minor": 0
      },
      "text/plain": [
       "  0%|          | 0/10 [00:00<?, ?it/s]"
      ]
     },
     "metadata": {},
     "output_type": "display_data"
    },
    {
     "name": "stdout",
     "output_type": "stream",
     "text": [
      "Epoch: 7. Training loss: 0.960352. Validation loss: 0.968954\n",
      "Training ACC: 0.678275. Validation ACC: 0.679600\n",
      "Validation Loss decreased (0.974340 --> 0.968954). Saving model...\n"
     ]
    },
    {
     "data": {
      "application/vnd.jupyter.widget-view+json": {
       "model_id": "83ce513b59ae497187a5a9e2a6db8564",
       "version_major": 2,
       "version_minor": 0
      },
      "text/plain": [
       "  0%|          | 0/39 [00:00<?, ?it/s]"
      ]
     },
     "metadata": {},
     "output_type": "display_data"
    },
    {
     "data": {
      "application/vnd.jupyter.widget-view+json": {
       "model_id": "ad3eb977de0f48cd826d5f589dcbbba3",
       "version_major": 2,
       "version_minor": 0
      },
      "text/plain": [
       "  0%|          | 0/10 [00:00<?, ?it/s]"
      ]
     },
     "metadata": {},
     "output_type": "display_data"
    },
    {
     "name": "stdout",
     "output_type": "stream",
     "text": [
      "Epoch: 8. Training loss: 0.956475. Validation loss: 0.964221\n",
      "Training ACC: 0.678325. Validation ACC: 0.679700\n",
      "Validation Loss decreased (0.968954 --> 0.964221). Saving model...\n"
     ]
    },
    {
     "data": {
      "application/vnd.jupyter.widget-view+json": {
       "model_id": "58725ca5863b43baa94905c2f51493e4",
       "version_major": 2,
       "version_minor": 0
      },
      "text/plain": [
       "  0%|          | 0/39 [00:00<?, ?it/s]"
      ]
     },
     "metadata": {},
     "output_type": "display_data"
    },
    {
     "data": {
      "application/vnd.jupyter.widget-view+json": {
       "model_id": "329de89d52d24aeebe319f51517ca2be",
       "version_major": 2,
       "version_minor": 0
      },
      "text/plain": [
       "  0%|          | 0/10 [00:00<?, ?it/s]"
      ]
     },
     "metadata": {},
     "output_type": "display_data"
    },
    {
     "name": "stdout",
     "output_type": "stream",
     "text": [
      "Epoch: 9. Training loss: 0.953804. Validation loss: 0.958587\n",
      "Training ACC: 0.678525. Validation ACC: 0.679600\n",
      "Validation Loss decreased (0.964221 --> 0.958587). Saving model...\n"
     ]
    },
    {
     "data": {
      "application/vnd.jupyter.widget-view+json": {
       "model_id": "f9228c259fae48d59caf457ab6e7a5cd",
       "version_major": 2,
       "version_minor": 0
      },
      "text/plain": [
       "  0%|          | 0/39 [00:00<?, ?it/s]"
      ]
     },
     "metadata": {},
     "output_type": "display_data"
    },
    {
     "data": {
      "application/vnd.jupyter.widget-view+json": {
       "model_id": "5902ba380500498fba6c5ebaead7a356",
       "version_major": 2,
       "version_minor": 0
      },
      "text/plain": [
       "  0%|          | 0/10 [00:00<?, ?it/s]"
      ]
     },
     "metadata": {},
     "output_type": "display_data"
    },
    {
     "name": "stdout",
     "output_type": "stream",
     "text": [
      "Epoch: 10. Training loss: 0.950436. Validation loss: 0.956582\n",
      "Training ACC: 0.678225. Validation ACC: 0.679600\n",
      "Validation Loss decreased (0.958587 --> 0.956582). Saving model...\n"
     ]
    },
    {
     "data": {
      "application/vnd.jupyter.widget-view+json": {
       "model_id": "2c78722b84744295ad35567f1d0a3a12",
       "version_major": 2,
       "version_minor": 0
      },
      "text/plain": [
       "  0%|          | 0/39 [00:00<?, ?it/s]"
      ]
     },
     "metadata": {},
     "output_type": "display_data"
    },
    {
     "data": {
      "application/vnd.jupyter.widget-view+json": {
       "model_id": "7331a3ce16f448e983e2fe7f9b1ab484",
       "version_major": 2,
       "version_minor": 0
      },
      "text/plain": [
       "  0%|          | 0/10 [00:00<?, ?it/s]"
      ]
     },
     "metadata": {},
     "output_type": "display_data"
    },
    {
     "name": "stdout",
     "output_type": "stream",
     "text": [
      "Epoch: 11. Training loss: 0.948193. Validation loss: 0.954125\n",
      "Training ACC: 0.678475. Validation ACC: 0.679600\n",
      "Validation Loss decreased (0.956582 --> 0.954125). Saving model...\n"
     ]
    },
    {
     "data": {
      "application/vnd.jupyter.widget-view+json": {
       "model_id": "9ab8a1fea0f1498e904add9c97dbfee7",
       "version_major": 2,
       "version_minor": 0
      },
      "text/plain": [
       "  0%|          | 0/39 [00:00<?, ?it/s]"
      ]
     },
     "metadata": {},
     "output_type": "display_data"
    },
    {
     "data": {
      "application/vnd.jupyter.widget-view+json": {
       "model_id": "09ad200eeb8d42a993990fa62e5ffcb7",
       "version_major": 2,
       "version_minor": 0
      },
      "text/plain": [
       "  0%|          | 0/10 [00:00<?, ?it/s]"
      ]
     },
     "metadata": {},
     "output_type": "display_data"
    },
    {
     "name": "stdout",
     "output_type": "stream",
     "text": [
      "Epoch: 12. Training loss: 0.945708. Validation loss: 0.950084\n",
      "Training ACC: 0.678350. Validation ACC: 0.679600\n",
      "Validation Loss decreased (0.954125 --> 0.950084). Saving model...\n"
     ]
    },
    {
     "data": {
      "application/vnd.jupyter.widget-view+json": {
       "model_id": "110cb3a47a544fb6838c30b909dbe41b",
       "version_major": 2,
       "version_minor": 0
      },
      "text/plain": [
       "  0%|          | 0/39 [00:00<?, ?it/s]"
      ]
     },
     "metadata": {},
     "output_type": "display_data"
    },
    {
     "data": {
      "application/vnd.jupyter.widget-view+json": {
       "model_id": "183335a3696c414394e9abb4a9235517",
       "version_major": 2,
       "version_minor": 0
      },
      "text/plain": [
       "  0%|          | 0/10 [00:00<?, ?it/s]"
      ]
     },
     "metadata": {},
     "output_type": "display_data"
    },
    {
     "name": "stdout",
     "output_type": "stream",
     "text": [
      "Epoch: 13. Training loss: 0.943996. Validation loss: 0.947286\n",
      "Training ACC: 0.678575. Validation ACC: 0.679700\n",
      "Validation Loss decreased (0.950084 --> 0.947286). Saving model...\n"
     ]
    },
    {
     "data": {
      "application/vnd.jupyter.widget-view+json": {
       "model_id": "a3a2079a5ff649c587c67d88c2004781",
       "version_major": 2,
       "version_minor": 0
      },
      "text/plain": [
       "  0%|          | 0/39 [00:00<?, ?it/s]"
      ]
     },
     "metadata": {},
     "output_type": "display_data"
    },
    {
     "data": {
      "application/vnd.jupyter.widget-view+json": {
       "model_id": "f70f76c65ae4401eae0ba39c6a79c39b",
       "version_major": 2,
       "version_minor": 0
      },
      "text/plain": [
       "  0%|          | 0/10 [00:00<?, ?it/s]"
      ]
     },
     "metadata": {},
     "output_type": "display_data"
    },
    {
     "name": "stdout",
     "output_type": "stream",
     "text": [
      "Epoch: 14. Training loss: 0.942694. Validation loss: 0.946126\n",
      "Training ACC: 0.678500. Validation ACC: 0.679700\n",
      "Validation Loss decreased (0.947286 --> 0.946126). Saving model...\n"
     ]
    },
    {
     "data": {
      "application/vnd.jupyter.widget-view+json": {
       "model_id": "f9e228ea9c854b5eb77feb8ce65e9f36",
       "version_major": 2,
       "version_minor": 0
      },
      "text/plain": [
       "  0%|          | 0/39 [00:00<?, ?it/s]"
      ]
     },
     "metadata": {},
     "output_type": "display_data"
    },
    {
     "data": {
      "application/vnd.jupyter.widget-view+json": {
       "model_id": "4f80edd2c35e48b6a3986bfac7da0840",
       "version_major": 2,
       "version_minor": 0
      },
      "text/plain": [
       "  0%|          | 0/10 [00:00<?, ?it/s]"
      ]
     },
     "metadata": {},
     "output_type": "display_data"
    },
    {
     "name": "stdout",
     "output_type": "stream",
     "text": [
      "Epoch: 15. Training loss: 0.940363. Validation loss: 0.943794\n",
      "Training ACC: 0.678375. Validation ACC: 0.679700\n",
      "Validation Loss decreased (0.946126 --> 0.943794). Saving model...\n"
     ]
    },
    {
     "data": {
      "application/vnd.jupyter.widget-view+json": {
       "model_id": "64eac277ca4146b68ac72bcfe97f32e6",
       "version_major": 2,
       "version_minor": 0
      },
      "text/plain": [
       "  0%|          | 0/39 [00:00<?, ?it/s]"
      ]
     },
     "metadata": {},
     "output_type": "display_data"
    },
    {
     "data": {
      "application/vnd.jupyter.widget-view+json": {
       "model_id": "f7ef56b7a30c470a9add3468d2d04194",
       "version_major": 2,
       "version_minor": 0
      },
      "text/plain": [
       "  0%|          | 0/10 [00:00<?, ?it/s]"
      ]
     },
     "metadata": {},
     "output_type": "display_data"
    },
    {
     "name": "stdout",
     "output_type": "stream",
     "text": [
      "Epoch: 16. Training loss: 0.939355. Validation loss: 0.941006\n",
      "Training ACC: 0.678425. Validation ACC: 0.679700\n",
      "Validation Loss decreased (0.943794 --> 0.941006). Saving model...\n"
     ]
    },
    {
     "data": {
      "application/vnd.jupyter.widget-view+json": {
       "model_id": "b73fabf408b54f539bcceacb7a5ead6c",
       "version_major": 2,
       "version_minor": 0
      },
      "text/plain": [
       "  0%|          | 0/39 [00:00<?, ?it/s]"
      ]
     },
     "metadata": {},
     "output_type": "display_data"
    },
    {
     "data": {
      "application/vnd.jupyter.widget-view+json": {
       "model_id": "ab01b96badaf4874b9f76d9ca6dc8091",
       "version_major": 2,
       "version_minor": 0
      },
      "text/plain": [
       "  0%|          | 0/10 [00:00<?, ?it/s]"
      ]
     },
     "metadata": {},
     "output_type": "display_data"
    },
    {
     "name": "stdout",
     "output_type": "stream",
     "text": [
      "Epoch: 17. Training loss: 0.937793. Validation loss: 0.939051\n",
      "Training ACC: 0.678375. Validation ACC: 0.679700\n",
      "Validation Loss decreased (0.941006 --> 0.939051). Saving model...\n"
     ]
    },
    {
     "data": {
      "application/vnd.jupyter.widget-view+json": {
       "model_id": "ca7f672b8e6d4f1ab70cfa41151a844e",
       "version_major": 2,
       "version_minor": 0
      },
      "text/plain": [
       "  0%|          | 0/39 [00:00<?, ?it/s]"
      ]
     },
     "metadata": {},
     "output_type": "display_data"
    },
    {
     "data": {
      "application/vnd.jupyter.widget-view+json": {
       "model_id": "68d32e244fb649ec9373968abdfd565f",
       "version_major": 2,
       "version_minor": 0
      },
      "text/plain": [
       "  0%|          | 0/10 [00:00<?, ?it/s]"
      ]
     },
     "metadata": {},
     "output_type": "display_data"
    },
    {
     "name": "stdout",
     "output_type": "stream",
     "text": [
      "Epoch: 18. Training loss: 0.937290. Validation loss: 0.937672\n",
      "Training ACC: 0.678400. Validation ACC: 0.679700\n",
      "Validation Loss decreased (0.939051 --> 0.937672). Saving model...\n"
     ]
    },
    {
     "data": {
      "application/vnd.jupyter.widget-view+json": {
       "model_id": "88374eac743541f5a46a6a899a1b0bad",
       "version_major": 2,
       "version_minor": 0
      },
      "text/plain": [
       "  0%|          | 0/39 [00:00<?, ?it/s]"
      ]
     },
     "metadata": {},
     "output_type": "display_data"
    },
    {
     "data": {
      "application/vnd.jupyter.widget-view+json": {
       "model_id": "acdaf024c66948fd9db03c8cdb64cf2e",
       "version_major": 2,
       "version_minor": 0
      },
      "text/plain": [
       "  0%|          | 0/10 [00:00<?, ?it/s]"
      ]
     },
     "metadata": {},
     "output_type": "display_data"
    },
    {
     "name": "stdout",
     "output_type": "stream",
     "text": [
      "Epoch: 19. Training loss: 0.934833. Validation loss: 0.935464\n",
      "Training ACC: 0.678475. Validation ACC: 0.679700\n",
      "Validation Loss decreased (0.937672 --> 0.935464). Saving model...\n"
     ]
    },
    {
     "data": {
      "application/vnd.jupyter.widget-view+json": {
       "model_id": "5dc16e523e824fd1b54200e2ba76031f",
       "version_major": 2,
       "version_minor": 0
      },
      "text/plain": [
       "  0%|          | 0/39 [00:00<?, ?it/s]"
      ]
     },
     "metadata": {},
     "output_type": "display_data"
    },
    {
     "data": {
      "application/vnd.jupyter.widget-view+json": {
       "model_id": "edfc176d8b754034b39c7bee81263603",
       "version_major": 2,
       "version_minor": 0
      },
      "text/plain": [
       "  0%|          | 0/10 [00:00<?, ?it/s]"
      ]
     },
     "metadata": {},
     "output_type": "display_data"
    },
    {
     "name": "stdout",
     "output_type": "stream",
     "text": [
      "Epoch: 20. Training loss: 0.933776. Validation loss: 0.934389\n",
      "Training ACC: 0.678325. Validation ACC: 0.679700\n",
      "Validation Loss decreased (0.935464 --> 0.934389). Saving model...\n"
     ]
    },
    {
     "data": {
      "application/vnd.jupyter.widget-view+json": {
       "model_id": "a76de3f2e86343fc9bf8dc00eba8a995",
       "version_major": 2,
       "version_minor": 0
      },
      "text/plain": [
       "  0%|          | 0/39 [00:00<?, ?it/s]"
      ]
     },
     "metadata": {},
     "output_type": "display_data"
    },
    {
     "data": {
      "application/vnd.jupyter.widget-view+json": {
       "model_id": "1cb74b1683b546c7962326ccbe2d422a",
       "version_major": 2,
       "version_minor": 0
      },
      "text/plain": [
       "  0%|          | 0/10 [00:00<?, ?it/s]"
      ]
     },
     "metadata": {},
     "output_type": "display_data"
    },
    {
     "name": "stdout",
     "output_type": "stream",
     "text": [
      "Epoch: 21. Training loss: 0.932659. Validation loss: 0.932327\n",
      "Training ACC: 0.678625. Validation ACC: 0.679700\n",
      "Validation Loss decreased (0.934389 --> 0.932327). Saving model...\n"
     ]
    },
    {
     "data": {
      "application/vnd.jupyter.widget-view+json": {
       "model_id": "d1b89f6a66474a16a82d943f789100d7",
       "version_major": 2,
       "version_minor": 0
      },
      "text/plain": [
       "  0%|          | 0/39 [00:00<?, ?it/s]"
      ]
     },
     "metadata": {},
     "output_type": "display_data"
    },
    {
     "data": {
      "application/vnd.jupyter.widget-view+json": {
       "model_id": "0f811cc34e8b4802884aa79954156193",
       "version_major": 2,
       "version_minor": 0
      },
      "text/plain": [
       "  0%|          | 0/10 [00:00<?, ?it/s]"
      ]
     },
     "metadata": {},
     "output_type": "display_data"
    },
    {
     "name": "stdout",
     "output_type": "stream",
     "text": [
      "Epoch: 22. Training loss: 0.932178. Validation loss: 0.930545\n",
      "Training ACC: 0.678500. Validation ACC: 0.679600\n",
      "Validation Loss decreased (0.932327 --> 0.930545). Saving model...\n"
     ]
    },
    {
     "data": {
      "application/vnd.jupyter.widget-view+json": {
       "model_id": "a80cc19705564f2191b89893b2fda08a",
       "version_major": 2,
       "version_minor": 0
      },
      "text/plain": [
       "  0%|          | 0/39 [00:00<?, ?it/s]"
      ]
     },
     "metadata": {},
     "output_type": "display_data"
    },
    {
     "data": {
      "application/vnd.jupyter.widget-view+json": {
       "model_id": "35d0e45dbde04d029d15439e72f05173",
       "version_major": 2,
       "version_minor": 0
      },
      "text/plain": [
       "  0%|          | 0/10 [00:00<?, ?it/s]"
      ]
     },
     "metadata": {},
     "output_type": "display_data"
    },
    {
     "name": "stdout",
     "output_type": "stream",
     "text": [
      "Epoch: 23. Training loss: 0.930208. Validation loss: 0.929787\n",
      "Training ACC: 0.678450. Validation ACC: 0.679600\n",
      "Validation Loss decreased (0.930545 --> 0.929787). Saving model...\n"
     ]
    },
    {
     "data": {
      "application/vnd.jupyter.widget-view+json": {
       "model_id": "291982b104b54811addc0a1a5cee6d3c",
       "version_major": 2,
       "version_minor": 0
      },
      "text/plain": [
       "  0%|          | 0/39 [00:00<?, ?it/s]"
      ]
     },
     "metadata": {},
     "output_type": "display_data"
    },
    {
     "data": {
      "application/vnd.jupyter.widget-view+json": {
       "model_id": "89957e2f4240438dbe4a565556143c3e",
       "version_major": 2,
       "version_minor": 0
      },
      "text/plain": [
       "  0%|          | 0/10 [00:00<?, ?it/s]"
      ]
     },
     "metadata": {},
     "output_type": "display_data"
    },
    {
     "name": "stdout",
     "output_type": "stream",
     "text": [
      "Epoch: 24. Training loss: 0.929063. Validation loss: 0.929511\n",
      "Training ACC: 0.678600. Validation ACC: 0.679600\n",
      "Validation Loss decreased (0.929787 --> 0.929511). Saving model...\n"
     ]
    },
    {
     "data": {
      "application/vnd.jupyter.widget-view+json": {
       "model_id": "819bd6862ab24ea2b72073146cd26154",
       "version_major": 2,
       "version_minor": 0
      },
      "text/plain": [
       "  0%|          | 0/39 [00:00<?, ?it/s]"
      ]
     },
     "metadata": {},
     "output_type": "display_data"
    },
    {
     "data": {
      "application/vnd.jupyter.widget-view+json": {
       "model_id": "e10bdee98dcc4465a7364de3a4ae62dd",
       "version_major": 2,
       "version_minor": 0
      },
      "text/plain": [
       "  0%|          | 0/10 [00:00<?, ?it/s]"
      ]
     },
     "metadata": {},
     "output_type": "display_data"
    },
    {
     "name": "stdout",
     "output_type": "stream",
     "text": [
      "Epoch: 25. Training loss: 0.929159. Validation loss: 0.927938\n",
      "Training ACC: 0.678800. Validation ACC: 0.679500\n",
      "Validation Loss decreased (0.929511 --> 0.927938). Saving model...\n"
     ]
    },
    {
     "data": {
      "application/vnd.jupyter.widget-view+json": {
       "model_id": "98e460995a6d41f995df05f9e158cb40",
       "version_major": 2,
       "version_minor": 0
      },
      "text/plain": [
       "  0%|          | 0/39 [00:00<?, ?it/s]"
      ]
     },
     "metadata": {},
     "output_type": "display_data"
    },
    {
     "data": {
      "application/vnd.jupyter.widget-view+json": {
       "model_id": "06c449d7b174486ca3723bfa19172e9b",
       "version_major": 2,
       "version_minor": 0
      },
      "text/plain": [
       "  0%|          | 0/10 [00:00<?, ?it/s]"
      ]
     },
     "metadata": {},
     "output_type": "display_data"
    },
    {
     "name": "stdout",
     "output_type": "stream",
     "text": [
      "Epoch: 26. Training loss: 0.928404. Validation loss: 0.928032\n",
      "Training ACC: 0.678450. Validation ACC: 0.679600\n"
     ]
    },
    {
     "data": {
      "application/vnd.jupyter.widget-view+json": {
       "model_id": "55548fd8dfd34424a738e92cd0bd01e6",
       "version_major": 2,
       "version_minor": 0
      },
      "text/plain": [
       "  0%|          | 0/39 [00:00<?, ?it/s]"
      ]
     },
     "metadata": {},
     "output_type": "display_data"
    },
    {
     "data": {
      "application/vnd.jupyter.widget-view+json": {
       "model_id": "b0039d5403cc4ab09efa7623bc879f2d",
       "version_major": 2,
       "version_minor": 0
      },
      "text/plain": [
       "  0%|          | 0/10 [00:00<?, ?it/s]"
      ]
     },
     "metadata": {},
     "output_type": "display_data"
    },
    {
     "name": "stdout",
     "output_type": "stream",
     "text": [
      "Epoch: 27. Training loss: 0.928039. Validation loss: 0.926383\n",
      "Training ACC: 0.678425. Validation ACC: 0.679600\n",
      "Validation Loss decreased (0.927938 --> 0.926383). Saving model...\n"
     ]
    },
    {
     "data": {
      "application/vnd.jupyter.widget-view+json": {
       "model_id": "c14a4d9d9ada44088f5e8097c79fda7c",
       "version_major": 2,
       "version_minor": 0
      },
      "text/plain": [
       "  0%|          | 0/39 [00:00<?, ?it/s]"
      ]
     },
     "metadata": {},
     "output_type": "display_data"
    },
    {
     "data": {
      "application/vnd.jupyter.widget-view+json": {
       "model_id": "840971f78b3348c0a424b94375d23227",
       "version_major": 2,
       "version_minor": 0
      },
      "text/plain": [
       "  0%|          | 0/10 [00:00<?, ?it/s]"
      ]
     },
     "metadata": {},
     "output_type": "display_data"
    },
    {
     "name": "stdout",
     "output_type": "stream",
     "text": [
      "Epoch: 28. Training loss: 0.926667. Validation loss: 0.925601\n",
      "Training ACC: 0.678425. Validation ACC: 0.679700\n",
      "Validation Loss decreased (0.926383 --> 0.925601). Saving model...\n"
     ]
    },
    {
     "data": {
      "application/vnd.jupyter.widget-view+json": {
       "model_id": "f2c0f919f4244e90b1d78d15ff7a0f07",
       "version_major": 2,
       "version_minor": 0
      },
      "text/plain": [
       "  0%|          | 0/39 [00:00<?, ?it/s]"
      ]
     },
     "metadata": {},
     "output_type": "display_data"
    },
    {
     "data": {
      "application/vnd.jupyter.widget-view+json": {
       "model_id": "c58fbe4dfc91400c95748afd441b3e17",
       "version_major": 2,
       "version_minor": 0
      },
      "text/plain": [
       "  0%|          | 0/10 [00:00<?, ?it/s]"
      ]
     },
     "metadata": {},
     "output_type": "display_data"
    },
    {
     "name": "stdout",
     "output_type": "stream",
     "text": [
      "Epoch: 29. Training loss: 0.927007. Validation loss: 0.925404\n",
      "Training ACC: 0.678500. Validation ACC: 0.679800\n",
      "Validation Loss decreased (0.925601 --> 0.925404). Saving model...\n"
     ]
    },
    {
     "data": {
      "application/vnd.jupyter.widget-view+json": {
       "model_id": "01448fc1410e4986be02e52309e89c06",
       "version_major": 2,
       "version_minor": 0
      },
      "text/plain": [
       "  0%|          | 0/39 [00:00<?, ?it/s]"
      ]
     },
     "metadata": {},
     "output_type": "display_data"
    },
    {
     "data": {
      "application/vnd.jupyter.widget-view+json": {
       "model_id": "3f02236f9fc84e10b61babb8c2e88306",
       "version_major": 2,
       "version_minor": 0
      },
      "text/plain": [
       "  0%|          | 0/10 [00:00<?, ?it/s]"
      ]
     },
     "metadata": {},
     "output_type": "display_data"
    },
    {
     "name": "stdout",
     "output_type": "stream",
     "text": [
      "Epoch: 30. Training loss: 0.926364. Validation loss: 0.924241\n",
      "Training ACC: 0.678550. Validation ACC: 0.679800\n",
      "Validation Loss decreased (0.925404 --> 0.924241). Saving model...\n"
     ]
    },
    {
     "data": {
      "application/vnd.jupyter.widget-view+json": {
       "model_id": "7d51b2ba55264945960b7bea0aa7b93b",
       "version_major": 2,
       "version_minor": 0
      },
      "text/plain": [
       "  0%|          | 0/39 [00:00<?, ?it/s]"
      ]
     },
     "metadata": {},
     "output_type": "display_data"
    },
    {
     "data": {
      "application/vnd.jupyter.widget-view+json": {
       "model_id": "7ee194be14314dfdbf9e455bb9cf497d",
       "version_major": 2,
       "version_minor": 0
      },
      "text/plain": [
       "  0%|          | 0/10 [00:00<?, ?it/s]"
      ]
     },
     "metadata": {},
     "output_type": "display_data"
    },
    {
     "name": "stdout",
     "output_type": "stream",
     "text": [
      "Epoch: 31. Training loss: 0.925352. Validation loss: 0.923039\n",
      "Training ACC: 0.678550. Validation ACC: 0.679800\n",
      "Validation Loss decreased (0.924241 --> 0.923039). Saving model...\n"
     ]
    },
    {
     "data": {
      "application/vnd.jupyter.widget-view+json": {
       "model_id": "aed7db656f574140ac1098f8039034c7",
       "version_major": 2,
       "version_minor": 0
      },
      "text/plain": [
       "  0%|          | 0/39 [00:00<?, ?it/s]"
      ]
     },
     "metadata": {},
     "output_type": "display_data"
    },
    {
     "data": {
      "application/vnd.jupyter.widget-view+json": {
       "model_id": "d855752eaf274a72bffed2f0e97b397f",
       "version_major": 2,
       "version_minor": 0
      },
      "text/plain": [
       "  0%|          | 0/10 [00:00<?, ?it/s]"
      ]
     },
     "metadata": {},
     "output_type": "display_data"
    },
    {
     "name": "stdout",
     "output_type": "stream",
     "text": [
      "Epoch: 32. Training loss: 0.925107. Validation loss: 0.923417\n",
      "Training ACC: 0.678350. Validation ACC: 0.680000\n"
     ]
    },
    {
     "data": {
      "application/vnd.jupyter.widget-view+json": {
       "model_id": "62c2d3a745264d81a8189e290f0e93b1",
       "version_major": 2,
       "version_minor": 0
      },
      "text/plain": [
       "  0%|          | 0/39 [00:00<?, ?it/s]"
      ]
     },
     "metadata": {},
     "output_type": "display_data"
    },
    {
     "data": {
      "application/vnd.jupyter.widget-view+json": {
       "model_id": "3d2c6e0f815a4d5fb8b745a917249341",
       "version_major": 2,
       "version_minor": 0
      },
      "text/plain": [
       "  0%|          | 0/10 [00:00<?, ?it/s]"
      ]
     },
     "metadata": {},
     "output_type": "display_data"
    },
    {
     "name": "stdout",
     "output_type": "stream",
     "text": [
      "Epoch: 33. Training loss: 0.923635. Validation loss: 0.922102\n",
      "Training ACC: 0.678600. Validation ACC: 0.680000\n",
      "Validation Loss decreased (0.923039 --> 0.922102). Saving model...\n"
     ]
    },
    {
     "data": {
      "application/vnd.jupyter.widget-view+json": {
       "model_id": "0980317ad2904f5ab50f634f799d1a1c",
       "version_major": 2,
       "version_minor": 0
      },
      "text/plain": [
       "  0%|          | 0/39 [00:00<?, ?it/s]"
      ]
     },
     "metadata": {},
     "output_type": "display_data"
    },
    {
     "data": {
      "application/vnd.jupyter.widget-view+json": {
       "model_id": "d6a7831fa7dd4482b293e7f5344c219d",
       "version_major": 2,
       "version_minor": 0
      },
      "text/plain": [
       "  0%|          | 0/10 [00:00<?, ?it/s]"
      ]
     },
     "metadata": {},
     "output_type": "display_data"
    },
    {
     "name": "stdout",
     "output_type": "stream",
     "text": [
      "Epoch: 34. Training loss: 0.923528. Validation loss: 0.921723\n",
      "Training ACC: 0.678325. Validation ACC: 0.679800\n",
      "Validation Loss decreased (0.922102 --> 0.921723). Saving model...\n"
     ]
    },
    {
     "data": {
      "application/vnd.jupyter.widget-view+json": {
       "model_id": "07c91d75505a4c36bb2867e79177c29d",
       "version_major": 2,
       "version_minor": 0
      },
      "text/plain": [
       "  0%|          | 0/39 [00:00<?, ?it/s]"
      ]
     },
     "metadata": {},
     "output_type": "display_data"
    },
    {
     "data": {
      "application/vnd.jupyter.widget-view+json": {
       "model_id": "47ed124bc2ef4577aa29f73af7a52a17",
       "version_major": 2,
       "version_minor": 0
      },
      "text/plain": [
       "  0%|          | 0/10 [00:00<?, ?it/s]"
      ]
     },
     "metadata": {},
     "output_type": "display_data"
    },
    {
     "name": "stdout",
     "output_type": "stream",
     "text": [
      "Epoch: 35. Training loss: 0.922221. Validation loss: 0.920695\n",
      "Training ACC: 0.678475. Validation ACC: 0.679800\n",
      "Validation Loss decreased (0.921723 --> 0.920695). Saving model...\n"
     ]
    },
    {
     "data": {
      "application/vnd.jupyter.widget-view+json": {
       "model_id": "8146fea522d74fa5a50fffae9c05f97f",
       "version_major": 2,
       "version_minor": 0
      },
      "text/plain": [
       "  0%|          | 0/39 [00:00<?, ?it/s]"
      ]
     },
     "metadata": {},
     "output_type": "display_data"
    },
    {
     "data": {
      "application/vnd.jupyter.widget-view+json": {
       "model_id": "2b2fd86a10ad4a1ba6c0927a2ba6f553",
       "version_major": 2,
       "version_minor": 0
      },
      "text/plain": [
       "  0%|          | 0/10 [00:00<?, ?it/s]"
      ]
     },
     "metadata": {},
     "output_type": "display_data"
    },
    {
     "name": "stdout",
     "output_type": "stream",
     "text": [
      "Epoch: 36. Training loss: 0.922612. Validation loss: 0.920481\n",
      "Training ACC: 0.678700. Validation ACC: 0.679300\n",
      "Validation Loss decreased (0.920695 --> 0.920481). Saving model...\n"
     ]
    },
    {
     "data": {
      "application/vnd.jupyter.widget-view+json": {
       "model_id": "2f22d530799447f381094abc9ee2cae3",
       "version_major": 2,
       "version_minor": 0
      },
      "text/plain": [
       "  0%|          | 0/39 [00:00<?, ?it/s]"
      ]
     },
     "metadata": {},
     "output_type": "display_data"
    },
    {
     "data": {
      "application/vnd.jupyter.widget-view+json": {
       "model_id": "826f56c500b64ce383a72290937a5c65",
       "version_major": 2,
       "version_minor": 0
      },
      "text/plain": [
       "  0%|          | 0/10 [00:00<?, ?it/s]"
      ]
     },
     "metadata": {},
     "output_type": "display_data"
    },
    {
     "name": "stdout",
     "output_type": "stream",
     "text": [
      "Epoch: 37. Training loss: 0.921494. Validation loss: 0.919868\n",
      "Training ACC: 0.678650. Validation ACC: 0.679700\n",
      "Validation Loss decreased (0.920481 --> 0.919868). Saving model...\n"
     ]
    },
    {
     "data": {
      "application/vnd.jupyter.widget-view+json": {
       "model_id": "06b302be05724e159c3925e94d79defc",
       "version_major": 2,
       "version_minor": 0
      },
      "text/plain": [
       "  0%|          | 0/39 [00:00<?, ?it/s]"
      ]
     },
     "metadata": {},
     "output_type": "display_data"
    },
    {
     "data": {
      "application/vnd.jupyter.widget-view+json": {
       "model_id": "ea9cf3990730459cb437c8e0e4fe7e91",
       "version_major": 2,
       "version_minor": 0
      },
      "text/plain": [
       "  0%|          | 0/10 [00:00<?, ?it/s]"
      ]
     },
     "metadata": {},
     "output_type": "display_data"
    },
    {
     "name": "stdout",
     "output_type": "stream",
     "text": [
      "Epoch: 38. Training loss: 0.921997. Validation loss: 0.919407\n",
      "Training ACC: 0.678300. Validation ACC: 0.679700\n",
      "Validation Loss decreased (0.919868 --> 0.919407). Saving model...\n"
     ]
    },
    {
     "data": {
      "application/vnd.jupyter.widget-view+json": {
       "model_id": "c0bdc82ccc544429bb2b5193e2095fe1",
       "version_major": 2,
       "version_minor": 0
      },
      "text/plain": [
       "  0%|          | 0/39 [00:00<?, ?it/s]"
      ]
     },
     "metadata": {},
     "output_type": "display_data"
    },
    {
     "data": {
      "application/vnd.jupyter.widget-view+json": {
       "model_id": "ed14078ec16b4f55b1a062c4ae51b2df",
       "version_major": 2,
       "version_minor": 0
      },
      "text/plain": [
       "  0%|          | 0/10 [00:00<?, ?it/s]"
      ]
     },
     "metadata": {},
     "output_type": "display_data"
    },
    {
     "name": "stdout",
     "output_type": "stream",
     "text": [
      "Epoch: 39. Training loss: 0.920714. Validation loss: 0.919150\n",
      "Training ACC: 0.678525. Validation ACC: 0.679500\n",
      "Validation Loss decreased (0.919407 --> 0.919150). Saving model...\n"
     ]
    },
    {
     "data": {
      "application/vnd.jupyter.widget-view+json": {
       "model_id": "4606348826314190a2f3fa953a99f1a1",
       "version_major": 2,
       "version_minor": 0
      },
      "text/plain": [
       "  0%|          | 0/39 [00:00<?, ?it/s]"
      ]
     },
     "metadata": {},
     "output_type": "display_data"
    },
    {
     "data": {
      "application/vnd.jupyter.widget-view+json": {
       "model_id": "bd92e5a1162b445489b2661f7ad053dc",
       "version_major": 2,
       "version_minor": 0
      },
      "text/plain": [
       "  0%|          | 0/10 [00:00<?, ?it/s]"
      ]
     },
     "metadata": {},
     "output_type": "display_data"
    },
    {
     "name": "stdout",
     "output_type": "stream",
     "text": [
      "Epoch: 40. Training loss: 0.920719. Validation loss: 0.918600\n",
      "Training ACC: 0.678325. Validation ACC: 0.679100\n",
      "Validation Loss decreased (0.919150 --> 0.918600). Saving model...\n"
     ]
    },
    {
     "data": {
      "application/vnd.jupyter.widget-view+json": {
       "model_id": "a0cfd295681342f0919069ceffe889d7",
       "version_major": 2,
       "version_minor": 0
      },
      "text/plain": [
       "  0%|          | 0/39 [00:00<?, ?it/s]"
      ]
     },
     "metadata": {},
     "output_type": "display_data"
    },
    {
     "data": {
      "application/vnd.jupyter.widget-view+json": {
       "model_id": "3e4b0bf8b06c4b438d9646f2a953d23d",
       "version_major": 2,
       "version_minor": 0
      },
      "text/plain": [
       "  0%|          | 0/10 [00:00<?, ?it/s]"
      ]
     },
     "metadata": {},
     "output_type": "display_data"
    },
    {
     "name": "stdout",
     "output_type": "stream",
     "text": [
      "Epoch: 41. Training loss: 0.920839. Validation loss: 0.918406\n",
      "Training ACC: 0.678000. Validation ACC: 0.679600\n",
      "Validation Loss decreased (0.918600 --> 0.918406). Saving model...\n"
     ]
    },
    {
     "data": {
      "application/vnd.jupyter.widget-view+json": {
       "model_id": "be1dbfb8b83540a194d3cf2b5152d488",
       "version_major": 2,
       "version_minor": 0
      },
      "text/plain": [
       "  0%|          | 0/39 [00:00<?, ?it/s]"
      ]
     },
     "metadata": {},
     "output_type": "display_data"
    },
    {
     "data": {
      "application/vnd.jupyter.widget-view+json": {
       "model_id": "082c2a4130e5480398db860631a04510",
       "version_major": 2,
       "version_minor": 0
      },
      "text/plain": [
       "  0%|          | 0/10 [00:00<?, ?it/s]"
      ]
     },
     "metadata": {},
     "output_type": "display_data"
    },
    {
     "name": "stdout",
     "output_type": "stream",
     "text": [
      "Epoch: 42. Training loss: 0.920000. Validation loss: 0.918311\n",
      "Training ACC: 0.678500. Validation ACC: 0.679100\n",
      "Validation Loss decreased (0.918406 --> 0.918311). Saving model...\n"
     ]
    },
    {
     "data": {
      "application/vnd.jupyter.widget-view+json": {
       "model_id": "522e50380465401fbf6ca790439690be",
       "version_major": 2,
       "version_minor": 0
      },
      "text/plain": [
       "  0%|          | 0/39 [00:00<?, ?it/s]"
      ]
     },
     "metadata": {},
     "output_type": "display_data"
    },
    {
     "data": {
      "application/vnd.jupyter.widget-view+json": {
       "model_id": "a4947e3d80f247f7b05345c74bfb4efb",
       "version_major": 2,
       "version_minor": 0
      },
      "text/plain": [
       "  0%|          | 0/10 [00:00<?, ?it/s]"
      ]
     },
     "metadata": {},
     "output_type": "display_data"
    },
    {
     "name": "stdout",
     "output_type": "stream",
     "text": [
      "Epoch: 43. Training loss: 0.920447. Validation loss: 0.918502\n",
      "Training ACC: 0.678175. Validation ACC: 0.679400\n"
     ]
    },
    {
     "data": {
      "application/vnd.jupyter.widget-view+json": {
       "model_id": "654c5f3175e340fc9725aacef689ea00",
       "version_major": 2,
       "version_minor": 0
      },
      "text/plain": [
       "  0%|          | 0/39 [00:00<?, ?it/s]"
      ]
     },
     "metadata": {},
     "output_type": "display_data"
    },
    {
     "data": {
      "application/vnd.jupyter.widget-view+json": {
       "model_id": "c966b6941271403ba6e37c8dd9c2f904",
       "version_major": 2,
       "version_minor": 0
      },
      "text/plain": [
       "  0%|          | 0/10 [00:00<?, ?it/s]"
      ]
     },
     "metadata": {},
     "output_type": "display_data"
    },
    {
     "name": "stdout",
     "output_type": "stream",
     "text": [
      "Epoch: 44. Training loss: 0.918568. Validation loss: 0.917805\n",
      "Training ACC: 0.678775. Validation ACC: 0.679700\n",
      "Validation Loss decreased (0.918311 --> 0.917805). Saving model...\n"
     ]
    },
    {
     "data": {
      "application/vnd.jupyter.widget-view+json": {
       "model_id": "a724c4c6bb6e4069a1eea0006e6fa5de",
       "version_major": 2,
       "version_minor": 0
      },
      "text/plain": [
       "  0%|          | 0/39 [00:00<?, ?it/s]"
      ]
     },
     "metadata": {},
     "output_type": "display_data"
    },
    {
     "data": {
      "application/vnd.jupyter.widget-view+json": {
       "model_id": "de960199c0b44286bb2607bc590e8095",
       "version_major": 2,
       "version_minor": 0
      },
      "text/plain": [
       "  0%|          | 0/10 [00:00<?, ?it/s]"
      ]
     },
     "metadata": {},
     "output_type": "display_data"
    },
    {
     "name": "stdout",
     "output_type": "stream",
     "text": [
      "Epoch: 45. Training loss: 0.919668. Validation loss: 0.917944\n",
      "Training ACC: 0.678350. Validation ACC: 0.679300\n"
     ]
    },
    {
     "data": {
      "application/vnd.jupyter.widget-view+json": {
       "model_id": "4a6c94f5465249c584a16d8ca5ddf02a",
       "version_major": 2,
       "version_minor": 0
      },
      "text/plain": [
       "  0%|          | 0/39 [00:00<?, ?it/s]"
      ]
     },
     "metadata": {},
     "output_type": "display_data"
    },
    {
     "data": {
      "application/vnd.jupyter.widget-view+json": {
       "model_id": "5d23fe44320046b4aeb367edac6e832b",
       "version_major": 2,
       "version_minor": 0
      },
      "text/plain": [
       "  0%|          | 0/10 [00:00<?, ?it/s]"
      ]
     },
     "metadata": {},
     "output_type": "display_data"
    },
    {
     "name": "stdout",
     "output_type": "stream",
     "text": [
      "Epoch: 46. Training loss: 0.919387. Validation loss: 0.917889\n",
      "Training ACC: 0.678675. Validation ACC: 0.679600\n"
     ]
    },
    {
     "data": {
      "application/vnd.jupyter.widget-view+json": {
       "model_id": "2ce164af5adf400998f0290a26cce467",
       "version_major": 2,
       "version_minor": 0
      },
      "text/plain": [
       "  0%|          | 0/39 [00:00<?, ?it/s]"
      ]
     },
     "metadata": {},
     "output_type": "display_data"
    },
    {
     "data": {
      "application/vnd.jupyter.widget-view+json": {
       "model_id": "4f63f25fd16041258a382194e3300df9",
       "version_major": 2,
       "version_minor": 0
      },
      "text/plain": [
       "  0%|          | 0/10 [00:00<?, ?it/s]"
      ]
     },
     "metadata": {},
     "output_type": "display_data"
    },
    {
     "name": "stdout",
     "output_type": "stream",
     "text": [
      "Epoch: 47. Training loss: 0.918757. Validation loss: 0.917124\n",
      "Training ACC: 0.678400. Validation ACC: 0.679500\n",
      "Validation Loss decreased (0.917805 --> 0.917124). Saving model...\n"
     ]
    },
    {
     "data": {
      "application/vnd.jupyter.widget-view+json": {
       "model_id": "1128638917cf4e0f9d1dfae726100e30",
       "version_major": 2,
       "version_minor": 0
      },
      "text/plain": [
       "  0%|          | 0/39 [00:00<?, ?it/s]"
      ]
     },
     "metadata": {},
     "output_type": "display_data"
    },
    {
     "data": {
      "application/vnd.jupyter.widget-view+json": {
       "model_id": "7cb3476b6c3f491f9e4b81898d95d6dc",
       "version_major": 2,
       "version_minor": 0
      },
      "text/plain": [
       "  0%|          | 0/10 [00:00<?, ?it/s]"
      ]
     },
     "metadata": {},
     "output_type": "display_data"
    },
    {
     "name": "stdout",
     "output_type": "stream",
     "text": [
      "Epoch: 48. Training loss: 0.917815. Validation loss: 0.916859\n",
      "Training ACC: 0.678925. Validation ACC: 0.679400\n",
      "Validation Loss decreased (0.917124 --> 0.916859). Saving model...\n"
     ]
    },
    {
     "data": {
      "application/vnd.jupyter.widget-view+json": {
       "model_id": "07e07d5a17b842a2b25d3b51ee72edb4",
       "version_major": 2,
       "version_minor": 0
      },
      "text/plain": [
       "  0%|          | 0/39 [00:00<?, ?it/s]"
      ]
     },
     "metadata": {},
     "output_type": "display_data"
    },
    {
     "data": {
      "application/vnd.jupyter.widget-view+json": {
       "model_id": "c50d6a4f45f246319e83331bc784236a",
       "version_major": 2,
       "version_minor": 0
      },
      "text/plain": [
       "  0%|          | 0/10 [00:00<?, ?it/s]"
      ]
     },
     "metadata": {},
     "output_type": "display_data"
    },
    {
     "name": "stdout",
     "output_type": "stream",
     "text": [
      "Epoch: 49. Training loss: 0.918131. Validation loss: 0.917156\n",
      "Training ACC: 0.678700. Validation ACC: 0.679600\n"
     ]
    },
    {
     "data": {
      "application/vnd.jupyter.widget-view+json": {
       "model_id": "091b042e8f87490fabd2b468eb345242",
       "version_major": 2,
       "version_minor": 0
      },
      "text/plain": [
       "  0%|          | 0/39 [00:00<?, ?it/s]"
      ]
     },
     "metadata": {},
     "output_type": "display_data"
    },
    {
     "data": {
      "application/vnd.jupyter.widget-view+json": {
       "model_id": "188aaf6e11bb496e84d908389e42452a",
       "version_major": 2,
       "version_minor": 0
      },
      "text/plain": [
       "  0%|          | 0/10 [00:00<?, ?it/s]"
      ]
     },
     "metadata": {},
     "output_type": "display_data"
    },
    {
     "name": "stdout",
     "output_type": "stream",
     "text": [
      "Epoch: 50. Training loss: 0.917729. Validation loss: 0.916875\n",
      "Training ACC: 0.678475. Validation ACC: 0.679500\n"
     ]
    },
    {
     "data": {
      "application/vnd.jupyter.widget-view+json": {
       "model_id": "92cf05e801444058bbee75903234df5d",
       "version_major": 2,
       "version_minor": 0
      },
      "text/plain": [
       "  0%|          | 0/10 [00:00<?, ?it/s]"
      ]
     },
     "metadata": {},
     "output_type": "display_data"
    },
    {
     "name": "stdout",
     "output_type": "stream",
     "text": [
      "Fold 5 - AUC: 0.7250\n",
      "\n",
      "              precision    recall  f1-score   support\n",
      "\n",
      "         0.0       0.68      1.00      0.81      6796\n",
      "         1.0       0.00      0.00      0.00      2081\n",
      "         2.0       0.35      0.01      0.02       633\n",
      "         3.0       0.00      0.00      0.00        57\n",
      "         4.0       0.39      0.02      0.03       433\n",
      "\n",
      "    accuracy                           0.68     10000\n",
      "   macro avg       0.28      0.20      0.17     10000\n",
      "weighted avg       0.50      0.68      0.55     10000\n",
      "\n",
      "----------------------------------------------\n",
      "\n"
     ]
    },
    {
     "name": "stderr",
     "output_type": "stream",
     "text": [
      "c:\\Users\\citioplab\\works\\codes\\plant\\plant_venv\\Lib\\site-packages\\sklearn\\metrics\\_classification.py:1531: UndefinedMetricWarning: Precision is ill-defined and being set to 0.0 in labels with no predicted samples. Use `zero_division` parameter to control this behavior.\n",
      "  _warn_prf(average, modifier, f\"{metric.capitalize()} is\", len(result))\n",
      "c:\\Users\\citioplab\\works\\codes\\plant\\plant_venv\\Lib\\site-packages\\sklearn\\metrics\\_classification.py:1531: UndefinedMetricWarning: Precision is ill-defined and being set to 0.0 in labels with no predicted samples. Use `zero_division` parameter to control this behavior.\n",
      "  _warn_prf(average, modifier, f\"{metric.capitalize()} is\", len(result))\n",
      "c:\\Users\\citioplab\\works\\codes\\plant\\plant_venv\\Lib\\site-packages\\sklearn\\metrics\\_classification.py:1531: UndefinedMetricWarning: Precision is ill-defined and being set to 0.0 in labels with no predicted samples. Use `zero_division` parameter to control this behavior.\n",
      "  _warn_prf(average, modifier, f\"{metric.capitalize()} is\", len(result))\n"
     ]
    }
   ],
   "source": [
    "kf = StratifiedKFold(n_splits = 5, shuffle = True, random_state = seed)\n",
    "model_path = './saved_models/DNN/'\n",
    "DNN_model = ClassificationEmbdNN(cat_dim, no_of_cont = len(cont_features))\n",
    "custom_cross_validate_v1_torch(DNN_model, train_dataset, kf, model_path)"
   ]
  },
  {
   "cell_type": "code",
   "execution_count": 50,
   "metadata": {},
   "outputs": [
    {
     "data": {
      "application/vnd.jupyter.widget-view+json": {
       "model_id": "c8a7b60387c14d35b127601f612b9148",
       "version_major": 2,
       "version_minor": 0
      },
      "text/plain": [
       "  0%|          | 0/14 [00:00<?, ?it/s]"
      ]
     },
     "metadata": {},
     "output_type": "display_data"
    },
    {
     "data": {
      "application/vnd.jupyter.widget-view+json": {
       "model_id": "5641e10766544e10b62187b98fd49d0d",
       "version_major": 2,
       "version_minor": 0
      },
      "text/plain": [
       "  0%|          | 0/14 [00:00<?, ?it/s]"
      ]
     },
     "metadata": {},
     "output_type": "display_data"
    },
    {
     "data": {
      "application/vnd.jupyter.widget-view+json": {
       "model_id": "aeee0b9c12004df18f322eb47d94b0f6",
       "version_major": 2,
       "version_minor": 0
      },
      "text/plain": [
       "  0%|          | 0/14 [00:00<?, ?it/s]"
      ]
     },
     "metadata": {},
     "output_type": "display_data"
    },
    {
     "data": {
      "application/vnd.jupyter.widget-view+json": {
       "model_id": "54492acd27584599a4031e8ebf96c733",
       "version_major": 2,
       "version_minor": 0
      },
      "text/plain": [
       "  0%|          | 0/14 [00:00<?, ?it/s]"
      ]
     },
     "metadata": {},
     "output_type": "display_data"
    },
    {
     "data": {
      "application/vnd.jupyter.widget-view+json": {
       "model_id": "c2ce464a7c3c497f9ff98ffb9134eb64",
       "version_major": 2,
       "version_minor": 0
      },
      "text/plain": [
       "  0%|          | 0/14 [00:00<?, ?it/s]"
      ]
     },
     "metadata": {},
     "output_type": "display_data"
    }
   ],
   "source": [
    "model_path = './saved_models/DNN/'\n",
    "test_loader = torch.utils.data.DataLoader(test_dataset, batch_size = batch_size, pin_memory = True, drop_last = False, shuffle = False)\n",
    "total_fold_preds = []\n",
    "\n",
    "for i in range(1, 6):\n",
    "    # total_targets = np.array([])\n",
    "    total_outputs = np.array([])\n",
    "\n",
    "    fold_path = model_path + f'fold{i}.pt'\n",
    "    fold_model = copy.deepcopy(DNN_model)\n",
    "    fold_model.load_state_dict(torch.load(fold_path))\n",
    "    fold_model.to(device)\n",
    "    fold_model.eval()\n",
    "\n",
    "    with torch.no_grad():\n",
    "        for batch in tqdm(test_loader):\n",
    "            output = fold_model(batch['data'][0].to(device), batch['data'][1].to(device))\n",
    "            # total_targets = np.append(total_targets, batch['target'])\n",
    "            total_outputs = np.append(total_outputs, output.data.cpu().numpy().flatten())\n",
    "    \n",
    "    total_outputs = total_outputs.reshape(-1, 5)\n",
    "    total_outputs = softmax(total_outputs, axis = 1)\n",
    "    total_fold_preds.append(total_outputs)\n",
    "    # total_preds = total_outputs.argmax(axis = 1)\n",
    "\n",
    "total_fold_preds = np.array(total_fold_preds)"
   ]
  },
  {
   "cell_type": "code",
   "execution_count": 51,
   "metadata": {},
   "outputs": [
    {
     "data": {
      "text/plain": [
       "(5, 14220, 5)"
      ]
     },
     "execution_count": 51,
     "metadata": {},
     "output_type": "execute_result"
    }
   ],
   "source": [
    "total_fold_preds.shape"
   ]
  },
  {
   "cell_type": "code",
   "execution_count": 52,
   "metadata": {},
   "outputs": [],
   "source": [
    "final_preds = np.mean(total_fold_preds, axis = 0)"
   ]
  },
  {
   "cell_type": "code",
   "execution_count": 53,
   "metadata": {},
   "outputs": [],
   "source": [
    "submission = pd.DataFrame({\n",
    "    'uid': test['uid'],\n",
    "    'out': final_preds[:, 0],\n",
    "    'single': final_preds[:, 1],\n",
    "    'double': final_preds[:, 2],\n",
    "    'triple': final_preds[:, 3],\n",
    "    'home_run': final_preds[:, 4]\n",
    "})"
   ]
  },
  {
   "cell_type": "code",
   "execution_count": 54,
   "metadata": {},
   "outputs": [],
   "source": [
    "submission.to_csv('./submissions/eleventh_attempt.csv', index = False)"
   ]
  },
  {
   "cell_type": "markdown",
   "metadata": {},
   "source": [
    "Submission results<br>\n",
    "Public Score: 0.72541<br>\n",
    "Private Score: 0.72339"
   ]
  },
  {
   "cell_type": "markdown",
   "metadata": {},
   "source": [
    "### Add features"
   ]
  },
  {
   "cell_type": "code",
   "execution_count": 23,
   "metadata": {},
   "outputs": [],
   "source": [
    "def add_features(df):\n",
    "    df = df.copy()\n",
    "    \n",
    "    # First set of features\n",
    "    df['pitch_speed_diff'] = df['release_speed'] - df['effective_speed']\n",
    "    df['horizontal_movement'] = df['pfx_x'] * df['release_extension']\n",
    "    df['vertical_movement'] = df['pfx_z'] * df['release_extension']\n",
    "    df['pitch_location'] = np.sqrt(df['plate_x']**2 + df['plate_z']**2)\n",
    "    df['count_pressure'] = df['balls'] - df['strikes'] + 1\n",
    "    df['bat_pitch_speed_ratio'] = df['bat_speed'] / df['release_speed']\n",
    "    df['swing_efficiency'] = df['bat_speed'] / df['swing_length']\n",
    "    df['movement_complexity'] = np.sqrt(df['pfx_x']**2 + df['pfx_z']**2)\n",
    "    df['release_angle'] = np.arctan2(df['release_pos_z'], df['release_pos_x'])\n",
    "    df['approach_angle'] = np.arctan2(df['vz0'], np.sqrt(df['vx0']**2 + df['vy0']**2))\n",
    "    df['spin_efficiency'] = np.abs(np.sin(np.radians(df['spin_axis'])))\n",
    "    df['magnus_effect'] = df['release_spin_rate'] * df['movement_complexity']\n",
    "    df['break_time'] = df['release_extension'] / df['effective_speed']\n",
    "    df['tunneling_time'] = 0.15 * df['release_speed'] / (df['movement_complexity'] + 1e-5)  # Add small constant to avoid division by zero\n",
    "    df['stance_advantage'] = ((df['is_lhp'] == 1) & (df['is_lhb'] == 0)) | ((df['is_lhp'] == 0) & (df['is_lhb'] == 1))\n",
    "    df['pitch_speed_change'] = df.groupby('pitch_number')['release_speed'].diff().fillna(0)\n",
    "    df['horizontal_change'] = df.groupby('pitch_number')['pfx_x'].diff().fillna(0)\n",
    "    df['vertical_change'] = df.groupby('pitch_number')['pfx_z'].diff().fillna(0)\n",
    "    df['baserunner_pressure'] = df['on_1b'].fillna(0) + 2*df['on_2b'].fillna(0) + 3*df['on_3b'].fillna(0)\n",
    "    df['late_inning_pressure'] = (df['inning'] >= 7).astype(int)\n",
    "    df['release_x_deviation'] = df['release_pos_x'] - df['release_pos_x'].mean()\n",
    "    df['release_z_deviation'] = df['release_pos_z'] - df['release_pos_z'].mean()\n",
    "    df['relative_height'] = (df['plate_z'] - df['sz_bot']) / (df['sz_top'] - df['sz_bot'])\n",
    "    \n",
    "    # Handle NA values for is_strike\n",
    "    df['is_strike'] = (\n",
    "        (df['plate_x'].between(-0.7083, 0.7083)) & \n",
    "        (df['relative_height'].between(0, 1))\n",
    "    ).fillna(False).astype(int)\n",
    "    \n",
    "    df['contact_quality'] = df['bat_speed'] * np.cos(np.radians(df['spray_angle']))\n",
    "\n",
    "    # New hitting-focused features\n",
    "    df['bat_to_pitch_speed_ratio'] = df['bat_speed'] / df['effective_speed']\n",
    "    df['swing_plane_efficiency'] = np.cos(np.radians(df['spray_angle'])) / (df['swing_length'] + 1e-5)\n",
    "    df['contact_zone'] = np.arctan2(df['plate_z'], df['plate_x']) + df['spray_angle']\n",
    "    df['swing_decision_time'] = df['effective_speed'] / (df['swing_length'] + 1e-5)\n",
    "    df['power_potential'] = df['bat_speed'] * np.abs(np.sin(np.radians(df['spray_angle'])))\n",
    "    df['plate_discipline_index'] = df['is_strike'] * df['swing_efficiency']\n",
    "    df['bat_control'] = df['bat_speed'] / (df['swing_length'] + 1e-5)\n",
    "    df['exit_velocity_estimate'] = (df['bat_speed'] + df['effective_speed']) * 0.5\n",
    "    df['launch_angle_estimate'] = df['spray_angle'] * 0.6\n",
    "    df['sweet_spot_probability'] = 1 / (1 + np.exp(-(df['bat_speed'] - 70) / 10)) * (1 - np.abs(df['swing_length'] - 24) / 24)\n",
    "\n",
    "    # Additional features\n",
    "    df['exit_velocity_launch_angle_ratio'] = df['exit_velocity_estimate'] / (df['launch_angle_estimate'].abs() + 1)\n",
    "    df['swing_efficiency_score'] = df['swing_efficiency'] * df['bat_control'] * df['sweet_spot_probability']\n",
    "    df['pitch_complexity'] = df['release_speed'] * df['spin_efficiency'] * (df['vertical_movement'].abs() + 1)\n",
    "    df['batter_readiness'] = df['plate_discipline_index'] * df['swing_decision_time']\n",
    "    df['contact_quality_score'] = df['exit_velocity_estimate'] * df['sweet_spot_probability'] * df['bat_speed']\n",
    "    df['pitch_location_effectiveness'] = df['pitch_location'] * df['is_strike'] * (1 - df['plate_discipline_index'])\n",
    "    df['count_pressure_impact'] = df['count_pressure'] * (df['balls'] - df['strikes'] + 3)\n",
    "    df['batter_power_index'] = df['power_potential'] * df['exit_velocity_estimate'] * df['bat_speed']\n",
    "    df['pitch_deception_score'] = df['effective_speed'] / df['release_speed'] * df['spin_efficiency']\n",
    "    df['batter_contact_ability'] = df['bat_control'] * df['contact_zone'] * df['swing_plane_efficiency']\n",
    "    df['pitch_movement_complexity'] = (df['pfx_z'].abs() + df['vertical_change'].abs()) * df['spin_efficiency']\n",
    "    df['batter_pitcher_matchup'] = df['stance_advantage'] * df['relative_height'] * df['pitch_location_effectiveness']\n",
    "    df['swing_aggressiveness'] = df['swing_length'] * df['bat_speed'] / (df['swing_decision_time'] + 1e-5)\n",
    "    df['pitch_bat_speed_differential'] = df['release_speed'] - df['bat_speed']\n",
    "    df['exit_velocity_pitch_speed_ratio'] = df['exit_velocity_estimate'] / df['release_speed']\n",
    "    df['vertical_approach_effectiveness'] = df['approach_angle'] * df['launch_angle_estimate'] * df['exit_velocity_estimate']\n",
    "    df['horizontal_spray_effectiveness'] = df['spray_angle'].abs() * df['exit_velocity_estimate']\n",
    "    df['strike_zone_coverage'] = (df['sz_top'] - df['sz_bot']) * df['plate_discipline_index']\n",
    "    df['pitch_location_accuracy'] = 1 - (((df['plate_x']**2 + df['plate_z']**2)**0.5) / ((2.5**2 + 2.5**2)**0.5))\n",
    "\n",
    "    return df"
   ]
  },
  {
   "cell_type": "code",
   "execution_count": 24,
   "metadata": {},
   "outputs": [],
   "source": [
    "X_new = add_features(X)\n",
    "test_new = add_features(test)"
   ]
  },
  {
   "cell_type": "code",
   "execution_count": 25,
   "metadata": {},
   "outputs": [
    {
     "data": {
      "text/plain": [
       "(50000, 90)"
      ]
     },
     "execution_count": 25,
     "metadata": {},
     "output_type": "execute_result"
    }
   ],
   "source": [
    "X_new.shape"
   ]
  },
  {
   "cell_type": "code",
   "execution_count": 26,
   "metadata": {},
   "outputs": [
    {
     "name": "stderr",
     "output_type": "stream",
     "text": [
      "Default metric period is 5 because AUC is/are not implemented for GPU\n",
      "AUC is not implemented on GPU. Will use CPU for metric computation, this could significantly affect learning time\n"
     ]
    },
    {
     "name": "stdout",
     "output_type": "stream",
     "text": [
      "Fold 1 - AUC: 0.7337\n",
      "\n",
      "              precision    recall  f1-score   support\n",
      "\n",
      "           0       0.69      0.99      0.81      6797\n",
      "           1       0.47      0.02      0.03      2081\n",
      "           2       0.46      0.09      0.16       633\n",
      "           3       0.00      0.00      0.00        56\n",
      "           4       0.36      0.01      0.02       433\n",
      "\n",
      "    accuracy                           0.68     10000\n",
      "   macro avg       0.40      0.22      0.20     10000\n",
      "weighted avg       0.61      0.68      0.57     10000\n",
      "\n",
      "----------------------------------------------\n",
      "\n"
     ]
    },
    {
     "name": "stderr",
     "output_type": "stream",
     "text": [
      "c:\\Users\\citioplab\\works\\codes\\plant\\plant_venv\\Lib\\site-packages\\sklearn\\metrics\\_classification.py:1531: UndefinedMetricWarning: Precision is ill-defined and being set to 0.0 in labels with no predicted samples. Use `zero_division` parameter to control this behavior.\n",
      "  _warn_prf(average, modifier, f\"{metric.capitalize()} is\", len(result))\n",
      "c:\\Users\\citioplab\\works\\codes\\plant\\plant_venv\\Lib\\site-packages\\sklearn\\metrics\\_classification.py:1531: UndefinedMetricWarning: Precision is ill-defined and being set to 0.0 in labels with no predicted samples. Use `zero_division` parameter to control this behavior.\n",
      "  _warn_prf(average, modifier, f\"{metric.capitalize()} is\", len(result))\n",
      "c:\\Users\\citioplab\\works\\codes\\plant\\plant_venv\\Lib\\site-packages\\sklearn\\metrics\\_classification.py:1531: UndefinedMetricWarning: Precision is ill-defined and being set to 0.0 in labels with no predicted samples. Use `zero_division` parameter to control this behavior.\n",
      "  _warn_prf(average, modifier, f\"{metric.capitalize()} is\", len(result))\n",
      "Default metric period is 5 because AUC is/are not implemented for GPU\n",
      "AUC is not implemented on GPU. Will use CPU for metric computation, this could significantly affect learning time\n"
     ]
    },
    {
     "name": "stdout",
     "output_type": "stream",
     "text": [
      "Fold 2 - AUC: 0.7520\n",
      "\n",
      "              precision    recall  f1-score   support\n",
      "\n",
      "           0       0.69      0.99      0.81      6796\n",
      "           1       0.57      0.01      0.02      2082\n",
      "           2       0.43      0.08      0.14       632\n",
      "           3       0.00      0.00      0.00        56\n",
      "           4       0.50      0.01      0.02       434\n",
      "\n",
      "    accuracy                           0.68     10000\n",
      "   macro avg       0.44      0.22      0.20     10000\n",
      "weighted avg       0.63      0.68      0.56     10000\n",
      "\n",
      "----------------------------------------------\n",
      "\n"
     ]
    },
    {
     "name": "stderr",
     "output_type": "stream",
     "text": [
      "c:\\Users\\citioplab\\works\\codes\\plant\\plant_venv\\Lib\\site-packages\\sklearn\\metrics\\_classification.py:1531: UndefinedMetricWarning: Precision is ill-defined and being set to 0.0 in labels with no predicted samples. Use `zero_division` parameter to control this behavior.\n",
      "  _warn_prf(average, modifier, f\"{metric.capitalize()} is\", len(result))\n",
      "c:\\Users\\citioplab\\works\\codes\\plant\\plant_venv\\Lib\\site-packages\\sklearn\\metrics\\_classification.py:1531: UndefinedMetricWarning: Precision is ill-defined and being set to 0.0 in labels with no predicted samples. Use `zero_division` parameter to control this behavior.\n",
      "  _warn_prf(average, modifier, f\"{metric.capitalize()} is\", len(result))\n",
      "c:\\Users\\citioplab\\works\\codes\\plant\\plant_venv\\Lib\\site-packages\\sklearn\\metrics\\_classification.py:1531: UndefinedMetricWarning: Precision is ill-defined and being set to 0.0 in labels with no predicted samples. Use `zero_division` parameter to control this behavior.\n",
      "  _warn_prf(average, modifier, f\"{metric.capitalize()} is\", len(result))\n",
      "Default metric period is 5 because AUC is/are not implemented for GPU\n",
      "AUC is not implemented on GPU. Will use CPU for metric computation, this could significantly affect learning time\n"
     ]
    },
    {
     "name": "stdout",
     "output_type": "stream",
     "text": [
      "Fold 3 - AUC: 0.7306\n",
      "\n",
      "              precision    recall  f1-score   support\n",
      "\n",
      "           0       0.69      0.99      0.81      6796\n",
      "           1       0.51      0.01      0.02      2082\n",
      "           2       0.47      0.09      0.15       632\n",
      "           3       0.00      0.00      0.00        57\n",
      "           4       0.33      0.00      0.01       433\n",
      "\n",
      "    accuracy                           0.68     10000\n",
      "   macro avg       0.40      0.22      0.20     10000\n",
      "weighted avg       0.62      0.68      0.56     10000\n",
      "\n",
      "----------------------------------------------\n",
      "\n"
     ]
    },
    {
     "name": "stderr",
     "output_type": "stream",
     "text": [
      "c:\\Users\\citioplab\\works\\codes\\plant\\plant_venv\\Lib\\site-packages\\sklearn\\metrics\\_classification.py:1531: UndefinedMetricWarning: Precision is ill-defined and being set to 0.0 in labels with no predicted samples. Use `zero_division` parameter to control this behavior.\n",
      "  _warn_prf(average, modifier, f\"{metric.capitalize()} is\", len(result))\n",
      "c:\\Users\\citioplab\\works\\codes\\plant\\plant_venv\\Lib\\site-packages\\sklearn\\metrics\\_classification.py:1531: UndefinedMetricWarning: Precision is ill-defined and being set to 0.0 in labels with no predicted samples. Use `zero_division` parameter to control this behavior.\n",
      "  _warn_prf(average, modifier, f\"{metric.capitalize()} is\", len(result))\n",
      "c:\\Users\\citioplab\\works\\codes\\plant\\plant_venv\\Lib\\site-packages\\sklearn\\metrics\\_classification.py:1531: UndefinedMetricWarning: Precision is ill-defined and being set to 0.0 in labels with no predicted samples. Use `zero_division` parameter to control this behavior.\n",
      "  _warn_prf(average, modifier, f\"{metric.capitalize()} is\", len(result))\n",
      "Default metric period is 5 because AUC is/are not implemented for GPU\n",
      "AUC is not implemented on GPU. Will use CPU for metric computation, this could significantly affect learning time\n"
     ]
    },
    {
     "name": "stdout",
     "output_type": "stream",
     "text": [
      "Fold 4 - AUC: 0.7303\n",
      "\n",
      "              precision    recall  f1-score   support\n",
      "\n",
      "           0       0.68      0.99      0.81      6796\n",
      "           1       0.64      0.00      0.01      2082\n",
      "           2       0.45      0.07      0.12       632\n",
      "           3       0.00      0.00      0.00        57\n",
      "           4       0.00      0.00      0.00       433\n",
      "\n",
      "    accuracy                           0.68     10000\n",
      "   macro avg       0.36      0.21      0.19     10000\n",
      "weighted avg       0.63      0.68      0.56     10000\n",
      "\n",
      "----------------------------------------------\n",
      "\n"
     ]
    },
    {
     "name": "stderr",
     "output_type": "stream",
     "text": [
      "c:\\Users\\citioplab\\works\\codes\\plant\\plant_venv\\Lib\\site-packages\\sklearn\\metrics\\_classification.py:1531: UndefinedMetricWarning: Precision is ill-defined and being set to 0.0 in labels with no predicted samples. Use `zero_division` parameter to control this behavior.\n",
      "  _warn_prf(average, modifier, f\"{metric.capitalize()} is\", len(result))\n",
      "c:\\Users\\citioplab\\works\\codes\\plant\\plant_venv\\Lib\\site-packages\\sklearn\\metrics\\_classification.py:1531: UndefinedMetricWarning: Precision is ill-defined and being set to 0.0 in labels with no predicted samples. Use `zero_division` parameter to control this behavior.\n",
      "  _warn_prf(average, modifier, f\"{metric.capitalize()} is\", len(result))\n",
      "c:\\Users\\citioplab\\works\\codes\\plant\\plant_venv\\Lib\\site-packages\\sklearn\\metrics\\_classification.py:1531: UndefinedMetricWarning: Precision is ill-defined and being set to 0.0 in labels with no predicted samples. Use `zero_division` parameter to control this behavior.\n",
      "  _warn_prf(average, modifier, f\"{metric.capitalize()} is\", len(result))\n",
      "Default metric period is 5 because AUC is/are not implemented for GPU\n",
      "AUC is not implemented on GPU. Will use CPU for metric computation, this could significantly affect learning time\n"
     ]
    },
    {
     "name": "stdout",
     "output_type": "stream",
     "text": [
      "Fold 5 - AUC: 0.7469\n",
      "\n",
      "              precision    recall  f1-score   support\n",
      "\n",
      "           0       0.68      0.99      0.81      6796\n",
      "           1       0.29      0.00      0.00      2081\n",
      "           2       0.46      0.07      0.12       633\n",
      "           3       0.00      0.00      0.00        57\n",
      "           4       1.00      0.00      0.00       433\n",
      "\n",
      "    accuracy                           0.68     10000\n",
      "   macro avg       0.49      0.21      0.19     10000\n",
      "weighted avg       0.60      0.68      0.56     10000\n",
      "\n",
      "----------------------------------------------\n",
      "\n"
     ]
    },
    {
     "name": "stderr",
     "output_type": "stream",
     "text": [
      "c:\\Users\\citioplab\\works\\codes\\plant\\plant_venv\\Lib\\site-packages\\sklearn\\metrics\\_classification.py:1531: UndefinedMetricWarning: Precision is ill-defined and being set to 0.0 in labels with no predicted samples. Use `zero_division` parameter to control this behavior.\n",
      "  _warn_prf(average, modifier, f\"{metric.capitalize()} is\", len(result))\n",
      "c:\\Users\\citioplab\\works\\codes\\plant\\plant_venv\\Lib\\site-packages\\sklearn\\metrics\\_classification.py:1531: UndefinedMetricWarning: Precision is ill-defined and being set to 0.0 in labels with no predicted samples. Use `zero_division` parameter to control this behavior.\n",
      "  _warn_prf(average, modifier, f\"{metric.capitalize()} is\", len(result))\n",
      "c:\\Users\\citioplab\\works\\codes\\plant\\plant_venv\\Lib\\site-packages\\sklearn\\metrics\\_classification.py:1531: UndefinedMetricWarning: Precision is ill-defined and being set to 0.0 in labels with no predicted samples. Use `zero_division` parameter to control this behavior.\n",
      "  _warn_prf(average, modifier, f\"{metric.capitalize()} is\", len(result))\n"
     ]
    }
   ],
   "source": [
    "kf = StratifiedKFold(n_splits = 5, shuffle = True, random_state = seed)\n",
    "model_path = './saved_models/catboost_added/'\n",
    "cb_model = cb.CatBoostClassifier(iterations = 1000, learning_rate = 0.05, random_state = seed, eval_metric = 'AUC', verbose = False, cat_features = cat_features, task_type = \"GPU\")\n",
    "custom_cross_validate_v1(cb_model, X_new, y, kf, model_path)"
   ]
  },
  {
   "cell_type": "code",
   "execution_count": 27,
   "metadata": {},
   "outputs": [],
   "source": [
    "selected_fold = 2\n",
    "final_model_path = model_path + f'fold{selected_fold}.pkl'\n",
    "final_model = joblib.load(final_model_path)\n",
    "final_preds = final_model.predict_proba(test_new.drop(['uid'], axis = 1))"
   ]
  },
  {
   "cell_type": "code",
   "execution_count": 28,
   "metadata": {},
   "outputs": [],
   "source": [
    "submission = pd.DataFrame({\n",
    "    'uid': test['uid'],\n",
    "    'out': final_preds[:, 0],\n",
    "    'single': final_preds[:, 1],\n",
    "    'double': final_preds[:, 2],\n",
    "    'triple': final_preds[:, 3],\n",
    "    'home_run': final_preds[:, 4]\n",
    "})"
   ]
  },
  {
   "cell_type": "code",
   "execution_count": 29,
   "metadata": {},
   "outputs": [],
   "source": [
    "submission.to_csv('./submissions/third_attempt.csv', index = False)"
   ]
  },
  {
   "cell_type": "markdown",
   "metadata": {},
   "source": [
    "Submission results<br>\n",
    "Public Score: 0.70973<br>\n",
    "Private Score: 0.74265"
   ]
  },
  {
   "cell_type": "markdown",
   "metadata": {},
   "source": [
    "#### Try to apply feature selection"
   ]
  },
  {
   "cell_type": "code",
   "execution_count": 32,
   "metadata": {},
   "outputs": [
    {
     "data": {
      "text/html": [
       "<div>\n",
       "<style scoped>\n",
       "    .dataframe tbody tr th:only-of-type {\n",
       "        vertical-align: middle;\n",
       "    }\n",
       "\n",
       "    .dataframe tbody tr th {\n",
       "        vertical-align: top;\n",
       "    }\n",
       "\n",
       "    .dataframe thead th {\n",
       "        text-align: right;\n",
       "    }\n",
       "</style>\n",
       "<table border=\"1\" class=\"dataframe\">\n",
       "  <thead>\n",
       "    <tr style=\"text-align: right;\">\n",
       "      <th></th>\n",
       "      <th>Value</th>\n",
       "      <th>Feature</th>\n",
       "    </tr>\n",
       "  </thead>\n",
       "  <tbody>\n",
       "    <tr>\n",
       "      <th>0</th>\n",
       "      <td>0.000000</td>\n",
       "      <td>is_lhp</td>\n",
       "    </tr>\n",
       "    <tr>\n",
       "      <th>1</th>\n",
       "      <td>0.000000</td>\n",
       "      <td>is_strike</td>\n",
       "    </tr>\n",
       "    <tr>\n",
       "      <th>2</th>\n",
       "      <td>0.000000</td>\n",
       "      <td>pitch_name</td>\n",
       "    </tr>\n",
       "    <tr>\n",
       "      <th>3</th>\n",
       "      <td>0.017150</td>\n",
       "      <td>late_inning_pressure</td>\n",
       "    </tr>\n",
       "    <tr>\n",
       "      <th>4</th>\n",
       "      <td>0.042936</td>\n",
       "      <td>release_x_deviation</td>\n",
       "    </tr>\n",
       "  </tbody>\n",
       "</table>\n",
       "</div>"
      ],
      "text/plain": [
       "      Value               Feature\n",
       "0  0.000000                is_lhp\n",
       "1  0.000000             is_strike\n",
       "2  0.000000            pitch_name\n",
       "3  0.017150  late_inning_pressure\n",
       "4  0.042936   release_x_deviation"
      ]
     },
     "execution_count": 32,
     "metadata": {},
     "output_type": "execute_result"
    }
   ],
   "source": [
    "feature_importance = final_model.get_feature_importance()\n",
    "feature_imp = pd.DataFrame(sorted(zip(feature_importance, X_new.columns)), columns=['Value', 'Feature'])\n",
    "feature_imp.head()"
   ]
  },
  {
   "cell_type": "code",
   "execution_count": 31,
   "metadata": {},
   "outputs": [],
   "source": [
    "feature_imp.to_csv('./model_features/catboost.csv', index = False)"
   ]
  },
  {
   "cell_type": "code",
   "execution_count": 44,
   "metadata": {},
   "outputs": [],
   "source": [
    "features_df = pd.read_csv('./model_features/catboost.csv')\n",
    "selected_features = features_df.iloc[-40:, 1].tolist()\n",
    "X_new_selected = X_new[selected_features]\n",
    "test_new_selected = test_new[selected_features]"
   ]
  },
  {
   "cell_type": "code",
   "execution_count": 42,
   "metadata": {},
   "outputs": [
    {
     "data": {
      "text/plain": [
       "[]"
      ]
     },
     "execution_count": 42,
     "metadata": {},
     "output_type": "execute_result"
    }
   ],
   "source": [
    "X_new_selected.select_dtypes(include = 'category').columns.tolist()"
   ]
  },
  {
   "cell_type": "code",
   "execution_count": 43,
   "metadata": {},
   "outputs": [
    {
     "name": "stderr",
     "output_type": "stream",
     "text": [
      "Default metric period is 5 because AUC is/are not implemented for GPU\n",
      "AUC is not implemented on GPU. Will use CPU for metric computation, this could significantly affect learning time\n"
     ]
    },
    {
     "name": "stdout",
     "output_type": "stream",
     "text": [
      "Fold 1 - AUC: 0.7413\n",
      "\n",
      "              precision    recall  f1-score   support\n",
      "\n",
      "           0       0.69      0.98      0.81      6797\n",
      "           1       0.48      0.02      0.04      2081\n",
      "           2       0.42      0.10      0.16       633\n",
      "           3       0.00      0.00      0.00        56\n",
      "           4       0.36      0.01      0.02       433\n",
      "\n",
      "    accuracy                           0.68     10000\n",
      "   macro avg       0.39      0.22      0.21     10000\n",
      "weighted avg       0.61      0.68      0.57     10000\n",
      "\n",
      "----------------------------------------------\n",
      "\n"
     ]
    },
    {
     "name": "stderr",
     "output_type": "stream",
     "text": [
      "c:\\Users\\citioplab\\works\\codes\\plant\\plant_venv\\Lib\\site-packages\\sklearn\\metrics\\_classification.py:1531: UndefinedMetricWarning: Precision is ill-defined and being set to 0.0 in labels with no predicted samples. Use `zero_division` parameter to control this behavior.\n",
      "  _warn_prf(average, modifier, f\"{metric.capitalize()} is\", len(result))\n",
      "c:\\Users\\citioplab\\works\\codes\\plant\\plant_venv\\Lib\\site-packages\\sklearn\\metrics\\_classification.py:1531: UndefinedMetricWarning: Precision is ill-defined and being set to 0.0 in labels with no predicted samples. Use `zero_division` parameter to control this behavior.\n",
      "  _warn_prf(average, modifier, f\"{metric.capitalize()} is\", len(result))\n",
      "c:\\Users\\citioplab\\works\\codes\\plant\\plant_venv\\Lib\\site-packages\\sklearn\\metrics\\_classification.py:1531: UndefinedMetricWarning: Precision is ill-defined and being set to 0.0 in labels with no predicted samples. Use `zero_division` parameter to control this behavior.\n",
      "  _warn_prf(average, modifier, f\"{metric.capitalize()} is\", len(result))\n",
      "Default metric period is 5 because AUC is/are not implemented for GPU\n",
      "AUC is not implemented on GPU. Will use CPU for metric computation, this could significantly affect learning time\n"
     ]
    },
    {
     "name": "stdout",
     "output_type": "stream",
     "text": [
      "Fold 2 - AUC: 0.7524\n",
      "\n",
      "              precision    recall  f1-score   support\n",
      "\n",
      "           0       0.69      0.99      0.81      6796\n",
      "           1       0.40      0.01      0.01      2082\n",
      "           2       0.47      0.09      0.15       632\n",
      "           3       0.00      0.00      0.00        56\n",
      "           4       0.33      0.00      0.01       434\n",
      "\n",
      "    accuracy                           0.68     10000\n",
      "   macro avg       0.38      0.22      0.20     10000\n",
      "weighted avg       0.59      0.68      0.56     10000\n",
      "\n",
      "----------------------------------------------\n",
      "\n"
     ]
    },
    {
     "name": "stderr",
     "output_type": "stream",
     "text": [
      "c:\\Users\\citioplab\\works\\codes\\plant\\plant_venv\\Lib\\site-packages\\sklearn\\metrics\\_classification.py:1531: UndefinedMetricWarning: Precision is ill-defined and being set to 0.0 in labels with no predicted samples. Use `zero_division` parameter to control this behavior.\n",
      "  _warn_prf(average, modifier, f\"{metric.capitalize()} is\", len(result))\n",
      "c:\\Users\\citioplab\\works\\codes\\plant\\plant_venv\\Lib\\site-packages\\sklearn\\metrics\\_classification.py:1531: UndefinedMetricWarning: Precision is ill-defined and being set to 0.0 in labels with no predicted samples. Use `zero_division` parameter to control this behavior.\n",
      "  _warn_prf(average, modifier, f\"{metric.capitalize()} is\", len(result))\n",
      "c:\\Users\\citioplab\\works\\codes\\plant\\plant_venv\\Lib\\site-packages\\sklearn\\metrics\\_classification.py:1531: UndefinedMetricWarning: Precision is ill-defined and being set to 0.0 in labels with no predicted samples. Use `zero_division` parameter to control this behavior.\n",
      "  _warn_prf(average, modifier, f\"{metric.capitalize()} is\", len(result))\n",
      "Default metric period is 5 because AUC is/are not implemented for GPU\n",
      "AUC is not implemented on GPU. Will use CPU for metric computation, this could significantly affect learning time\n"
     ]
    },
    {
     "name": "stdout",
     "output_type": "stream",
     "text": [
      "Fold 3 - AUC: 0.7343\n",
      "\n",
      "              precision    recall  f1-score   support\n",
      "\n",
      "           0       0.69      0.99      0.81      6796\n",
      "           1       0.46      0.01      0.02      2082\n",
      "           2       0.45      0.08      0.14       632\n",
      "           3       0.00      0.00      0.00        57\n",
      "           4       0.50      0.00      0.00       433\n",
      "\n",
      "    accuracy                           0.68     10000\n",
      "   macro avg       0.42      0.22      0.19     10000\n",
      "weighted avg       0.61      0.68      0.56     10000\n",
      "\n",
      "----------------------------------------------\n",
      "\n"
     ]
    },
    {
     "name": "stderr",
     "output_type": "stream",
     "text": [
      "c:\\Users\\citioplab\\works\\codes\\plant\\plant_venv\\Lib\\site-packages\\sklearn\\metrics\\_classification.py:1531: UndefinedMetricWarning: Precision is ill-defined and being set to 0.0 in labels with no predicted samples. Use `zero_division` parameter to control this behavior.\n",
      "  _warn_prf(average, modifier, f\"{metric.capitalize()} is\", len(result))\n",
      "c:\\Users\\citioplab\\works\\codes\\plant\\plant_venv\\Lib\\site-packages\\sklearn\\metrics\\_classification.py:1531: UndefinedMetricWarning: Precision is ill-defined and being set to 0.0 in labels with no predicted samples. Use `zero_division` parameter to control this behavior.\n",
      "  _warn_prf(average, modifier, f\"{metric.capitalize()} is\", len(result))\n",
      "c:\\Users\\citioplab\\works\\codes\\plant\\plant_venv\\Lib\\site-packages\\sklearn\\metrics\\_classification.py:1531: UndefinedMetricWarning: Precision is ill-defined and being set to 0.0 in labels with no predicted samples. Use `zero_division` parameter to control this behavior.\n",
      "  _warn_prf(average, modifier, f\"{metric.capitalize()} is\", len(result))\n",
      "Default metric period is 5 because AUC is/are not implemented for GPU\n",
      "AUC is not implemented on GPU. Will use CPU for metric computation, this could significantly affect learning time\n"
     ]
    },
    {
     "name": "stdout",
     "output_type": "stream",
     "text": [
      "Fold 4 - AUC: 0.7368\n",
      "\n",
      "              precision    recall  f1-score   support\n",
      "\n",
      "           0       0.68      0.99      0.81      6796\n",
      "           1       0.66      0.01      0.02      2082\n",
      "           2       0.42      0.08      0.13       632\n",
      "           3       0.00      0.00      0.00        57\n",
      "           4       0.00      0.00      0.00       433\n",
      "\n",
      "    accuracy                           0.68     10000\n",
      "   macro avg       0.35      0.22      0.19     10000\n",
      "weighted avg       0.63      0.68      0.56     10000\n",
      "\n",
      "----------------------------------------------\n",
      "\n"
     ]
    },
    {
     "name": "stderr",
     "output_type": "stream",
     "text": [
      "c:\\Users\\citioplab\\works\\codes\\plant\\plant_venv\\Lib\\site-packages\\sklearn\\metrics\\_classification.py:1531: UndefinedMetricWarning: Precision is ill-defined and being set to 0.0 in labels with no predicted samples. Use `zero_division` parameter to control this behavior.\n",
      "  _warn_prf(average, modifier, f\"{metric.capitalize()} is\", len(result))\n",
      "c:\\Users\\citioplab\\works\\codes\\plant\\plant_venv\\Lib\\site-packages\\sklearn\\metrics\\_classification.py:1531: UndefinedMetricWarning: Precision is ill-defined and being set to 0.0 in labels with no predicted samples. Use `zero_division` parameter to control this behavior.\n",
      "  _warn_prf(average, modifier, f\"{metric.capitalize()} is\", len(result))\n",
      "c:\\Users\\citioplab\\works\\codes\\plant\\plant_venv\\Lib\\site-packages\\sklearn\\metrics\\_classification.py:1531: UndefinedMetricWarning: Precision is ill-defined and being set to 0.0 in labels with no predicted samples. Use `zero_division` parameter to control this behavior.\n",
      "  _warn_prf(average, modifier, f\"{metric.capitalize()} is\", len(result))\n",
      "Default metric period is 5 because AUC is/are not implemented for GPU\n",
      "AUC is not implemented on GPU. Will use CPU for metric computation, this could significantly affect learning time\n"
     ]
    },
    {
     "name": "stdout",
     "output_type": "stream",
     "text": [
      "Fold 5 - AUC: 0.7447\n",
      "\n",
      "              precision    recall  f1-score   support\n",
      "\n",
      "           0       0.68      0.99      0.81      6796\n",
      "           1       0.33      0.00      0.01      2081\n",
      "           2       0.41      0.07      0.12       633\n",
      "           3       0.00      0.00      0.00        57\n",
      "           4       0.00      0.00      0.00       433\n",
      "\n",
      "    accuracy                           0.68     10000\n",
      "   macro avg       0.29      0.21      0.19     10000\n",
      "weighted avg       0.56      0.68      0.56     10000\n",
      "\n",
      "----------------------------------------------\n",
      "\n"
     ]
    },
    {
     "name": "stderr",
     "output_type": "stream",
     "text": [
      "c:\\Users\\citioplab\\works\\codes\\plant\\plant_venv\\Lib\\site-packages\\sklearn\\metrics\\_classification.py:1531: UndefinedMetricWarning: Precision is ill-defined and being set to 0.0 in labels with no predicted samples. Use `zero_division` parameter to control this behavior.\n",
      "  _warn_prf(average, modifier, f\"{metric.capitalize()} is\", len(result))\n",
      "c:\\Users\\citioplab\\works\\codes\\plant\\plant_venv\\Lib\\site-packages\\sklearn\\metrics\\_classification.py:1531: UndefinedMetricWarning: Precision is ill-defined and being set to 0.0 in labels with no predicted samples. Use `zero_division` parameter to control this behavior.\n",
      "  _warn_prf(average, modifier, f\"{metric.capitalize()} is\", len(result))\n",
      "c:\\Users\\citioplab\\works\\codes\\plant\\plant_venv\\Lib\\site-packages\\sklearn\\metrics\\_classification.py:1531: UndefinedMetricWarning: Precision is ill-defined and being set to 0.0 in labels with no predicted samples. Use `zero_division` parameter to control this behavior.\n",
      "  _warn_prf(average, modifier, f\"{metric.capitalize()} is\", len(result))\n"
     ]
    }
   ],
   "source": [
    "kf = StratifiedKFold(n_splits = 5, shuffle = True, random_state = seed)\n",
    "model_path = './saved_models/catboost_added_selected/'\n",
    "cb_model = cb.CatBoostClassifier(iterations = 1000, learning_rate = 0.05, random_state = seed, eval_metric = 'AUC', verbose = False, task_type = \"GPU\")\n",
    "custom_cross_validate_v1(cb_model, X_new_selected, y, kf, model_path)"
   ]
  },
  {
   "cell_type": "code",
   "execution_count": 58,
   "metadata": {},
   "outputs": [],
   "source": [
    "selected_fold = 2\n",
    "final_model_path = model_path + f'fold{selected_fold}.pkl'\n",
    "final_model = joblib.load(final_model_path)\n",
    "final_preds = final_model.predict_proba(test_new_selected)"
   ]
  },
  {
   "cell_type": "code",
   "execution_count": 59,
   "metadata": {},
   "outputs": [],
   "source": [
    "submission = pd.DataFrame({\n",
    "    'uid': test['uid'],\n",
    "    'out': final_preds[:, 0],\n",
    "    'single': final_preds[:, 1],\n",
    "    'double': final_preds[:, 2],\n",
    "    'triple': final_preds[:, 3],\n",
    "    'home_run': final_preds[:, 4]\n",
    "})"
   ]
  },
  {
   "cell_type": "code",
   "execution_count": 60,
   "metadata": {},
   "outputs": [],
   "source": [
    "submission.to_csv('./submissions/fifth_attempt.csv', index = False)"
   ]
  },
  {
   "cell_type": "markdown",
   "metadata": {},
   "source": [
    "Submission results<br>\n",
    "Public Score: 0.70636<br>\n",
    "Private Score: 0.74513"
   ]
  },
  {
   "cell_type": "code",
   "execution_count": 36,
   "metadata": {},
   "outputs": [
    {
     "name": "stdout",
     "output_type": "stream",
     "text": [
      "Fold 1 - AUC: 0.7140\n",
      "\n",
      "              precision    recall  f1-score   support\n",
      "\n",
      "           0       0.68      0.99      0.81      6797\n",
      "           1       0.35      0.01      0.03      2081\n",
      "           2       0.42      0.06      0.11       633\n",
      "           3       0.00      0.00      0.00        56\n",
      "           4       0.22      0.00      0.01       433\n",
      "\n",
      "    accuracy                           0.68     10000\n",
      "   macro avg       0.34      0.21      0.19     10000\n",
      "weighted avg       0.57      0.68      0.56     10000\n",
      "\n",
      "----------------------------------------------\n",
      "\n"
     ]
    },
    {
     "name": "stderr",
     "output_type": "stream",
     "text": [
      "c:\\Users\\citioplab\\works\\codes\\plant\\plant_venv\\Lib\\site-packages\\sklearn\\metrics\\_classification.py:1531: UndefinedMetricWarning: Precision is ill-defined and being set to 0.0 in labels with no predicted samples. Use `zero_division` parameter to control this behavior.\n",
      "  _warn_prf(average, modifier, f\"{metric.capitalize()} is\", len(result))\n",
      "c:\\Users\\citioplab\\works\\codes\\plant\\plant_venv\\Lib\\site-packages\\sklearn\\metrics\\_classification.py:1531: UndefinedMetricWarning: Precision is ill-defined and being set to 0.0 in labels with no predicted samples. Use `zero_division` parameter to control this behavior.\n",
      "  _warn_prf(average, modifier, f\"{metric.capitalize()} is\", len(result))\n",
      "c:\\Users\\citioplab\\works\\codes\\plant\\plant_venv\\Lib\\site-packages\\sklearn\\metrics\\_classification.py:1531: UndefinedMetricWarning: Precision is ill-defined and being set to 0.0 in labels with no predicted samples. Use `zero_division` parameter to control this behavior.\n",
      "  _warn_prf(average, modifier, f\"{metric.capitalize()} is\", len(result))\n"
     ]
    },
    {
     "name": "stdout",
     "output_type": "stream",
     "text": [
      "Fold 2 - AUC: 0.7237\n",
      "\n",
      "              precision    recall  f1-score   support\n",
      "\n",
      "           0       0.69      0.99      0.81      6796\n",
      "           1       0.51      0.02      0.04      2082\n",
      "           2       0.48      0.08      0.14       632\n",
      "           3       0.00      0.00      0.00        56\n",
      "           4       0.33      0.00      0.01       434\n",
      "\n",
      "    accuracy                           0.68     10000\n",
      "   macro avg       0.40      0.22      0.20     10000\n",
      "weighted avg       0.62      0.68      0.57     10000\n",
      "\n",
      "----------------------------------------------\n",
      "\n"
     ]
    },
    {
     "name": "stderr",
     "output_type": "stream",
     "text": [
      "c:\\Users\\citioplab\\works\\codes\\plant\\plant_venv\\Lib\\site-packages\\sklearn\\metrics\\_classification.py:1531: UndefinedMetricWarning: Precision is ill-defined and being set to 0.0 in labels with no predicted samples. Use `zero_division` parameter to control this behavior.\n",
      "  _warn_prf(average, modifier, f\"{metric.capitalize()} is\", len(result))\n",
      "c:\\Users\\citioplab\\works\\codes\\plant\\plant_venv\\Lib\\site-packages\\sklearn\\metrics\\_classification.py:1531: UndefinedMetricWarning: Precision is ill-defined and being set to 0.0 in labels with no predicted samples. Use `zero_division` parameter to control this behavior.\n",
      "  _warn_prf(average, modifier, f\"{metric.capitalize()} is\", len(result))\n",
      "c:\\Users\\citioplab\\works\\codes\\plant\\plant_venv\\Lib\\site-packages\\sklearn\\metrics\\_classification.py:1531: UndefinedMetricWarning: Precision is ill-defined and being set to 0.0 in labels with no predicted samples. Use `zero_division` parameter to control this behavior.\n",
      "  _warn_prf(average, modifier, f\"{metric.capitalize()} is\", len(result))\n"
     ]
    },
    {
     "name": "stdout",
     "output_type": "stream",
     "text": [
      "Fold 3 - AUC: 0.6995\n",
      "\n",
      "              precision    recall  f1-score   support\n",
      "\n",
      "           0       0.68      0.99      0.81      6796\n",
      "           1       0.41      0.01      0.02      2082\n",
      "           2       0.41      0.07      0.12       632\n",
      "           3       0.00      0.00      0.00        57\n",
      "           4       0.80      0.01      0.02       433\n",
      "\n",
      "    accuracy                           0.68     10000\n",
      "   macro avg       0.46      0.22      0.20     10000\n",
      "weighted avg       0.61      0.68      0.56     10000\n",
      "\n",
      "----------------------------------------------\n",
      "\n"
     ]
    },
    {
     "name": "stderr",
     "output_type": "stream",
     "text": [
      "c:\\Users\\citioplab\\works\\codes\\plant\\plant_venv\\Lib\\site-packages\\sklearn\\metrics\\_classification.py:1531: UndefinedMetricWarning: Precision is ill-defined and being set to 0.0 in labels with no predicted samples. Use `zero_division` parameter to control this behavior.\n",
      "  _warn_prf(average, modifier, f\"{metric.capitalize()} is\", len(result))\n",
      "c:\\Users\\citioplab\\works\\codes\\plant\\plant_venv\\Lib\\site-packages\\sklearn\\metrics\\_classification.py:1531: UndefinedMetricWarning: Precision is ill-defined and being set to 0.0 in labels with no predicted samples. Use `zero_division` parameter to control this behavior.\n",
      "  _warn_prf(average, modifier, f\"{metric.capitalize()} is\", len(result))\n",
      "c:\\Users\\citioplab\\works\\codes\\plant\\plant_venv\\Lib\\site-packages\\sklearn\\metrics\\_classification.py:1531: UndefinedMetricWarning: Precision is ill-defined and being set to 0.0 in labels with no predicted samples. Use `zero_division` parameter to control this behavior.\n",
      "  _warn_prf(average, modifier, f\"{metric.capitalize()} is\", len(result))\n"
     ]
    },
    {
     "name": "stdout",
     "output_type": "stream",
     "text": [
      "Fold 4 - AUC: 0.7008\n",
      "\n",
      "              precision    recall  f1-score   support\n",
      "\n",
      "           0       0.68      0.99      0.81      6796\n",
      "           1       0.40      0.02      0.03      2082\n",
      "           2       0.39      0.07      0.12       632\n",
      "           3       0.00      0.00      0.00        57\n",
      "           4       0.11      0.00      0.00       433\n",
      "\n",
      "    accuracy                           0.68     10000\n",
      "   macro avg       0.32      0.21      0.19     10000\n",
      "weighted avg       0.58      0.68      0.56     10000\n",
      "\n",
      "----------------------------------------------\n",
      "\n"
     ]
    },
    {
     "name": "stderr",
     "output_type": "stream",
     "text": [
      "c:\\Users\\citioplab\\works\\codes\\plant\\plant_venv\\Lib\\site-packages\\sklearn\\metrics\\_classification.py:1531: UndefinedMetricWarning: Precision is ill-defined and being set to 0.0 in labels with no predicted samples. Use `zero_division` parameter to control this behavior.\n",
      "  _warn_prf(average, modifier, f\"{metric.capitalize()} is\", len(result))\n",
      "c:\\Users\\citioplab\\works\\codes\\plant\\plant_venv\\Lib\\site-packages\\sklearn\\metrics\\_classification.py:1531: UndefinedMetricWarning: Precision is ill-defined and being set to 0.0 in labels with no predicted samples. Use `zero_division` parameter to control this behavior.\n",
      "  _warn_prf(average, modifier, f\"{metric.capitalize()} is\", len(result))\n",
      "c:\\Users\\citioplab\\works\\codes\\plant\\plant_venv\\Lib\\site-packages\\sklearn\\metrics\\_classification.py:1531: UndefinedMetricWarning: Precision is ill-defined and being set to 0.0 in labels with no predicted samples. Use `zero_division` parameter to control this behavior.\n",
      "  _warn_prf(average, modifier, f\"{metric.capitalize()} is\", len(result))\n"
     ]
    },
    {
     "name": "stdout",
     "output_type": "stream",
     "text": [
      "Fold 5 - AUC: 0.7160\n",
      "\n",
      "              precision    recall  f1-score   support\n",
      "\n",
      "           0       0.68      0.98      0.81      6796\n",
      "           1       0.28      0.01      0.02      2081\n",
      "           2       0.43      0.07      0.12       633\n",
      "           3       0.00      0.00      0.00        57\n",
      "           4       0.38      0.01      0.01       433\n",
      "\n",
      "    accuracy                           0.68     10000\n",
      "   macro avg       0.35      0.21      0.19     10000\n",
      "weighted avg       0.57      0.68      0.56     10000\n",
      "\n",
      "----------------------------------------------\n",
      "\n"
     ]
    },
    {
     "name": "stderr",
     "output_type": "stream",
     "text": [
      "c:\\Users\\citioplab\\works\\codes\\plant\\plant_venv\\Lib\\site-packages\\sklearn\\metrics\\_classification.py:1531: UndefinedMetricWarning: Precision is ill-defined and being set to 0.0 in labels with no predicted samples. Use `zero_division` parameter to control this behavior.\n",
      "  _warn_prf(average, modifier, f\"{metric.capitalize()} is\", len(result))\n",
      "c:\\Users\\citioplab\\works\\codes\\plant\\plant_venv\\Lib\\site-packages\\sklearn\\metrics\\_classification.py:1531: UndefinedMetricWarning: Precision is ill-defined and being set to 0.0 in labels with no predicted samples. Use `zero_division` parameter to control this behavior.\n",
      "  _warn_prf(average, modifier, f\"{metric.capitalize()} is\", len(result))\n",
      "c:\\Users\\citioplab\\works\\codes\\plant\\plant_venv\\Lib\\site-packages\\sklearn\\metrics\\_classification.py:1531: UndefinedMetricWarning: Precision is ill-defined and being set to 0.0 in labels with no predicted samples. Use `zero_division` parameter to control this behavior.\n",
      "  _warn_prf(average, modifier, f\"{metric.capitalize()} is\", len(result))\n"
     ]
    }
   ],
   "source": [
    "kf = StratifiedKFold(n_splits = 5, shuffle = True, random_state = seed)\n",
    "model_path = './saved_models/lightgbm_added/'\n",
    "lgb_model = lgb.LGBMClassifier(verbosity = -1, random_state = seed, objective = 'multiclass', num_class = 5, n_estimators = 1000, learning_rate = 0.02, cat_features = cat_features, device = \"gpu\")\n",
    "custom_cross_validate_v1(lgb_model, X_new, y, kf, model_path)"
   ]
  },
  {
   "cell_type": "code",
   "execution_count": 27,
   "metadata": {},
   "outputs": [],
   "source": [
    "selected_fold = 2\n",
    "final_model_path = model_path + f'fold{selected_fold}.pkl'\n",
    "final_model = joblib.load(final_model_path)\n",
    "final_preds = final_model.predict_proba(test_new.drop(['uid'], axis = 1))"
   ]
  },
  {
   "cell_type": "code",
   "execution_count": 28,
   "metadata": {},
   "outputs": [],
   "source": [
    "submission = pd.DataFrame({\n",
    "    'uid': test['uid'],\n",
    "    'out': final_preds[:, 0],\n",
    "    'single': final_preds[:, 1],\n",
    "    'double': final_preds[:, 2],\n",
    "    'triple': final_preds[:, 3],\n",
    "    'home_run': final_preds[:, 4]\n",
    "})"
   ]
  },
  {
   "cell_type": "code",
   "execution_count": 29,
   "metadata": {},
   "outputs": [],
   "source": [
    "submission.to_csv('./submissions/fourth_attempt.csv', index = False)"
   ]
  },
  {
   "cell_type": "markdown",
   "metadata": {},
   "source": [
    "Submission results<br>\n",
    "Public Score: 0.69059<br>\n",
    "Private Score: 0.70730"
   ]
  },
  {
   "cell_type": "code",
   "execution_count": 37,
   "metadata": {},
   "outputs": [
    {
     "data": {
      "text/html": [
       "<div>\n",
       "<style scoped>\n",
       "    .dataframe tbody tr th:only-of-type {\n",
       "        vertical-align: middle;\n",
       "    }\n",
       "\n",
       "    .dataframe tbody tr th {\n",
       "        vertical-align: top;\n",
       "    }\n",
       "\n",
       "    .dataframe thead th {\n",
       "        text-align: right;\n",
       "    }\n",
       "</style>\n",
       "<table border=\"1\" class=\"dataframe\">\n",
       "  <thead>\n",
       "    <tr style=\"text-align: right;\">\n",
       "      <th></th>\n",
       "      <th>Value</th>\n",
       "      <th>Feature</th>\n",
       "    </tr>\n",
       "  </thead>\n",
       "  <tbody>\n",
       "    <tr>\n",
       "      <th>85</th>\n",
       "      <td>3336</td>\n",
       "      <td>vertical_change</td>\n",
       "    </tr>\n",
       "    <tr>\n",
       "      <th>86</th>\n",
       "      <td>3432</td>\n",
       "      <td>ay</td>\n",
       "    </tr>\n",
       "    <tr>\n",
       "      <th>87</th>\n",
       "      <td>3616</td>\n",
       "      <td>release_spin_rate</td>\n",
       "    </tr>\n",
       "    <tr>\n",
       "      <th>88</th>\n",
       "      <td>3925</td>\n",
       "      <td>horizontal_change</td>\n",
       "    </tr>\n",
       "    <tr>\n",
       "      <th>89</th>\n",
       "      <td>5495</td>\n",
       "      <td>plate_x</td>\n",
       "    </tr>\n",
       "  </tbody>\n",
       "</table>\n",
       "</div>"
      ],
      "text/plain": [
       "    Value            Feature\n",
       "85   3336    vertical_change\n",
       "86   3432                 ay\n",
       "87   3616  release_spin_rate\n",
       "88   3925  horizontal_change\n",
       "89   5495            plate_x"
      ]
     },
     "execution_count": 37,
     "metadata": {},
     "output_type": "execute_result"
    }
   ],
   "source": [
    "feature_imp = pd.DataFrame(sorted(zip(final_model.feature_importances_, X_new.columns)), columns=['Value', 'Feature'])\n",
    "feature_imp.tail()"
   ]
  },
  {
   "cell_type": "code",
   "execution_count": 38,
   "metadata": {},
   "outputs": [],
   "source": [
    "feature_imp.to_csv('./model_features/lightgbm.csv', index = False)"
   ]
  },
  {
   "cell_type": "code",
   "execution_count": 58,
   "metadata": {},
   "outputs": [],
   "source": [
    "features_df = pd.read_csv('./model_features/lightgbm.csv')\n",
    "selected_features = features_df.iloc[-40:, 1].tolist()\n",
    "X_new_selected = X_new[selected_features]\n",
    "test_new_selected = test_new[selected_features]"
   ]
  },
  {
   "cell_type": "code",
   "execution_count": 59,
   "metadata": {},
   "outputs": [
    {
     "data": {
      "text/plain": [
       "[]"
      ]
     },
     "execution_count": 59,
     "metadata": {},
     "output_type": "execute_result"
    }
   ],
   "source": [
    "X_new_selected.select_dtypes(include = 'category').columns.tolist()"
   ]
  },
  {
   "cell_type": "code",
   "execution_count": 60,
   "metadata": {},
   "outputs": [
    {
     "name": "stdout",
     "output_type": "stream",
     "text": [
      "Fold 1 - AUC: 0.7031\n",
      "\n",
      "              precision    recall  f1-score   support\n",
      "\n",
      "           0       0.68      0.99      0.81      6797\n",
      "           1       0.34      0.01      0.02      2081\n",
      "           2       0.35      0.05      0.08       633\n",
      "           3       0.00      0.00      0.00        56\n",
      "           4       0.22      0.00      0.01       433\n",
      "\n",
      "    accuracy                           0.68     10000\n",
      "   macro avg       0.32      0.21      0.18     10000\n",
      "weighted avg       0.57      0.68      0.56     10000\n",
      "\n",
      "----------------------------------------------\n",
      "\n"
     ]
    },
    {
     "name": "stderr",
     "output_type": "stream",
     "text": [
      "c:\\Users\\citioplab\\works\\codes\\plant\\plant_venv\\Lib\\site-packages\\sklearn\\metrics\\_classification.py:1531: UndefinedMetricWarning: Precision is ill-defined and being set to 0.0 in labels with no predicted samples. Use `zero_division` parameter to control this behavior.\n",
      "  _warn_prf(average, modifier, f\"{metric.capitalize()} is\", len(result))\n",
      "c:\\Users\\citioplab\\works\\codes\\plant\\plant_venv\\Lib\\site-packages\\sklearn\\metrics\\_classification.py:1531: UndefinedMetricWarning: Precision is ill-defined and being set to 0.0 in labels with no predicted samples. Use `zero_division` parameter to control this behavior.\n",
      "  _warn_prf(average, modifier, f\"{metric.capitalize()} is\", len(result))\n",
      "c:\\Users\\citioplab\\works\\codes\\plant\\plant_venv\\Lib\\site-packages\\sklearn\\metrics\\_classification.py:1531: UndefinedMetricWarning: Precision is ill-defined and being set to 0.0 in labels with no predicted samples. Use `zero_division` parameter to control this behavior.\n",
      "  _warn_prf(average, modifier, f\"{metric.capitalize()} is\", len(result))\n"
     ]
    },
    {
     "name": "stdout",
     "output_type": "stream",
     "text": [
      "Fold 2 - AUC: 0.7095\n",
      "\n",
      "              precision    recall  f1-score   support\n",
      "\n",
      "           0       0.68      0.99      0.81      6796\n",
      "           1       0.45      0.01      0.01      2082\n",
      "           2       0.39      0.06      0.11       632\n",
      "           3       0.00      0.00      0.00        56\n",
      "           4       0.42      0.01      0.02       434\n",
      "\n",
      "    accuracy                           0.68     10000\n",
      "   macro avg       0.39      0.21      0.19     10000\n",
      "weighted avg       0.60      0.68      0.56     10000\n",
      "\n",
      "----------------------------------------------\n",
      "\n"
     ]
    },
    {
     "name": "stderr",
     "output_type": "stream",
     "text": [
      "c:\\Users\\citioplab\\works\\codes\\plant\\plant_venv\\Lib\\site-packages\\sklearn\\metrics\\_classification.py:1531: UndefinedMetricWarning: Precision is ill-defined and being set to 0.0 in labels with no predicted samples. Use `zero_division` parameter to control this behavior.\n",
      "  _warn_prf(average, modifier, f\"{metric.capitalize()} is\", len(result))\n",
      "c:\\Users\\citioplab\\works\\codes\\plant\\plant_venv\\Lib\\site-packages\\sklearn\\metrics\\_classification.py:1531: UndefinedMetricWarning: Precision is ill-defined and being set to 0.0 in labels with no predicted samples. Use `zero_division` parameter to control this behavior.\n",
      "  _warn_prf(average, modifier, f\"{metric.capitalize()} is\", len(result))\n",
      "c:\\Users\\citioplab\\works\\codes\\plant\\plant_venv\\Lib\\site-packages\\sklearn\\metrics\\_classification.py:1531: UndefinedMetricWarning: Precision is ill-defined and being set to 0.0 in labels with no predicted samples. Use `zero_division` parameter to control this behavior.\n",
      "  _warn_prf(average, modifier, f\"{metric.capitalize()} is\", len(result))\n"
     ]
    },
    {
     "name": "stdout",
     "output_type": "stream",
     "text": [
      "Fold 3 - AUC: 0.6960\n",
      "\n",
      "              precision    recall  f1-score   support\n",
      "\n",
      "           0       0.68      0.99      0.81      6796\n",
      "           1       0.45      0.01      0.03      2082\n",
      "           2       0.43      0.07      0.12       632\n",
      "           3       0.00      0.00      0.00        57\n",
      "           4       0.29      0.00      0.01       433\n",
      "\n",
      "    accuracy                           0.68     10000\n",
      "   macro avg       0.37      0.22      0.19     10000\n",
      "weighted avg       0.60      0.68      0.56     10000\n",
      "\n",
      "----------------------------------------------\n",
      "\n"
     ]
    },
    {
     "name": "stderr",
     "output_type": "stream",
     "text": [
      "c:\\Users\\citioplab\\works\\codes\\plant\\plant_venv\\Lib\\site-packages\\sklearn\\metrics\\_classification.py:1531: UndefinedMetricWarning: Precision is ill-defined and being set to 0.0 in labels with no predicted samples. Use `zero_division` parameter to control this behavior.\n",
      "  _warn_prf(average, modifier, f\"{metric.capitalize()} is\", len(result))\n",
      "c:\\Users\\citioplab\\works\\codes\\plant\\plant_venv\\Lib\\site-packages\\sklearn\\metrics\\_classification.py:1531: UndefinedMetricWarning: Precision is ill-defined and being set to 0.0 in labels with no predicted samples. Use `zero_division` parameter to control this behavior.\n",
      "  _warn_prf(average, modifier, f\"{metric.capitalize()} is\", len(result))\n",
      "c:\\Users\\citioplab\\works\\codes\\plant\\plant_venv\\Lib\\site-packages\\sklearn\\metrics\\_classification.py:1531: UndefinedMetricWarning: Precision is ill-defined and being set to 0.0 in labels with no predicted samples. Use `zero_division` parameter to control this behavior.\n",
      "  _warn_prf(average, modifier, f\"{metric.capitalize()} is\", len(result))\n"
     ]
    },
    {
     "name": "stdout",
     "output_type": "stream",
     "text": [
      "Fold 4 - AUC: 0.6913\n",
      "\n",
      "              precision    recall  f1-score   support\n",
      "\n",
      "           0       0.68      0.99      0.81      6796\n",
      "           1       0.23      0.00      0.01      2082\n",
      "           2       0.38      0.06      0.10       632\n",
      "           3       0.00      0.00      0.00        57\n",
      "           4       0.08      0.00      0.00       433\n",
      "\n",
      "    accuracy                           0.68     10000\n",
      "   macro avg       0.28      0.21      0.19     10000\n",
      "weighted avg       0.54      0.68      0.56     10000\n",
      "\n",
      "----------------------------------------------\n",
      "\n"
     ]
    },
    {
     "name": "stderr",
     "output_type": "stream",
     "text": [
      "c:\\Users\\citioplab\\works\\codes\\plant\\plant_venv\\Lib\\site-packages\\sklearn\\metrics\\_classification.py:1531: UndefinedMetricWarning: Precision is ill-defined and being set to 0.0 in labels with no predicted samples. Use `zero_division` parameter to control this behavior.\n",
      "  _warn_prf(average, modifier, f\"{metric.capitalize()} is\", len(result))\n",
      "c:\\Users\\citioplab\\works\\codes\\plant\\plant_venv\\Lib\\site-packages\\sklearn\\metrics\\_classification.py:1531: UndefinedMetricWarning: Precision is ill-defined and being set to 0.0 in labels with no predicted samples. Use `zero_division` parameter to control this behavior.\n",
      "  _warn_prf(average, modifier, f\"{metric.capitalize()} is\", len(result))\n",
      "c:\\Users\\citioplab\\works\\codes\\plant\\plant_venv\\Lib\\site-packages\\sklearn\\metrics\\_classification.py:1531: UndefinedMetricWarning: Precision is ill-defined and being set to 0.0 in labels with no predicted samples. Use `zero_division` parameter to control this behavior.\n",
      "  _warn_prf(average, modifier, f\"{metric.capitalize()} is\", len(result))\n"
     ]
    },
    {
     "name": "stdout",
     "output_type": "stream",
     "text": [
      "Fold 5 - AUC: 0.7018\n",
      "\n",
      "              precision    recall  f1-score   support\n",
      "\n",
      "           0       0.68      0.99      0.81      6796\n",
      "           1       0.28      0.01      0.01      2081\n",
      "           2       0.35      0.05      0.09       633\n",
      "           3       0.00      0.00      0.00        57\n",
      "           4       0.40      0.01      0.02       433\n",
      "\n",
      "    accuracy                           0.68     10000\n",
      "   macro avg       0.34      0.21      0.19     10000\n",
      "weighted avg       0.56      0.68      0.56     10000\n",
      "\n",
      "----------------------------------------------\n",
      "\n"
     ]
    },
    {
     "name": "stderr",
     "output_type": "stream",
     "text": [
      "c:\\Users\\citioplab\\works\\codes\\plant\\plant_venv\\Lib\\site-packages\\sklearn\\metrics\\_classification.py:1531: UndefinedMetricWarning: Precision is ill-defined and being set to 0.0 in labels with no predicted samples. Use `zero_division` parameter to control this behavior.\n",
      "  _warn_prf(average, modifier, f\"{metric.capitalize()} is\", len(result))\n",
      "c:\\Users\\citioplab\\works\\codes\\plant\\plant_venv\\Lib\\site-packages\\sklearn\\metrics\\_classification.py:1531: UndefinedMetricWarning: Precision is ill-defined and being set to 0.0 in labels with no predicted samples. Use `zero_division` parameter to control this behavior.\n",
      "  _warn_prf(average, modifier, f\"{metric.capitalize()} is\", len(result))\n",
      "c:\\Users\\citioplab\\works\\codes\\plant\\plant_venv\\Lib\\site-packages\\sklearn\\metrics\\_classification.py:1531: UndefinedMetricWarning: Precision is ill-defined and being set to 0.0 in labels with no predicted samples. Use `zero_division` parameter to control this behavior.\n",
      "  _warn_prf(average, modifier, f\"{metric.capitalize()} is\", len(result))\n"
     ]
    }
   ],
   "source": [
    "kf = StratifiedKFold(n_splits = 5, shuffle = True, random_state = seed)\n",
    "model_path = './saved_models/lightgbm_added_selected/'\n",
    "lgb_model = lgb.LGBMClassifier(verbosity = -1, random_state = seed, objective = 'multiclass', num_class = 5, n_estimators = 1000, learning_rate = 0.02, device = \"gpu\")\n",
    "custom_cross_validate_v1(lgb_model, X_new_selected, y, kf, model_path)"
   ]
  },
  {
   "cell_type": "code",
   "execution_count": 61,
   "metadata": {},
   "outputs": [],
   "source": [
    "selected_fold = 2\n",
    "final_model_path = model_path + f'fold{selected_fold}.pkl'\n",
    "final_model = joblib.load(final_model_path)\n",
    "final_preds = final_model.predict_proba(test_new_selected)"
   ]
  },
  {
   "cell_type": "code",
   "execution_count": 62,
   "metadata": {},
   "outputs": [],
   "source": [
    "submission = pd.DataFrame({\n",
    "    'uid': test['uid'],\n",
    "    'out': final_preds[:, 0],\n",
    "    'single': final_preds[:, 1],\n",
    "    'double': final_preds[:, 2],\n",
    "    'triple': final_preds[:, 3],\n",
    "    'home_run': final_preds[:, 4]\n",
    "})"
   ]
  },
  {
   "cell_type": "code",
   "execution_count": 63,
   "metadata": {},
   "outputs": [],
   "source": [
    "submission.to_csv('./submissions/sixth_attempt.csv', index = False)"
   ]
  },
  {
   "cell_type": "markdown",
   "metadata": {},
   "source": [
    "Submission results<br>\n",
    "Public Score: 0.66275<br>\n",
    "Private Score: 0.70102"
   ]
  },
  {
   "cell_type": "markdown",
   "metadata": {},
   "source": [
    "### Ensemble method"
   ]
  },
  {
   "cell_type": "code",
   "execution_count": null,
   "metadata": {},
   "outputs": [],
   "source": [
    "# from sklearn.inspection import permutation_importance\n",
    "# r = permutation_importance(final_model, X_new, y, n_repeats = 30, random_state = seed)\n",
    "\n",
    "# for i in r.importances_mean.argsort()[::-1]:\n",
    "#     if r.importances_mean[i] - 2 * r.importances_std[i] > 0:\n",
    "#         print(f\"{X_new.columns[i]:<8}\"\n",
    "#               f\"{r.importances_mean[i]:.3f}\"\n",
    "#               f\" +/- {r.importances_std[i]:.3f}\")"
   ]
  },
  {
   "cell_type": "code",
   "execution_count": 23,
   "metadata": {},
   "outputs": [],
   "source": [
    "def custom_cross_validate_v2(model, X, y, cv, fit_params = {}):\n",
    "    oof_preds = np.zeros((len(X), len(y.unique())))\n",
    "    \n",
    "    for fold, (train_idx, val_idx) in enumerate(cv.split(X, y)):\n",
    "        fold_model = clone(model)\n",
    "        X_train, X_val = X.iloc[train_idx], X.iloc[val_idx]\n",
    "        y_train, y_val = y.iloc[train_idx], y.iloc[val_idx]\n",
    "\n",
    "        fit_params['eval_set'] = [(X_val, y_val)]\n",
    "        \n",
    "        # Fit the model with categorical features\n",
    "        fold_model.fit(X_train, y_train, **fit_params)\n",
    "        \n",
    "        # Predict probabilities for the validation set\n",
    "        y_preds = fold_model.predict(X_val)\n",
    "        y_preds_prob = fold_model.predict_proba(X_val)\n",
    "        oof_preds[val_idx] = y_preds_prob\n",
    "        \n",
    "        # Calculate and print AUC for the current fold\n",
    "        auc_score = roc_auc_score(y_val, y_preds_prob, multi_class = 'ovr')\n",
    "        print(f\"Fold {fold + 1} - AUC: {auc_score:.4f}\\n\")\n",
    "        print(classification_report(y_val, y_preds))\n",
    "        print('----------------------------------------------\\n')\n",
    "    \n",
    "    return oof_preds"
   ]
  },
  {
   "cell_type": "code",
   "execution_count": 24,
   "metadata": {},
   "outputs": [
    {
     "name": "stderr",
     "output_type": "stream",
     "text": [
      "Default metric period is 5 because AUC is/are not implemented for GPU\n",
      "AUC is not implemented on GPU. Will use CPU for metric computation, this could significantly affect learning time\n"
     ]
    },
    {
     "name": "stdout",
     "output_type": "stream",
     "text": [
      "Fold 1 - AUC: 0.7339\n",
      "\n",
      "              precision    recall  f1-score   support\n",
      "\n",
      "           0       0.68      0.99      0.81      6797\n",
      "           1       0.35      0.01      0.02      2081\n",
      "           2       0.45      0.09      0.15       633\n",
      "           3       0.00      0.00      0.00        56\n",
      "           4       0.30      0.01      0.01       433\n",
      "\n",
      "    accuracy                           0.68     10000\n",
      "   macro avg       0.36      0.22      0.20     10000\n",
      "weighted avg       0.58      0.68      0.56     10000\n",
      "\n",
      "----------------------------------------------\n",
      "\n"
     ]
    },
    {
     "name": "stderr",
     "output_type": "stream",
     "text": [
      "c:\\Users\\citioplab\\works\\codes\\plant\\plant_venv\\Lib\\site-packages\\sklearn\\metrics\\_classification.py:1531: UndefinedMetricWarning: Precision is ill-defined and being set to 0.0 in labels with no predicted samples. Use `zero_division` parameter to control this behavior.\n",
      "  _warn_prf(average, modifier, f\"{metric.capitalize()} is\", len(result))\n",
      "c:\\Users\\citioplab\\works\\codes\\plant\\plant_venv\\Lib\\site-packages\\sklearn\\metrics\\_classification.py:1531: UndefinedMetricWarning: Precision is ill-defined and being set to 0.0 in labels with no predicted samples. Use `zero_division` parameter to control this behavior.\n",
      "  _warn_prf(average, modifier, f\"{metric.capitalize()} is\", len(result))\n",
      "c:\\Users\\citioplab\\works\\codes\\plant\\plant_venv\\Lib\\site-packages\\sklearn\\metrics\\_classification.py:1531: UndefinedMetricWarning: Precision is ill-defined and being set to 0.0 in labels with no predicted samples. Use `zero_division` parameter to control this behavior.\n",
      "  _warn_prf(average, modifier, f\"{metric.capitalize()} is\", len(result))\n",
      "Default metric period is 5 because AUC is/are not implemented for GPU\n",
      "AUC is not implemented on GPU. Will use CPU for metric computation, this could significantly affect learning time\n"
     ]
    },
    {
     "name": "stdout",
     "output_type": "stream",
     "text": [
      "Fold 2 - AUC: 0.7510\n",
      "\n",
      "              precision    recall  f1-score   support\n",
      "\n",
      "           0       0.68      1.00      0.81      6796\n",
      "           1       0.50      0.00      0.00      2082\n",
      "           2       0.50      0.09      0.15       632\n",
      "           3       0.00      0.00      0.00        56\n",
      "           4       0.33      0.00      0.00       434\n",
      "\n",
      "    accuracy                           0.68     10000\n",
      "   macro avg       0.40      0.22      0.19     10000\n",
      "weighted avg       0.62      0.68      0.56     10000\n",
      "\n",
      "----------------------------------------------\n",
      "\n"
     ]
    },
    {
     "name": "stderr",
     "output_type": "stream",
     "text": [
      "c:\\Users\\citioplab\\works\\codes\\plant\\plant_venv\\Lib\\site-packages\\sklearn\\metrics\\_classification.py:1531: UndefinedMetricWarning: Precision is ill-defined and being set to 0.0 in labels with no predicted samples. Use `zero_division` parameter to control this behavior.\n",
      "  _warn_prf(average, modifier, f\"{metric.capitalize()} is\", len(result))\n",
      "c:\\Users\\citioplab\\works\\codes\\plant\\plant_venv\\Lib\\site-packages\\sklearn\\metrics\\_classification.py:1531: UndefinedMetricWarning: Precision is ill-defined and being set to 0.0 in labels with no predicted samples. Use `zero_division` parameter to control this behavior.\n",
      "  _warn_prf(average, modifier, f\"{metric.capitalize()} is\", len(result))\n",
      "c:\\Users\\citioplab\\works\\codes\\plant\\plant_venv\\Lib\\site-packages\\sklearn\\metrics\\_classification.py:1531: UndefinedMetricWarning: Precision is ill-defined and being set to 0.0 in labels with no predicted samples. Use `zero_division` parameter to control this behavior.\n",
      "  _warn_prf(average, modifier, f\"{metric.capitalize()} is\", len(result))\n",
      "Default metric period is 5 because AUC is/are not implemented for GPU\n",
      "AUC is not implemented on GPU. Will use CPU for metric computation, this could significantly affect learning time\n"
     ]
    },
    {
     "name": "stdout",
     "output_type": "stream",
     "text": [
      "Fold 3 - AUC: 0.7354\n",
      "\n",
      "              precision    recall  f1-score   support\n",
      "\n",
      "           0       0.68      0.99      0.81      6796\n",
      "           1       0.56      0.01      0.01      2082\n",
      "           2       0.43      0.08      0.13       632\n",
      "           3       0.00      0.00      0.00        57\n",
      "           4       0.00      0.00      0.00       433\n",
      "\n",
      "    accuracy                           0.68     10000\n",
      "   macro avg       0.33      0.22      0.19     10000\n",
      "weighted avg       0.61      0.68      0.56     10000\n",
      "\n",
      "----------------------------------------------\n",
      "\n"
     ]
    },
    {
     "name": "stderr",
     "output_type": "stream",
     "text": [
      "c:\\Users\\citioplab\\works\\codes\\plant\\plant_venv\\Lib\\site-packages\\sklearn\\metrics\\_classification.py:1531: UndefinedMetricWarning: Precision is ill-defined and being set to 0.0 in labels with no predicted samples. Use `zero_division` parameter to control this behavior.\n",
      "  _warn_prf(average, modifier, f\"{metric.capitalize()} is\", len(result))\n",
      "c:\\Users\\citioplab\\works\\codes\\plant\\plant_venv\\Lib\\site-packages\\sklearn\\metrics\\_classification.py:1531: UndefinedMetricWarning: Precision is ill-defined and being set to 0.0 in labels with no predicted samples. Use `zero_division` parameter to control this behavior.\n",
      "  _warn_prf(average, modifier, f\"{metric.capitalize()} is\", len(result))\n",
      "c:\\Users\\citioplab\\works\\codes\\plant\\plant_venv\\Lib\\site-packages\\sklearn\\metrics\\_classification.py:1531: UndefinedMetricWarning: Precision is ill-defined and being set to 0.0 in labels with no predicted samples. Use `zero_division` parameter to control this behavior.\n",
      "  _warn_prf(average, modifier, f\"{metric.capitalize()} is\", len(result))\n",
      "Default metric period is 5 because AUC is/are not implemented for GPU\n",
      "AUC is not implemented on GPU. Will use CPU for metric computation, this could significantly affect learning time\n"
     ]
    },
    {
     "name": "stdout",
     "output_type": "stream",
     "text": [
      "Fold 4 - AUC: 0.7265\n",
      "\n",
      "              precision    recall  f1-score   support\n",
      "\n",
      "           0       0.68      0.99      0.81      6796\n",
      "           1       0.50      0.00      0.00      2082\n",
      "           2       0.45      0.07      0.12       632\n",
      "           3       0.00      0.00      0.00        57\n",
      "           4       0.00      0.00      0.00       433\n",
      "\n",
      "    accuracy                           0.68     10000\n",
      "   macro avg       0.33      0.21      0.19     10000\n",
      "weighted avg       0.60      0.68      0.56     10000\n",
      "\n",
      "----------------------------------------------\n",
      "\n"
     ]
    },
    {
     "name": "stderr",
     "output_type": "stream",
     "text": [
      "c:\\Users\\citioplab\\works\\codes\\plant\\plant_venv\\Lib\\site-packages\\sklearn\\metrics\\_classification.py:1531: UndefinedMetricWarning: Precision is ill-defined and being set to 0.0 in labels with no predicted samples. Use `zero_division` parameter to control this behavior.\n",
      "  _warn_prf(average, modifier, f\"{metric.capitalize()} is\", len(result))\n",
      "c:\\Users\\citioplab\\works\\codes\\plant\\plant_venv\\Lib\\site-packages\\sklearn\\metrics\\_classification.py:1531: UndefinedMetricWarning: Precision is ill-defined and being set to 0.0 in labels with no predicted samples. Use `zero_division` parameter to control this behavior.\n",
      "  _warn_prf(average, modifier, f\"{metric.capitalize()} is\", len(result))\n",
      "c:\\Users\\citioplab\\works\\codes\\plant\\plant_venv\\Lib\\site-packages\\sklearn\\metrics\\_classification.py:1531: UndefinedMetricWarning: Precision is ill-defined and being set to 0.0 in labels with no predicted samples. Use `zero_division` parameter to control this behavior.\n",
      "  _warn_prf(average, modifier, f\"{metric.capitalize()} is\", len(result))\n",
      "Default metric period is 5 because AUC is/are not implemented for GPU\n",
      "AUC is not implemented on GPU. Will use CPU for metric computation, this could significantly affect learning time\n"
     ]
    },
    {
     "name": "stdout",
     "output_type": "stream",
     "text": [
      "Fold 5 - AUC: 0.7413\n",
      "\n",
      "              precision    recall  f1-score   support\n",
      "\n",
      "           0       0.68      0.99      0.81      6796\n",
      "           1       0.37      0.00      0.01      2081\n",
      "           2       0.45      0.06      0.11       633\n",
      "           3       0.00      0.00      0.00        57\n",
      "           4       0.00      0.00      0.00       433\n",
      "\n",
      "    accuracy                           0.68     10000\n",
      "   macro avg       0.30      0.21      0.19     10000\n",
      "weighted avg       0.57      0.68      0.56     10000\n",
      "\n",
      "----------------------------------------------\n",
      "\n"
     ]
    },
    {
     "name": "stderr",
     "output_type": "stream",
     "text": [
      "c:\\Users\\citioplab\\works\\codes\\plant\\plant_venv\\Lib\\site-packages\\sklearn\\metrics\\_classification.py:1531: UndefinedMetricWarning: Precision is ill-defined and being set to 0.0 in labels with no predicted samples. Use `zero_division` parameter to control this behavior.\n",
      "  _warn_prf(average, modifier, f\"{metric.capitalize()} is\", len(result))\n",
      "c:\\Users\\citioplab\\works\\codes\\plant\\plant_venv\\Lib\\site-packages\\sklearn\\metrics\\_classification.py:1531: UndefinedMetricWarning: Precision is ill-defined and being set to 0.0 in labels with no predicted samples. Use `zero_division` parameter to control this behavior.\n",
      "  _warn_prf(average, modifier, f\"{metric.capitalize()} is\", len(result))\n",
      "c:\\Users\\citioplab\\works\\codes\\plant\\plant_venv\\Lib\\site-packages\\sklearn\\metrics\\_classification.py:1531: UndefinedMetricWarning: Precision is ill-defined and being set to 0.0 in labels with no predicted samples. Use `zero_division` parameter to control this behavior.\n",
      "  _warn_prf(average, modifier, f\"{metric.capitalize()} is\", len(result))\n"
     ]
    },
    {
     "data": {
      "text/html": [
       "<style>#sk-container-id-1 {\n",
       "  /* Definition of color scheme common for light and dark mode */\n",
       "  --sklearn-color-text: black;\n",
       "  --sklearn-color-line: gray;\n",
       "  /* Definition of color scheme for unfitted estimators */\n",
       "  --sklearn-color-unfitted-level-0: #fff5e6;\n",
       "  --sklearn-color-unfitted-level-1: #f6e4d2;\n",
       "  --sklearn-color-unfitted-level-2: #ffe0b3;\n",
       "  --sklearn-color-unfitted-level-3: chocolate;\n",
       "  /* Definition of color scheme for fitted estimators */\n",
       "  --sklearn-color-fitted-level-0: #f0f8ff;\n",
       "  --sklearn-color-fitted-level-1: #d4ebff;\n",
       "  --sklearn-color-fitted-level-2: #b3dbfd;\n",
       "  --sklearn-color-fitted-level-3: cornflowerblue;\n",
       "\n",
       "  /* Specific color for light theme */\n",
       "  --sklearn-color-text-on-default-background: var(--sg-text-color, var(--theme-code-foreground, var(--jp-content-font-color1, black)));\n",
       "  --sklearn-color-background: var(--sg-background-color, var(--theme-background, var(--jp-layout-color0, white)));\n",
       "  --sklearn-color-border-box: var(--sg-text-color, var(--theme-code-foreground, var(--jp-content-font-color1, black)));\n",
       "  --sklearn-color-icon: #696969;\n",
       "\n",
       "  @media (prefers-color-scheme: dark) {\n",
       "    /* Redefinition of color scheme for dark theme */\n",
       "    --sklearn-color-text-on-default-background: var(--sg-text-color, var(--theme-code-foreground, var(--jp-content-font-color1, white)));\n",
       "    --sklearn-color-background: var(--sg-background-color, var(--theme-background, var(--jp-layout-color0, #111)));\n",
       "    --sklearn-color-border-box: var(--sg-text-color, var(--theme-code-foreground, var(--jp-content-font-color1, white)));\n",
       "    --sklearn-color-icon: #878787;\n",
       "  }\n",
       "}\n",
       "\n",
       "#sk-container-id-1 {\n",
       "  color: var(--sklearn-color-text);\n",
       "}\n",
       "\n",
       "#sk-container-id-1 pre {\n",
       "  padding: 0;\n",
       "}\n",
       "\n",
       "#sk-container-id-1 input.sk-hidden--visually {\n",
       "  border: 0;\n",
       "  clip: rect(1px 1px 1px 1px);\n",
       "  clip: rect(1px, 1px, 1px, 1px);\n",
       "  height: 1px;\n",
       "  margin: -1px;\n",
       "  overflow: hidden;\n",
       "  padding: 0;\n",
       "  position: absolute;\n",
       "  width: 1px;\n",
       "}\n",
       "\n",
       "#sk-container-id-1 div.sk-dashed-wrapped {\n",
       "  border: 1px dashed var(--sklearn-color-line);\n",
       "  margin: 0 0.4em 0.5em 0.4em;\n",
       "  box-sizing: border-box;\n",
       "  padding-bottom: 0.4em;\n",
       "  background-color: var(--sklearn-color-background);\n",
       "}\n",
       "\n",
       "#sk-container-id-1 div.sk-container {\n",
       "  /* jupyter's `normalize.less` sets `[hidden] { display: none; }`\n",
       "     but bootstrap.min.css set `[hidden] { display: none !important; }`\n",
       "     so we also need the `!important` here to be able to override the\n",
       "     default hidden behavior on the sphinx rendered scikit-learn.org.\n",
       "     See: https://github.com/scikit-learn/scikit-learn/issues/21755 */\n",
       "  display: inline-block !important;\n",
       "  position: relative;\n",
       "}\n",
       "\n",
       "#sk-container-id-1 div.sk-text-repr-fallback {\n",
       "  display: none;\n",
       "}\n",
       "\n",
       "div.sk-parallel-item,\n",
       "div.sk-serial,\n",
       "div.sk-item {\n",
       "  /* draw centered vertical line to link estimators */\n",
       "  background-image: linear-gradient(var(--sklearn-color-text-on-default-background), var(--sklearn-color-text-on-default-background));\n",
       "  background-size: 2px 100%;\n",
       "  background-repeat: no-repeat;\n",
       "  background-position: center center;\n",
       "}\n",
       "\n",
       "/* Parallel-specific style estimator block */\n",
       "\n",
       "#sk-container-id-1 div.sk-parallel-item::after {\n",
       "  content: \"\";\n",
       "  width: 100%;\n",
       "  border-bottom: 2px solid var(--sklearn-color-text-on-default-background);\n",
       "  flex-grow: 1;\n",
       "}\n",
       "\n",
       "#sk-container-id-1 div.sk-parallel {\n",
       "  display: flex;\n",
       "  align-items: stretch;\n",
       "  justify-content: center;\n",
       "  background-color: var(--sklearn-color-background);\n",
       "  position: relative;\n",
       "}\n",
       "\n",
       "#sk-container-id-1 div.sk-parallel-item {\n",
       "  display: flex;\n",
       "  flex-direction: column;\n",
       "}\n",
       "\n",
       "#sk-container-id-1 div.sk-parallel-item:first-child::after {\n",
       "  align-self: flex-end;\n",
       "  width: 50%;\n",
       "}\n",
       "\n",
       "#sk-container-id-1 div.sk-parallel-item:last-child::after {\n",
       "  align-self: flex-start;\n",
       "  width: 50%;\n",
       "}\n",
       "\n",
       "#sk-container-id-1 div.sk-parallel-item:only-child::after {\n",
       "  width: 0;\n",
       "}\n",
       "\n",
       "/* Serial-specific style estimator block */\n",
       "\n",
       "#sk-container-id-1 div.sk-serial {\n",
       "  display: flex;\n",
       "  flex-direction: column;\n",
       "  align-items: center;\n",
       "  background-color: var(--sklearn-color-background);\n",
       "  padding-right: 1em;\n",
       "  padding-left: 1em;\n",
       "}\n",
       "\n",
       "\n",
       "/* Toggleable style: style used for estimator/Pipeline/ColumnTransformer box that is\n",
       "clickable and can be expanded/collapsed.\n",
       "- Pipeline and ColumnTransformer use this feature and define the default style\n",
       "- Estimators will overwrite some part of the style using the `sk-estimator` class\n",
       "*/\n",
       "\n",
       "/* Pipeline and ColumnTransformer style (default) */\n",
       "\n",
       "#sk-container-id-1 div.sk-toggleable {\n",
       "  /* Default theme specific background. It is overwritten whether we have a\n",
       "  specific estimator or a Pipeline/ColumnTransformer */\n",
       "  background-color: var(--sklearn-color-background);\n",
       "}\n",
       "\n",
       "/* Toggleable label */\n",
       "#sk-container-id-1 label.sk-toggleable__label {\n",
       "  cursor: pointer;\n",
       "  display: block;\n",
       "  width: 100%;\n",
       "  margin-bottom: 0;\n",
       "  padding: 0.5em;\n",
       "  box-sizing: border-box;\n",
       "  text-align: center;\n",
       "}\n",
       "\n",
       "#sk-container-id-1 label.sk-toggleable__label-arrow:before {\n",
       "  /* Arrow on the left of the label */\n",
       "  content: \"▸\";\n",
       "  float: left;\n",
       "  margin-right: 0.25em;\n",
       "  color: var(--sklearn-color-icon);\n",
       "}\n",
       "\n",
       "#sk-container-id-1 label.sk-toggleable__label-arrow:hover:before {\n",
       "  color: var(--sklearn-color-text);\n",
       "}\n",
       "\n",
       "/* Toggleable content - dropdown */\n",
       "\n",
       "#sk-container-id-1 div.sk-toggleable__content {\n",
       "  max-height: 0;\n",
       "  max-width: 0;\n",
       "  overflow: hidden;\n",
       "  text-align: left;\n",
       "  /* unfitted */\n",
       "  background-color: var(--sklearn-color-unfitted-level-0);\n",
       "}\n",
       "\n",
       "#sk-container-id-1 div.sk-toggleable__content.fitted {\n",
       "  /* fitted */\n",
       "  background-color: var(--sklearn-color-fitted-level-0);\n",
       "}\n",
       "\n",
       "#sk-container-id-1 div.sk-toggleable__content pre {\n",
       "  margin: 0.2em;\n",
       "  border-radius: 0.25em;\n",
       "  color: var(--sklearn-color-text);\n",
       "  /* unfitted */\n",
       "  background-color: var(--sklearn-color-unfitted-level-0);\n",
       "}\n",
       "\n",
       "#sk-container-id-1 div.sk-toggleable__content.fitted pre {\n",
       "  /* unfitted */\n",
       "  background-color: var(--sklearn-color-fitted-level-0);\n",
       "}\n",
       "\n",
       "#sk-container-id-1 input.sk-toggleable__control:checked~div.sk-toggleable__content {\n",
       "  /* Expand drop-down */\n",
       "  max-height: 200px;\n",
       "  max-width: 100%;\n",
       "  overflow: auto;\n",
       "}\n",
       "\n",
       "#sk-container-id-1 input.sk-toggleable__control:checked~label.sk-toggleable__label-arrow:before {\n",
       "  content: \"▾\";\n",
       "}\n",
       "\n",
       "/* Pipeline/ColumnTransformer-specific style */\n",
       "\n",
       "#sk-container-id-1 div.sk-label input.sk-toggleable__control:checked~label.sk-toggleable__label {\n",
       "  color: var(--sklearn-color-text);\n",
       "  background-color: var(--sklearn-color-unfitted-level-2);\n",
       "}\n",
       "\n",
       "#sk-container-id-1 div.sk-label.fitted input.sk-toggleable__control:checked~label.sk-toggleable__label {\n",
       "  background-color: var(--sklearn-color-fitted-level-2);\n",
       "}\n",
       "\n",
       "/* Estimator-specific style */\n",
       "\n",
       "/* Colorize estimator box */\n",
       "#sk-container-id-1 div.sk-estimator input.sk-toggleable__control:checked~label.sk-toggleable__label {\n",
       "  /* unfitted */\n",
       "  background-color: var(--sklearn-color-unfitted-level-2);\n",
       "}\n",
       "\n",
       "#sk-container-id-1 div.sk-estimator.fitted input.sk-toggleable__control:checked~label.sk-toggleable__label {\n",
       "  /* fitted */\n",
       "  background-color: var(--sklearn-color-fitted-level-2);\n",
       "}\n",
       "\n",
       "#sk-container-id-1 div.sk-label label.sk-toggleable__label,\n",
       "#sk-container-id-1 div.sk-label label {\n",
       "  /* The background is the default theme color */\n",
       "  color: var(--sklearn-color-text-on-default-background);\n",
       "}\n",
       "\n",
       "/* On hover, darken the color of the background */\n",
       "#sk-container-id-1 div.sk-label:hover label.sk-toggleable__label {\n",
       "  color: var(--sklearn-color-text);\n",
       "  background-color: var(--sklearn-color-unfitted-level-2);\n",
       "}\n",
       "\n",
       "/* Label box, darken color on hover, fitted */\n",
       "#sk-container-id-1 div.sk-label.fitted:hover label.sk-toggleable__label.fitted {\n",
       "  color: var(--sklearn-color-text);\n",
       "  background-color: var(--sklearn-color-fitted-level-2);\n",
       "}\n",
       "\n",
       "/* Estimator label */\n",
       "\n",
       "#sk-container-id-1 div.sk-label label {\n",
       "  font-family: monospace;\n",
       "  font-weight: bold;\n",
       "  display: inline-block;\n",
       "  line-height: 1.2em;\n",
       "}\n",
       "\n",
       "#sk-container-id-1 div.sk-label-container {\n",
       "  text-align: center;\n",
       "}\n",
       "\n",
       "/* Estimator-specific */\n",
       "#sk-container-id-1 div.sk-estimator {\n",
       "  font-family: monospace;\n",
       "  border: 1px dotted var(--sklearn-color-border-box);\n",
       "  border-radius: 0.25em;\n",
       "  box-sizing: border-box;\n",
       "  margin-bottom: 0.5em;\n",
       "  /* unfitted */\n",
       "  background-color: var(--sklearn-color-unfitted-level-0);\n",
       "}\n",
       "\n",
       "#sk-container-id-1 div.sk-estimator.fitted {\n",
       "  /* fitted */\n",
       "  background-color: var(--sklearn-color-fitted-level-0);\n",
       "}\n",
       "\n",
       "/* on hover */\n",
       "#sk-container-id-1 div.sk-estimator:hover {\n",
       "  /* unfitted */\n",
       "  background-color: var(--sklearn-color-unfitted-level-2);\n",
       "}\n",
       "\n",
       "#sk-container-id-1 div.sk-estimator.fitted:hover {\n",
       "  /* fitted */\n",
       "  background-color: var(--sklearn-color-fitted-level-2);\n",
       "}\n",
       "\n",
       "/* Specification for estimator info (e.g. \"i\" and \"?\") */\n",
       "\n",
       "/* Common style for \"i\" and \"?\" */\n",
       "\n",
       ".sk-estimator-doc-link,\n",
       "a:link.sk-estimator-doc-link,\n",
       "a:visited.sk-estimator-doc-link {\n",
       "  float: right;\n",
       "  font-size: smaller;\n",
       "  line-height: 1em;\n",
       "  font-family: monospace;\n",
       "  background-color: var(--sklearn-color-background);\n",
       "  border-radius: 1em;\n",
       "  height: 1em;\n",
       "  width: 1em;\n",
       "  text-decoration: none !important;\n",
       "  margin-left: 1ex;\n",
       "  /* unfitted */\n",
       "  border: var(--sklearn-color-unfitted-level-1) 1pt solid;\n",
       "  color: var(--sklearn-color-unfitted-level-1);\n",
       "}\n",
       "\n",
       ".sk-estimator-doc-link.fitted,\n",
       "a:link.sk-estimator-doc-link.fitted,\n",
       "a:visited.sk-estimator-doc-link.fitted {\n",
       "  /* fitted */\n",
       "  border: var(--sklearn-color-fitted-level-1) 1pt solid;\n",
       "  color: var(--sklearn-color-fitted-level-1);\n",
       "}\n",
       "\n",
       "/* On hover */\n",
       "div.sk-estimator:hover .sk-estimator-doc-link:hover,\n",
       ".sk-estimator-doc-link:hover,\n",
       "div.sk-label-container:hover .sk-estimator-doc-link:hover,\n",
       ".sk-estimator-doc-link:hover {\n",
       "  /* unfitted */\n",
       "  background-color: var(--sklearn-color-unfitted-level-3);\n",
       "  color: var(--sklearn-color-background);\n",
       "  text-decoration: none;\n",
       "}\n",
       "\n",
       "div.sk-estimator.fitted:hover .sk-estimator-doc-link.fitted:hover,\n",
       ".sk-estimator-doc-link.fitted:hover,\n",
       "div.sk-label-container:hover .sk-estimator-doc-link.fitted:hover,\n",
       ".sk-estimator-doc-link.fitted:hover {\n",
       "  /* fitted */\n",
       "  background-color: var(--sklearn-color-fitted-level-3);\n",
       "  color: var(--sklearn-color-background);\n",
       "  text-decoration: none;\n",
       "}\n",
       "\n",
       "/* Span, style for the box shown on hovering the info icon */\n",
       ".sk-estimator-doc-link span {\n",
       "  display: none;\n",
       "  z-index: 9999;\n",
       "  position: relative;\n",
       "  font-weight: normal;\n",
       "  right: .2ex;\n",
       "  padding: .5ex;\n",
       "  margin: .5ex;\n",
       "  width: min-content;\n",
       "  min-width: 20ex;\n",
       "  max-width: 50ex;\n",
       "  color: var(--sklearn-color-text);\n",
       "  box-shadow: 2pt 2pt 4pt #999;\n",
       "  /* unfitted */\n",
       "  background: var(--sklearn-color-unfitted-level-0);\n",
       "  border: .5pt solid var(--sklearn-color-unfitted-level-3);\n",
       "}\n",
       "\n",
       ".sk-estimator-doc-link.fitted span {\n",
       "  /* fitted */\n",
       "  background: var(--sklearn-color-fitted-level-0);\n",
       "  border: var(--sklearn-color-fitted-level-3);\n",
       "}\n",
       "\n",
       ".sk-estimator-doc-link:hover span {\n",
       "  display: block;\n",
       "}\n",
       "\n",
       "/* \"?\"-specific style due to the `<a>` HTML tag */\n",
       "\n",
       "#sk-container-id-1 a.estimator_doc_link {\n",
       "  float: right;\n",
       "  font-size: 1rem;\n",
       "  line-height: 1em;\n",
       "  font-family: monospace;\n",
       "  background-color: var(--sklearn-color-background);\n",
       "  border-radius: 1rem;\n",
       "  height: 1rem;\n",
       "  width: 1rem;\n",
       "  text-decoration: none;\n",
       "  /* unfitted */\n",
       "  color: var(--sklearn-color-unfitted-level-1);\n",
       "  border: var(--sklearn-color-unfitted-level-1) 1pt solid;\n",
       "}\n",
       "\n",
       "#sk-container-id-1 a.estimator_doc_link.fitted {\n",
       "  /* fitted */\n",
       "  border: var(--sklearn-color-fitted-level-1) 1pt solid;\n",
       "  color: var(--sklearn-color-fitted-level-1);\n",
       "}\n",
       "\n",
       "/* On hover */\n",
       "#sk-container-id-1 a.estimator_doc_link:hover {\n",
       "  /* unfitted */\n",
       "  background-color: var(--sklearn-color-unfitted-level-3);\n",
       "  color: var(--sklearn-color-background);\n",
       "  text-decoration: none;\n",
       "}\n",
       "\n",
       "#sk-container-id-1 a.estimator_doc_link.fitted:hover {\n",
       "  /* fitted */\n",
       "  background-color: var(--sklearn-color-fitted-level-3);\n",
       "}\n",
       "</style><div id=\"sk-container-id-1\" class=\"sk-top-container\"><div class=\"sk-text-repr-fallback\"><pre>XGBClassifier(base_score=None, booster=None, callbacks=None,\n",
       "              colsample_bylevel=None, colsample_bynode=None,\n",
       "              colsample_bytree=None, device=&#x27;cuda&#x27;, early_stopping_rounds=None,\n",
       "              enable_categorical=False, eval_metric=None, feature_types=None,\n",
       "              gamma=None, grow_policy=None, importance_type=None,\n",
       "              interaction_constraints=None, learning_rate=0.01, max_bin=None,\n",
       "              max_cat_threshold=None, max_cat_to_onehot=None,\n",
       "              max_delta_step=None, max_depth=None, max_leaves=None,\n",
       "              min_child_weight=None, missing=nan, monotone_constraints=None,\n",
       "              multi_strategy=None, n_estimators=500, n_jobs=None, num_class=5,\n",
       "              num_parallel_tree=None, ...)</pre><b>In a Jupyter environment, please rerun this cell to show the HTML representation or trust the notebook. <br />On GitHub, the HTML representation is unable to render, please try loading this page with nbviewer.org.</b></div><div class=\"sk-container\" hidden><div class=\"sk-item\"><div class=\"sk-estimator fitted sk-toggleable\"><input class=\"sk-toggleable__control sk-hidden--visually\" id=\"sk-estimator-id-1\" type=\"checkbox\" checked><label for=\"sk-estimator-id-1\" class=\"sk-toggleable__label fitted sk-toggleable__label-arrow fitted\">&nbsp;XGBClassifier<span class=\"sk-estimator-doc-link fitted\">i<span>Fitted</span></span></label><div class=\"sk-toggleable__content fitted\"><pre>XGBClassifier(base_score=None, booster=None, callbacks=None,\n",
       "              colsample_bylevel=None, colsample_bynode=None,\n",
       "              colsample_bytree=None, device=&#x27;cuda&#x27;, early_stopping_rounds=None,\n",
       "              enable_categorical=False, eval_metric=None, feature_types=None,\n",
       "              gamma=None, grow_policy=None, importance_type=None,\n",
       "              interaction_constraints=None, learning_rate=0.01, max_bin=None,\n",
       "              max_cat_threshold=None, max_cat_to_onehot=None,\n",
       "              max_delta_step=None, max_depth=None, max_leaves=None,\n",
       "              min_child_weight=None, missing=nan, monotone_constraints=None,\n",
       "              multi_strategy=None, n_estimators=500, n_jobs=None, num_class=5,\n",
       "              num_parallel_tree=None, ...)</pre></div> </div></div></div></div>"
      ],
      "text/plain": [
       "XGBClassifier(base_score=None, booster=None, callbacks=None,\n",
       "              colsample_bylevel=None, colsample_bynode=None,\n",
       "              colsample_bytree=None, device='cuda', early_stopping_rounds=None,\n",
       "              enable_categorical=False, eval_metric=None, feature_types=None,\n",
       "              gamma=None, grow_policy=None, importance_type=None,\n",
       "              interaction_constraints=None, learning_rate=0.01, max_bin=None,\n",
       "              max_cat_threshold=None, max_cat_to_onehot=None,\n",
       "              max_delta_step=None, max_depth=None, max_leaves=None,\n",
       "              min_child_weight=None, missing=nan, monotone_constraints=None,\n",
       "              multi_strategy=None, n_estimators=500, n_jobs=None, num_class=5,\n",
       "              num_parallel_tree=None, ...)"
      ]
     },
     "execution_count": 24,
     "metadata": {},
     "output_type": "execute_result"
    }
   ],
   "source": [
    "kf = StratifiedKFold(n_splits = 5, shuffle = True, random_state = seed)\n",
    "# model_path = './saved_models/catboost_ensemble/'\n",
    "cb_model = cb.CatBoostClassifier(iterations = 1000, learning_rate = 0.05, random_state = seed, eval_metric = 'AUC', verbose = False, cat_features = cat_features, task_type = \"GPU\")\n",
    "cb_preds = custom_cross_validate_v2(cb_model, X, y, kf)\n",
    "xgb_model = xgb.XGBClassifier(n_estimators = 500, learning_rate = 0.01, random_state = seed, num_class = len(y.unique()), verbosity = 0, device = \"cuda\")\n",
    "xgb_model.fit(cb_preds, y)"
   ]
  },
  {
   "cell_type": "code",
   "execution_count": 25,
   "metadata": {},
   "outputs": [
    {
     "name": "stderr",
     "output_type": "stream",
     "text": [
      "Default metric period is 5 because AUC is/are not implemented for GPU\n",
      "AUC is not implemented on GPU. Will use CPU for metric computation, this could significantly affect learning time\n"
     ]
    }
   ],
   "source": [
    "cb_model.fit(X, y, cat_features = cat_features, verbose = False)\n",
    "cb_test_preds = cb_model.predict_proba(test.drop('uid', axis = 1))\n",
    "final_preds = xgb_model.predict_proba(cb_test_preds)"
   ]
  },
  {
   "cell_type": "code",
   "execution_count": 26,
   "metadata": {},
   "outputs": [],
   "source": [
    "submission = pd.DataFrame({\n",
    "    'uid': test['uid'],\n",
    "    'out': final_preds[:, 0],\n",
    "    'single': final_preds[:, 1],\n",
    "    'double': final_preds[:, 2],\n",
    "    'triple': final_preds[:, 3],\n",
    "    'home_run': final_preds[:, 4]\n",
    "})"
   ]
  },
  {
   "cell_type": "code",
   "execution_count": 27,
   "metadata": {},
   "outputs": [],
   "source": [
    "submission.to_csv('./submissions/seventh_attempt.csv', index = False)"
   ]
  },
  {
   "cell_type": "markdown",
   "metadata": {},
   "source": [
    "Submission results<br>\n",
    "Public Score: 0.73048<br>\n",
    "Private Score: 0.73569"
   ]
  },
  {
   "cell_type": "code",
   "execution_count": null,
   "metadata": {},
   "outputs": [],
   "source": [
    "print('Ensemble:')\n",
    "xgb_model = xgb.XGBClassifier(n_estimators = 500, learning_rate = 0.01, random_state = seed, num_class = len(y.unique()), verbosity = 0, device = \"cuda\")\n",
    "ensemble_preds_prob = cross_val_predict(xgb_model, cb_preds, y, cv=kf, method = 'predict_proba')\n",
    "ensemble_preds = np.argmax(ensemble_preds_prob, axis = 1)\n",
    "auc_score = roc_auc_score(y, ensemble_preds_prob, multi_class = 'ovr')\n",
    "print(f\"AUC: {auc_score:.4f}\\n\")\n",
    "print(classification_report(y, ensemble_preds))"
   ]
  },
  {
   "cell_type": "markdown",
   "metadata": {},
   "source": [
    "### Apply Optuna for automatic hyperparameter optimization"
   ]
  },
  {
   "cell_type": "code",
   "execution_count": 23,
   "metadata": {},
   "outputs": [],
   "source": [
    "X_train_search, X_val_search, y_train_search, y_val_search = train_test_split(X, y, test_size = 0.2, random_state = seed, stratify = y)"
   ]
  },
  {
   "cell_type": "code",
   "execution_count": 24,
   "metadata": {},
   "outputs": [],
   "source": [
    "def custom_cross_validate_v3(model, X, y, cv, fit_params = {}):\n",
    "    total_auc = 0\n",
    "\n",
    "    for (train_idx, val_idx) in cv.split(X, y):\n",
    "        fold_model = clone(model)\n",
    "\n",
    "        X_train, X_val = X.iloc[train_idx], X.iloc[val_idx]\n",
    "        y_train, y_val = y.iloc[train_idx], y.iloc[val_idx]\n",
    "\n",
    "        fit_params['eval_set'] = [(X_val, y_val)]\n",
    "        \n",
    "        # Fit the model with categorical features\n",
    "        fold_model.fit(X_train, y_train, **fit_params)\n",
    "        \n",
    "        # Predict probabilities for the validation set\n",
    "        y_preds_prob = fold_model.predict_proba(X_val)\n",
    "    \n",
    "        # Calculate and print AUC for the current fold\n",
    "        auc_score = roc_auc_score(y_val, y_preds_prob, multi_class = 'ovr')\n",
    "        total_auc += auc_score\n",
    "\n",
    "    return total_auc / 5"
   ]
  },
  {
   "cell_type": "code",
   "execution_count": 25,
   "metadata": {},
   "outputs": [],
   "source": [
    "def train_catboost(cb_model, X_train, X_val, y_train, y_val):\n",
    "    model = clone(cb_model)\n",
    "    model.fit(X_train, y_train, eval_set = [(X_val, y_val)])\n",
    "\n",
    "    y_preds_prob = model.predict_proba(X_val)\n",
    "    auc_score = roc_auc_score(y_val, y_preds_prob, multi_class = 'ovr')\n",
    "\n",
    "    return auc_score"
   ]
  },
  {
   "cell_type": "code",
   "execution_count": 29,
   "metadata": {},
   "outputs": [],
   "source": [
    "def objective(trial):\n",
    "    cb_params = {\n",
    "        'iterations': trial.suggest_int('cb_iterations', 500, 2000),\n",
    "        'learning_rate': trial.suggest_float('cb_learning_rate', 0.01, 0.3),\n",
    "        'depth': trial.suggest_int('cb_depth', 4, 10),\n",
    "        'l2_leaf_reg': trial.suggest_int('cb_l2_leaf_reg', 1, 10),\n",
    "        'bagging_temperature': trial.suggest_float('cb_bagging_temperature', 0, 1),\n",
    "        'random_state': seed,\n",
    "        'eval_metric': 'AUC',\n",
    "        'verbose': False,\n",
    "        'task_type': \"GPU\",\n",
    "        'cat_features': cat_features\n",
    "    }\n",
    "\n",
    "    cb_model = cb.CatBoostClassifier(**cb_params)\n",
    "    cv_auc = custom_cross_validate_v3(cb_model, X, y, kf)\n",
    "\n",
    "    print(f\"CatBoost CV AUC: {cv_auc:.4f}\")\n",
    "\n",
    "    return cv_auc"
   ]
  },
  {
   "cell_type": "code",
   "execution_count": 26,
   "metadata": {},
   "outputs": [],
   "source": [
    "# def objective(trial):\n",
    "#     cb_params = {\n",
    "#         'iterations': trial.suggest_int('cb_iterations', 500, 2000),\n",
    "#         'learning_rate': trial.suggest_float('cb_learning_rate', 0.01, 0.3),\n",
    "#         'depth': trial.suggest_int('cb_depth', 4, 10),\n",
    "#         'l2_leaf_reg': trial.suggest_int('cb_l2_leaf_reg', 1, 10),\n",
    "#         'bagging_temperature': trial.suggest_float('cb_bagging_temperature', 0, 1),\n",
    "#         'random_state': seed,\n",
    "#         'eval_metric': 'AUC',\n",
    "#         'verbose': False,\n",
    "#         'task_type': \"GPU\",\n",
    "#         'cat_features': cat_features\n",
    "#     }\n",
    "\n",
    "#     cb_model = cb.CatBoostClassifier(**cb_params)\n",
    "#     cb_auc = train_catboost(cb_model, X_train_search, X_val_search, y_train_search, y_val_search)\n",
    "\n",
    "#     print(f\"CatBoost CV AUC: {cb_auc:.4f}\")\n",
    "\n",
    "#     return cb_auc"
   ]
  },
  {
   "cell_type": "code",
   "execution_count": 27,
   "metadata": {},
   "outputs": [
    {
     "name": "stderr",
     "output_type": "stream",
     "text": [
      "[I 2024-10-18 10:51:32,011] A new study created in memory with name: no-name-687d2ff8-6e11-4cfa-9fa3-5e5ad0e0e616\n",
      "Default metric period is 5 because AUC is/are not implemented for GPU\n",
      "AUC is not implemented on GPU. Will use CPU for metric computation, this could significantly affect learning time\n",
      "[I 2024-10-18 10:52:16,224] Trial 0 finished with value: 0.7292706187716247 and parameters: {'cb_iterations': 1816, 'cb_learning_rate': 0.14386491910429977, 'cb_depth': 9, 'cb_l2_leaf_reg': 3, 'cb_bagging_temperature': 0.5681798809967306}. Best is trial 0 with value: 0.7292706187716247.\n"
     ]
    },
    {
     "name": "stdout",
     "output_type": "stream",
     "text": [
      "CatBoost CV AUC: 0.7293\n"
     ]
    },
    {
     "name": "stderr",
     "output_type": "stream",
     "text": [
      "Default metric period is 5 because AUC is/are not implemented for GPU\n",
      "AUC is not implemented on GPU. Will use CPU for metric computation, this could significantly affect learning time\n",
      "[I 2024-10-18 10:52:22,996] Trial 1 finished with value: 0.7339133815556942 and parameters: {'cb_iterations': 758, 'cb_learning_rate': 0.2890383686834121, 'cb_depth': 4, 'cb_l2_leaf_reg': 3, 'cb_bagging_temperature': 0.26500637894318124}. Best is trial 1 with value: 0.7339133815556942.\n"
     ]
    },
    {
     "name": "stdout",
     "output_type": "stream",
     "text": [
      "CatBoost CV AUC: 0.7339\n"
     ]
    },
    {
     "name": "stderr",
     "output_type": "stream",
     "text": [
      "Default metric period is 5 because AUC is/are not implemented for GPU\n",
      "AUC is not implemented on GPU. Will use CPU for metric computation, this could significantly affect learning time\n",
      "[I 2024-10-18 10:52:29,030] Trial 2 finished with value: 0.730580806338393 and parameters: {'cb_iterations': 565, 'cb_learning_rate': 0.1837382316565929, 'cb_depth': 5, 'cb_l2_leaf_reg': 6, 'cb_bagging_temperature': 0.18422442149389828}. Best is trial 1 with value: 0.7339133815556942.\n"
     ]
    },
    {
     "name": "stdout",
     "output_type": "stream",
     "text": [
      "CatBoost CV AUC: 0.7306\n"
     ]
    },
    {
     "name": "stderr",
     "output_type": "stream",
     "text": [
      "Default metric period is 5 because AUC is/are not implemented for GPU\n",
      "AUC is not implemented on GPU. Will use CPU for metric computation, this could significantly affect learning time\n",
      "[I 2024-10-18 10:52:45,510] Trial 3 finished with value: 0.7356743279495614 and parameters: {'cb_iterations': 942, 'cb_learning_rate': 0.08886791084926951, 'cb_depth': 8, 'cb_l2_leaf_reg': 5, 'cb_bagging_temperature': 0.45843407960693894}. Best is trial 3 with value: 0.7356743279495614.\n"
     ]
    },
    {
     "name": "stdout",
     "output_type": "stream",
     "text": [
      "CatBoost CV AUC: 0.7357\n"
     ]
    },
    {
     "name": "stderr",
     "output_type": "stream",
     "text": [
      "Default metric period is 5 because AUC is/are not implemented for GPU\n",
      "AUC is not implemented on GPU. Will use CPU for metric computation, this could significantly affect learning time\n",
      "[I 2024-10-18 10:53:46,294] Trial 4 finished with value: 0.7283582656176961 and parameters: {'cb_iterations': 1605, 'cb_learning_rate': 0.10453614591602985, 'cb_depth': 10, 'cb_l2_leaf_reg': 3, 'cb_bagging_temperature': 0.7438970129197553}. Best is trial 3 with value: 0.7356743279495614.\n"
     ]
    },
    {
     "name": "stdout",
     "output_type": "stream",
     "text": [
      "CatBoost CV AUC: 0.7284\n"
     ]
    },
    {
     "name": "stderr",
     "output_type": "stream",
     "text": [
      "Default metric period is 5 because AUC is/are not implemented for GPU\n",
      "AUC is not implemented on GPU. Will use CPU for metric computation, this could significantly affect learning time\n",
      "[I 2024-10-18 10:53:59,776] Trial 5 finished with value: 0.7312605395112762 and parameters: {'cb_iterations': 753, 'cb_learning_rate': 0.24127950618690525, 'cb_depth': 8, 'cb_l2_leaf_reg': 10, 'cb_bagging_temperature': 0.44171744635593524}. Best is trial 3 with value: 0.7356743279495614.\n"
     ]
    },
    {
     "name": "stdout",
     "output_type": "stream",
     "text": [
      "CatBoost CV AUC: 0.7313\n"
     ]
    },
    {
     "name": "stderr",
     "output_type": "stream",
     "text": [
      "Default metric period is 5 because AUC is/are not implemented for GPU\n",
      "AUC is not implemented on GPU. Will use CPU for metric computation, this could significantly affect learning time\n",
      "[I 2024-10-18 10:54:13,715] Trial 6 finished with value: 0.7339669552733923 and parameters: {'cb_iterations': 1353, 'cb_learning_rate': 0.1921573080756811, 'cb_depth': 5, 'cb_l2_leaf_reg': 5, 'cb_bagging_temperature': 0.9073686303764702}. Best is trial 3 with value: 0.7356743279495614.\n"
     ]
    },
    {
     "name": "stdout",
     "output_type": "stream",
     "text": [
      "CatBoost CV AUC: 0.7340\n"
     ]
    },
    {
     "name": "stderr",
     "output_type": "stream",
     "text": [
      "Default metric period is 5 because AUC is/are not implemented for GPU\n",
      "AUC is not implemented on GPU. Will use CPU for metric computation, this could significantly affect learning time\n",
      "[I 2024-10-18 10:54:33,845] Trial 7 finished with value: 0.7257028469837475 and parameters: {'cb_iterations': 830, 'cb_learning_rate': 0.09804135076116272, 'cb_depth': 9, 'cb_l2_leaf_reg': 6, 'cb_bagging_temperature': 0.9391523353574616}. Best is trial 3 with value: 0.7356743279495614.\n"
     ]
    },
    {
     "name": "stdout",
     "output_type": "stream",
     "text": [
      "CatBoost CV AUC: 0.7257\n"
     ]
    },
    {
     "name": "stderr",
     "output_type": "stream",
     "text": [
      "Default metric period is 5 because AUC is/are not implemented for GPU\n",
      "AUC is not implemented on GPU. Will use CPU for metric computation, this could significantly affect learning time\n",
      "[I 2024-10-18 10:55:09,706] Trial 8 finished with value: 0.728213301257897 and parameters: {'cb_iterations': 973, 'cb_learning_rate': 0.13043409703652215, 'cb_depth': 10, 'cb_l2_leaf_reg': 4, 'cb_bagging_temperature': 0.587988266350691}. Best is trial 3 with value: 0.7356743279495614.\n"
     ]
    },
    {
     "name": "stdout",
     "output_type": "stream",
     "text": [
      "CatBoost CV AUC: 0.7282\n"
     ]
    },
    {
     "name": "stderr",
     "output_type": "stream",
     "text": [
      "Default metric period is 5 because AUC is/are not implemented for GPU\n",
      "AUC is not implemented on GPU. Will use CPU for metric computation, this could significantly affect learning time\n",
      "[I 2024-10-18 10:55:29,883] Trial 9 finished with value: 0.7225218193344302 and parameters: {'cb_iterations': 530, 'cb_learning_rate': 0.16591472394678303, 'cb_depth': 10, 'cb_l2_leaf_reg': 3, 'cb_bagging_temperature': 0.9540512886919748}. Best is trial 3 with value: 0.7356743279495614.\n"
     ]
    },
    {
     "name": "stdout",
     "output_type": "stream",
     "text": [
      "CatBoost CV AUC: 0.7225\n"
     ]
    },
    {
     "name": "stderr",
     "output_type": "stream",
     "text": [
      "Default metric period is 5 because AUC is/are not implemented for GPU\n",
      "AUC is not implemented on GPU. Will use CPU for metric computation, this could significantly affect learning time\n",
      "[I 2024-10-18 10:55:45,181] Trial 10 finished with value: 0.7340097102717345 and parameters: {'cb_iterations': 1186, 'cb_learning_rate': 0.014046647569511364, 'cb_depth': 7, 'cb_l2_leaf_reg': 8, 'cb_bagging_temperature': 0.04429840870801077}. Best is trial 3 with value: 0.7356743279495614.\n"
     ]
    },
    {
     "name": "stdout",
     "output_type": "stream",
     "text": [
      "CatBoost CV AUC: 0.7340\n"
     ]
    },
    {
     "name": "stderr",
     "output_type": "stream",
     "text": [
      "Default metric period is 5 because AUC is/are not implemented for GPU\n",
      "AUC is not implemented on GPU. Will use CPU for metric computation, this could significantly affect learning time\n",
      "[I 2024-10-18 10:56:01,045] Trial 11 finished with value: 0.7335685197255664 and parameters: {'cb_iterations': 1249, 'cb_learning_rate': 0.010120835481892, 'cb_depth': 7, 'cb_l2_leaf_reg': 8, 'cb_bagging_temperature': 0.00409319576344281}. Best is trial 3 with value: 0.7356743279495614.\n"
     ]
    },
    {
     "name": "stdout",
     "output_type": "stream",
     "text": [
      "CatBoost CV AUC: 0.7336\n"
     ]
    },
    {
     "name": "stderr",
     "output_type": "stream",
     "text": [
      "Default metric period is 5 because AUC is/are not implemented for GPU\n",
      "AUC is not implemented on GPU. Will use CPU for metric computation, this could significantly affect learning time\n",
      "[I 2024-10-18 10:56:16,178] Trial 12 finished with value: 0.7323346567467093 and parameters: {'cb_iterations': 1153, 'cb_learning_rate': 0.028721742982294907, 'cb_depth': 7, 'cb_l2_leaf_reg': 8, 'cb_bagging_temperature': 0.023812533443855494}. Best is trial 3 with value: 0.7356743279495614.\n"
     ]
    },
    {
     "name": "stdout",
     "output_type": "stream",
     "text": [
      "CatBoost CV AUC: 0.7323\n"
     ]
    },
    {
     "name": "stderr",
     "output_type": "stream",
     "text": [
      "Default metric period is 5 because AUC is/are not implemented for GPU\n",
      "AUC is not implemented on GPU. Will use CPU for metric computation, this could significantly affect learning time\n",
      "[I 2024-10-18 10:56:32,257] Trial 13 finished with value: 0.7356030082482099 and parameters: {'cb_iterations': 1480, 'cb_learning_rate': 0.060543824189958254, 'cb_depth': 6, 'cb_l2_leaf_reg': 8, 'cb_bagging_temperature': 0.3505374357035214}. Best is trial 3 with value: 0.7356743279495614.\n"
     ]
    },
    {
     "name": "stdout",
     "output_type": "stream",
     "text": [
      "CatBoost CV AUC: 0.7356\n"
     ]
    },
    {
     "name": "stderr",
     "output_type": "stream",
     "text": [
      "Default metric period is 5 because AUC is/are not implemented for GPU\n",
      "AUC is not implemented on GPU. Will use CPU for metric computation, this could significantly affect learning time\n",
      "[I 2024-10-18 10:56:48,662] Trial 14 finished with value: 0.7369364224942204 and parameters: {'cb_iterations': 1483, 'cb_learning_rate': 0.06472989232107125, 'cb_depth': 6, 'cb_l2_leaf_reg': 1, 'cb_bagging_temperature': 0.3947476300578497}. Best is trial 14 with value: 0.7369364224942204.\n"
     ]
    },
    {
     "name": "stdout",
     "output_type": "stream",
     "text": [
      "CatBoost CV AUC: 0.7369\n"
     ]
    },
    {
     "name": "stderr",
     "output_type": "stream",
     "text": [
      "Default metric period is 5 because AUC is/are not implemented for GPU\n",
      "AUC is not implemented on GPU. Will use CPU for metric computation, this could significantly affect learning time\n",
      "[I 2024-10-18 10:57:09,858] Trial 15 finished with value: 0.7387348651155835 and parameters: {'cb_iterations': 1947, 'cb_learning_rate': 0.08171563423251439, 'cb_depth': 6, 'cb_l2_leaf_reg': 1, 'cb_bagging_temperature': 0.7003675975464669}. Best is trial 15 with value: 0.7387348651155835.\n"
     ]
    },
    {
     "name": "stdout",
     "output_type": "stream",
     "text": [
      "CatBoost CV AUC: 0.7387\n"
     ]
    },
    {
     "name": "stderr",
     "output_type": "stream",
     "text": [
      "Default metric period is 5 because AUC is/are not implemented for GPU\n",
      "AUC is not implemented on GPU. Will use CPU for metric computation, this could significantly affect learning time\n",
      "[I 2024-10-18 10:57:31,364] Trial 16 finished with value: 0.738898493177684 and parameters: {'cb_iterations': 1967, 'cb_learning_rate': 0.05761741066925527, 'cb_depth': 6, 'cb_l2_leaf_reg': 1, 'cb_bagging_temperature': 0.7455752166092121}. Best is trial 16 with value: 0.738898493177684.\n"
     ]
    },
    {
     "name": "stdout",
     "output_type": "stream",
     "text": [
      "CatBoost CV AUC: 0.7389\n"
     ]
    },
    {
     "name": "stderr",
     "output_type": "stream",
     "text": [
      "Default metric period is 5 because AUC is/are not implemented for GPU\n",
      "AUC is not implemented on GPU. Will use CPU for metric computation, this could significantly affect learning time\n",
      "[I 2024-10-18 10:57:52,784] Trial 17 finished with value: 0.7412916301675958 and parameters: {'cb_iterations': 1994, 'cb_learning_rate': 0.05512136098646711, 'cb_depth': 6, 'cb_l2_leaf_reg': 1, 'cb_bagging_temperature': 0.7439509852521109}. Best is trial 17 with value: 0.7412916301675958.\n"
     ]
    },
    {
     "name": "stdout",
     "output_type": "stream",
     "text": [
      "CatBoost CV AUC: 0.7413\n"
     ]
    },
    {
     "name": "stderr",
     "output_type": "stream",
     "text": [
      "Default metric period is 5 because AUC is/are not implemented for GPU\n",
      "AUC is not implemented on GPU. Will use CPU for metric computation, this could significantly affect learning time\n",
      "[I 2024-10-18 10:58:11,049] Trial 18 finished with value: 0.7338535372486032 and parameters: {'cb_iterations': 1992, 'cb_learning_rate': 0.04474339115217057, 'cb_depth': 4, 'cb_l2_leaf_reg': 1, 'cb_bagging_temperature': 0.7171931778368941}. Best is trial 17 with value: 0.7412916301675958.\n"
     ]
    },
    {
     "name": "stdout",
     "output_type": "stream",
     "text": [
      "CatBoost CV AUC: 0.7339\n"
     ]
    },
    {
     "name": "stderr",
     "output_type": "stream",
     "text": [
      "Default metric period is 5 because AUC is/are not implemented for GPU\n",
      "AUC is not implemented on GPU. Will use CPU for metric computation, this could significantly affect learning time\n",
      "[I 2024-10-18 10:58:28,813] Trial 19 finished with value: 0.7333987584317032 and parameters: {'cb_iterations': 1749, 'cb_learning_rate': 0.11595754697671326, 'cb_depth': 5, 'cb_l2_leaf_reg': 2, 'cb_bagging_temperature': 0.8118290760472653}. Best is trial 17 with value: 0.7412916301675958.\n"
     ]
    },
    {
     "name": "stdout",
     "output_type": "stream",
     "text": [
      "CatBoost CV AUC: 0.7334\n"
     ]
    },
    {
     "name": "stderr",
     "output_type": "stream",
     "text": [
      "Default metric period is 5 because AUC is/are not implemented for GPU\n",
      "AUC is not implemented on GPU. Will use CPU for metric computation, this could significantly affect learning time\n",
      "[I 2024-10-18 10:58:48,558] Trial 20 finished with value: 0.7386266086452384 and parameters: {'cb_iterations': 1838, 'cb_learning_rate': 0.058862964005115426, 'cb_depth': 6, 'cb_l2_leaf_reg': 2, 'cb_bagging_temperature': 0.5799143463630269}. Best is trial 17 with value: 0.7412916301675958.\n"
     ]
    },
    {
     "name": "stdout",
     "output_type": "stream",
     "text": [
      "CatBoost CV AUC: 0.7386\n"
     ]
    },
    {
     "name": "stderr",
     "output_type": "stream",
     "text": [
      "Default metric period is 5 because AUC is/are not implemented for GPU\n",
      "AUC is not implemented on GPU. Will use CPU for metric computation, this could significantly affect learning time\n",
      "[I 2024-10-18 10:59:10,166] Trial 21 finished with value: 0.7320737488942124 and parameters: {'cb_iterations': 1996, 'cb_learning_rate': 0.0883865558454038, 'cb_depth': 6, 'cb_l2_leaf_reg': 1, 'cb_bagging_temperature': 0.752868602601725}. Best is trial 17 with value: 0.7412916301675958.\n"
     ]
    },
    {
     "name": "stdout",
     "output_type": "stream",
     "text": [
      "CatBoost CV AUC: 0.7321\n"
     ]
    },
    {
     "name": "stderr",
     "output_type": "stream",
     "text": [
      "Default metric period is 5 because AUC is/are not implemented for GPU\n",
      "AUC is not implemented on GPU. Will use CPU for metric computation, this could significantly affect learning time\n",
      "[I 2024-10-18 10:59:27,312] Trial 22 finished with value: 0.7386889303967328 and parameters: {'cb_iterations': 1706, 'cb_learning_rate': 0.07483266364585707, 'cb_depth': 5, 'cb_l2_leaf_reg': 2, 'cb_bagging_temperature': 0.653402566518152}. Best is trial 17 with value: 0.7412916301675958.\n"
     ]
    },
    {
     "name": "stdout",
     "output_type": "stream",
     "text": [
      "CatBoost CV AUC: 0.7387\n"
     ]
    },
    {
     "name": "stderr",
     "output_type": "stream",
     "text": [
      "Default metric period is 5 because AUC is/are not implemented for GPU\n",
      "AUC is not implemented on GPU. Will use CPU for metric computation, this could significantly affect learning time\n",
      "[I 2024-10-18 10:59:51,871] Trial 23 finished with value: 0.7330109562754645 and parameters: {'cb_iterations': 1901, 'cb_learning_rate': 0.040143792567546875, 'cb_depth': 7, 'cb_l2_leaf_reg': 1, 'cb_bagging_temperature': 0.8407151362031077}. Best is trial 17 with value: 0.7412916301675958.\n"
     ]
    },
    {
     "name": "stdout",
     "output_type": "stream",
     "text": [
      "CatBoost CV AUC: 0.7330\n"
     ]
    },
    {
     "name": "stderr",
     "output_type": "stream",
     "text": [
      "Default metric period is 5 because AUC is/are not implemented for GPU\n",
      "AUC is not implemented on GPU. Will use CPU for metric computation, this could significantly affect learning time\n",
      "[I 2024-10-18 11:00:09,676] Trial 24 finished with value: 0.7321515024955983 and parameters: {'cb_iterations': 1638, 'cb_learning_rate': 0.11683799809799755, 'cb_depth': 6, 'cb_l2_leaf_reg': 2, 'cb_bagging_temperature': 0.6587178969690033}. Best is trial 17 with value: 0.7412916301675958.\n"
     ]
    },
    {
     "name": "stdout",
     "output_type": "stream",
     "text": [
      "CatBoost CV AUC: 0.7322\n"
     ]
    },
    {
     "name": "stderr",
     "output_type": "stream",
     "text": [
      "Default metric period is 5 because AUC is/are not implemented for GPU\n",
      "AUC is not implemented on GPU. Will use CPU for metric computation, this could significantly affect learning time\n",
      "[I 2024-10-18 11:00:42,172] Trial 25 finished with value: 0.7358114722729218 and parameters: {'cb_iterations': 1926, 'cb_learning_rate': 0.03723742353521185, 'cb_depth': 8, 'cb_l2_leaf_reg': 4, 'cb_bagging_temperature': 0.8219489170355172}. Best is trial 17 with value: 0.7412916301675958.\n"
     ]
    },
    {
     "name": "stdout",
     "output_type": "stream",
     "text": [
      "CatBoost CV AUC: 0.7358\n"
     ]
    },
    {
     "name": "stderr",
     "output_type": "stream",
     "text": [
      "Default metric period is 5 because AUC is/are not implemented for GPU\n",
      "AUC is not implemented on GPU. Will use CPU for metric computation, this could significantly affect learning time\n",
      "[I 2024-10-18 11:01:00,452] Trial 26 finished with value: 0.7324811841463486 and parameters: {'cb_iterations': 1806, 'cb_learning_rate': 0.08145344123514169, 'cb_depth': 5, 'cb_l2_leaf_reg': 1, 'cb_bagging_temperature': 0.670119326034107}. Best is trial 17 with value: 0.7412916301675958.\n"
     ]
    },
    {
     "name": "stdout",
     "output_type": "stream",
     "text": [
      "CatBoost CV AUC: 0.7325\n"
     ]
    },
    {
     "name": "stderr",
     "output_type": "stream",
     "text": [
      "Default metric period is 5 because AUC is/are not implemented for GPU\n",
      "AUC is not implemented on GPU. Will use CPU for metric computation, this could significantly affect learning time\n",
      "[I 2024-10-18 11:01:21,151] Trial 27 finished with value: 0.7363643703001476 and parameters: {'cb_iterations': 1602, 'cb_learning_rate': 0.1498803061365829, 'cb_depth': 7, 'cb_l2_leaf_reg': 2, 'cb_bagging_temperature': 0.5268123094120509}. Best is trial 17 with value: 0.7412916301675958.\n"
     ]
    },
    {
     "name": "stdout",
     "output_type": "stream",
     "text": [
      "CatBoost CV AUC: 0.7364\n"
     ]
    },
    {
     "name": "stderr",
     "output_type": "stream",
     "text": [
      "Default metric period is 5 because AUC is/are not implemented for GPU\n",
      "AUC is not implemented on GPU. Will use CPU for metric computation, this could significantly affect learning time\n",
      "[I 2024-10-18 11:01:41,321] Trial 28 finished with value: 0.7349841792029177 and parameters: {'cb_iterations': 1901, 'cb_learning_rate': 0.22062564711135801, 'cb_depth': 6, 'cb_l2_leaf_reg': 4, 'cb_bagging_temperature': 0.8731602415882157}. Best is trial 17 with value: 0.7412916301675958.\n"
     ]
    },
    {
     "name": "stdout",
     "output_type": "stream",
     "text": [
      "CatBoost CV AUC: 0.7350\n"
     ]
    },
    {
     "name": "stderr",
     "output_type": "stream",
     "text": [
      "Default metric period is 5 because AUC is/are not implemented for GPU\n",
      "AUC is not implemented on GPU. Will use CPU for metric computation, this could significantly affect learning time\n",
      "[I 2024-10-18 11:01:56,787] Trial 29 finished with value: 0.7325819905080758 and parameters: {'cb_iterations': 1732, 'cb_learning_rate': 0.13811516471040253, 'cb_depth': 4, 'cb_l2_leaf_reg': 2, 'cb_bagging_temperature': 0.7699301223737963}. Best is trial 17 with value: 0.7412916301675958.\n"
     ]
    },
    {
     "name": "stdout",
     "output_type": "stream",
     "text": [
      "CatBoost CV AUC: 0.7326\n"
     ]
    },
    {
     "name": "stderr",
     "output_type": "stream",
     "text": [
      "Default metric period is 5 because AUC is/are not implemented for GPU\n",
      "AUC is not implemented on GPU. Will use CPU for metric computation, this could significantly affect learning time\n",
      "[I 2024-10-18 11:02:11,986] Trial 30 finished with value: 0.7398420726217573 and parameters: {'cb_iterations': 1505, 'cb_learning_rate': 0.05479132818434273, 'cb_depth': 5, 'cb_l2_leaf_reg': 1, 'cb_bagging_temperature': 0.6108138426479219}. Best is trial 17 with value: 0.7412916301675958.\n"
     ]
    },
    {
     "name": "stdout",
     "output_type": "stream",
     "text": [
      "CatBoost CV AUC: 0.7398\n"
     ]
    },
    {
     "name": "stderr",
     "output_type": "stream",
     "text": [
      "Default metric period is 5 because AUC is/are not implemented for GPU\n",
      "AUC is not implemented on GPU. Will use CPU for metric computation, this could significantly affect learning time\n",
      "[I 2024-10-18 11:02:30,423] Trial 31 finished with value: 0.7383456106785466 and parameters: {'cb_iterations': 1818, 'cb_learning_rate': 0.05149290215739507, 'cb_depth': 5, 'cb_l2_leaf_reg': 1, 'cb_bagging_temperature': 0.6054731692404367}. Best is trial 17 with value: 0.7412916301675958.\n"
     ]
    },
    {
     "name": "stdout",
     "output_type": "stream",
     "text": [
      "CatBoost CV AUC: 0.7383\n"
     ]
    },
    {
     "name": "stderr",
     "output_type": "stream",
     "text": [
      "Default metric period is 5 because AUC is/are not implemented for GPU\n",
      "AUC is not implemented on GPU. Will use CPU for metric computation, this could significantly affect learning time\n",
      "[I 2024-10-18 11:02:46,607] Trial 32 finished with value: 0.7392881101773423 and parameters: {'cb_iterations': 1482, 'cb_learning_rate': 0.02805425165692885, 'cb_depth': 6, 'cb_l2_leaf_reg': 1, 'cb_bagging_temperature': 0.6309368778811718}. Best is trial 17 with value: 0.7412916301675958.\n"
     ]
    },
    {
     "name": "stdout",
     "output_type": "stream",
     "text": [
      "CatBoost CV AUC: 0.7393\n"
     ]
    },
    {
     "name": "stderr",
     "output_type": "stream",
     "text": [
      "Default metric period is 5 because AUC is/are not implemented for GPU\n",
      "AUC is not implemented on GPU. Will use CPU for metric computation, this could significantly affect learning time\n",
      "[I 2024-10-18 11:02:59,014] Trial 33 finished with value: 0.7344516344244842 and parameters: {'cb_iterations': 1444, 'cb_learning_rate': 0.025200864408382043, 'cb_depth': 4, 'cb_l2_leaf_reg': 3, 'cb_bagging_temperature': 0.5351320401759634}. Best is trial 17 with value: 0.7412916301675958.\n"
     ]
    },
    {
     "name": "stdout",
     "output_type": "stream",
     "text": [
      "CatBoost CV AUC: 0.7345\n"
     ]
    },
    {
     "name": "stderr",
     "output_type": "stream",
     "text": [
      "Default metric period is 5 because AUC is/are not implemented for GPU\n",
      "AUC is not implemented on GPU. Will use CPU for metric computation, this could significantly affect learning time\n",
      "[I 2024-10-18 11:03:14,424] Trial 34 finished with value: 0.7293286651765755 and parameters: {'cb_iterations': 1540, 'cb_learning_rate': 0.2777237075257345, 'cb_depth': 5, 'cb_l2_leaf_reg': 2, 'cb_bagging_temperature': 0.6230130489502208}. Best is trial 17 with value: 0.7412916301675958.\n"
     ]
    },
    {
     "name": "stdout",
     "output_type": "stream",
     "text": [
      "CatBoost CV AUC: 0.7293\n"
     ]
    },
    {
     "name": "stderr",
     "output_type": "stream",
     "text": [
      "Default metric period is 5 because AUC is/are not implemented for GPU\n",
      "AUC is not implemented on GPU. Will use CPU for metric computation, this could significantly affect learning time\n",
      "[I 2024-10-18 11:03:26,322] Trial 35 finished with value: 0.7355676555228342 and parameters: {'cb_iterations': 1074, 'cb_learning_rate': 0.022867003880698032, 'cb_depth': 6, 'cb_l2_leaf_reg': 3, 'cb_bagging_temperature': 0.9919407084644949}. Best is trial 17 with value: 0.7412916301675958.\n"
     ]
    },
    {
     "name": "stdout",
     "output_type": "stream",
     "text": [
      "CatBoost CV AUC: 0.7356\n"
     ]
    },
    {
     "name": "stderr",
     "output_type": "stream",
     "text": [
      "Default metric period is 5 because AUC is/are not implemented for GPU\n",
      "AUC is not implemented on GPU. Will use CPU for metric computation, this could significantly affect learning time\n",
      "[I 2024-10-18 11:03:39,830] Trial 36 finished with value: 0.7363843403892276 and parameters: {'cb_iterations': 1348, 'cb_learning_rate': 0.07012822957639885, 'cb_depth': 5, 'cb_l2_leaf_reg': 1, 'cb_bagging_temperature': 0.44873991131701896}. Best is trial 17 with value: 0.7412916301675958.\n"
     ]
    },
    {
     "name": "stdout",
     "output_type": "stream",
     "text": [
      "CatBoost CV AUC: 0.7364\n"
     ]
    },
    {
     "name": "stderr",
     "output_type": "stream",
     "text": [
      "Default metric period is 5 because AUC is/are not implemented for GPU\n",
      "AUC is not implemented on GPU. Will use CPU for metric computation, this could significantly affect learning time\n",
      "[I 2024-10-18 11:03:57,912] Trial 37 finished with value: 0.7394003253899059 and parameters: {'cb_iterations': 1381, 'cb_learning_rate': 0.050745658392469015, 'cb_depth': 7, 'cb_l2_leaf_reg': 10, 'cb_bagging_temperature': 0.49764126874511916}. Best is trial 17 with value: 0.7412916301675958.\n"
     ]
    },
    {
     "name": "stdout",
     "output_type": "stream",
     "text": [
      "CatBoost CV AUC: 0.7394\n"
     ]
    },
    {
     "name": "stderr",
     "output_type": "stream",
     "text": [
      "Default metric period is 5 because AUC is/are not implemented for GPU\n",
      "AUC is not implemented on GPU. Will use CPU for metric computation, this could significantly affect learning time\n",
      "[I 2024-10-18 11:04:20,810] Trial 38 finished with value: 0.7386403515477522 and parameters: {'cb_iterations': 1355, 'cb_learning_rate': 0.104189263663439, 'cb_depth': 8, 'cb_l2_leaf_reg': 10, 'cb_bagging_temperature': 0.28625297329615434}. Best is trial 17 with value: 0.7412916301675958.\n"
     ]
    },
    {
     "name": "stdout",
     "output_type": "stream",
     "text": [
      "CatBoost CV AUC: 0.7386\n"
     ]
    },
    {
     "name": "stderr",
     "output_type": "stream",
     "text": [
      "Default metric period is 5 because AUC is/are not implemented for GPU\n",
      "AUC is not implemented on GPU. Will use CPU for metric computation, this could significantly affect learning time\n",
      "[I 2024-10-18 11:04:37,558] Trial 39 finished with value: 0.7403138502858961 and parameters: {'cb_iterations': 1306, 'cb_learning_rate': 0.039258252454880786, 'cb_depth': 7, 'cb_l2_leaf_reg': 5, 'cb_bagging_temperature': 0.48274422627228497}. Best is trial 17 with value: 0.7412916301675958.\n"
     ]
    },
    {
     "name": "stdout",
     "output_type": "stream",
     "text": [
      "CatBoost CV AUC: 0.7403\n"
     ]
    },
    {
     "name": "stderr",
     "output_type": "stream",
     "text": [
      "Default metric period is 5 because AUC is/are not implemented for GPU\n",
      "AUC is not implemented on GPU. Will use CPU for metric computation, this could significantly affect learning time\n",
      "[I 2024-10-18 11:05:08,842] Trial 40 finished with value: 0.7353011634470448 and parameters: {'cb_iterations': 1299, 'cb_learning_rate': 0.09742277549111299, 'cb_depth': 9, 'cb_l2_leaf_reg': 7, 'cb_bagging_temperature': 0.5005439988884435}. Best is trial 17 with value: 0.7412916301675958.\n"
     ]
    },
    {
     "name": "stdout",
     "output_type": "stream",
     "text": [
      "CatBoost CV AUC: 0.7353\n"
     ]
    },
    {
     "name": "stderr",
     "output_type": "stream",
     "text": [
      "Default metric period is 5 because AUC is/are not implemented for GPU\n",
      "AUC is not implemented on GPU. Will use CPU for metric computation, this could significantly affect learning time\n",
      "[I 2024-10-18 11:05:27,150] Trial 41 finished with value: 0.7387784415927667 and parameters: {'cb_iterations': 1427, 'cb_learning_rate': 0.037204756603658656, 'cb_depth': 7, 'cb_l2_leaf_reg': 7, 'cb_bagging_temperature': 0.3802474090632829}. Best is trial 17 with value: 0.7412916301675958.\n"
     ]
    },
    {
     "name": "stdout",
     "output_type": "stream",
     "text": [
      "CatBoost CV AUC: 0.7388\n"
     ]
    },
    {
     "name": "stderr",
     "output_type": "stream",
     "text": [
      "Default metric period is 5 because AUC is/are not implemented for GPU\n",
      "AUC is not implemented on GPU. Will use CPU for metric computation, this could significantly affect learning time\n",
      "[I 2024-10-18 11:05:45,781] Trial 42 finished with value: 0.7373634225547552 and parameters: {'cb_iterations': 1079, 'cb_learning_rate': 0.04818217971560659, 'cb_depth': 8, 'cb_l2_leaf_reg': 9, 'cb_bagging_temperature': 0.48744103973082364}. Best is trial 17 with value: 0.7412916301675958.\n"
     ]
    },
    {
     "name": "stdout",
     "output_type": "stream",
     "text": [
      "CatBoost CV AUC: 0.7374\n"
     ]
    },
    {
     "name": "stderr",
     "output_type": "stream",
     "text": [
      "Default metric period is 5 because AUC is/are not implemented for GPU\n",
      "AUC is not implemented on GPU. Will use CPU for metric computation, this could significantly affect learning time\n",
      "[I 2024-10-18 11:05:54,723] Trial 43 finished with value: 0.7285717522497555 and parameters: {'cb_iterations': 665, 'cb_learning_rate': 0.010075581940297222, 'cb_depth': 7, 'cb_l2_leaf_reg': 5, 'cb_bagging_temperature': 0.5574485579096926}. Best is trial 17 with value: 0.7412916301675958.\n"
     ]
    },
    {
     "name": "stdout",
     "output_type": "stream",
     "text": [
      "CatBoost CV AUC: 0.7286\n"
     ]
    },
    {
     "name": "stderr",
     "output_type": "stream",
     "text": [
      "Default metric period is 5 because AUC is/are not implemented for GPU\n",
      "AUC is not implemented on GPU. Will use CPU for metric computation, this could significantly affect learning time\n",
      "[I 2024-10-18 11:06:16,174] Trial 44 finished with value: 0.7350260267877192 and parameters: {'cb_iterations': 1254, 'cb_learning_rate': 0.028482207724069092, 'cb_depth': 8, 'cb_l2_leaf_reg': 6, 'cb_bagging_temperature': 0.17602395871034604}. Best is trial 17 with value: 0.7412916301675958.\n"
     ]
    },
    {
     "name": "stdout",
     "output_type": "stream",
     "text": [
      "CatBoost CV AUC: 0.7350\n"
     ]
    },
    {
     "name": "stderr",
     "output_type": "stream",
     "text": [
      "Default metric period is 5 because AUC is/are not implemented for GPU\n",
      "AUC is not implemented on GPU. Will use CPU for metric computation, this could significantly affect learning time\n",
      "[I 2024-10-18 11:06:36,284] Trial 45 finished with value: 0.7328310139637045 and parameters: {'cb_iterations': 1550, 'cb_learning_rate': 0.19383610749772207, 'cb_depth': 7, 'cb_l2_leaf_reg': 7, 'cb_bagging_temperature': 0.42595191754093253}. Best is trial 17 with value: 0.7412916301675958.\n"
     ]
    },
    {
     "name": "stdout",
     "output_type": "stream",
     "text": [
      "CatBoost CV AUC: 0.7328\n"
     ]
    },
    {
     "name": "stderr",
     "output_type": "stream",
     "text": [
      "Default metric period is 5 because AUC is/are not implemented for GPU\n",
      "AUC is not implemented on GPU. Will use CPU for metric computation, this could significantly affect learning time\n",
      "[I 2024-10-18 11:06:54,550] Trial 46 finished with value: 0.7358834652464262 and parameters: {'cb_iterations': 1399, 'cb_learning_rate': 0.1691969080798276, 'cb_depth': 7, 'cb_l2_leaf_reg': 9, 'cb_bagging_temperature': 0.3052251367493324}. Best is trial 17 with value: 0.7412916301675958.\n"
     ]
    },
    {
     "name": "stdout",
     "output_type": "stream",
     "text": [
      "CatBoost CV AUC: 0.7359\n"
     ]
    },
    {
     "name": "stderr",
     "output_type": "stream",
     "text": [
      "Default metric period is 5 because AUC is/are not implemented for GPU\n",
      "AUC is not implemented on GPU. Will use CPU for metric computation, this could significantly affect learning time\n",
      "[I 2024-10-18 11:07:05,522] Trial 47 finished with value: 0.7380146154999196 and parameters: {'cb_iterations': 940, 'cb_learning_rate': 0.07228556103410333, 'cb_depth': 6, 'cb_l2_leaf_reg': 5, 'cb_bagging_temperature': 0.49030685063763313}. Best is trial 17 with value: 0.7412916301675958.\n"
     ]
    },
    {
     "name": "stdout",
     "output_type": "stream",
     "text": [
      "CatBoost CV AUC: 0.7380\n"
     ]
    },
    {
     "name": "stderr",
     "output_type": "stream",
     "text": [
      "Default metric period is 5 because AUC is/are not implemented for GPU\n",
      "AUC is not implemented on GPU. Will use CPU for metric computation, this could significantly affect learning time\n",
      "[I 2024-10-18 11:07:20,973] Trial 48 finished with value: 0.7394230599484577 and parameters: {'cb_iterations': 1170, 'cb_learning_rate': 0.022036916031676113, 'cb_depth': 7, 'cb_l2_leaf_reg': 4, 'cb_bagging_temperature': 0.6251286130416296}. Best is trial 17 with value: 0.7412916301675958.\n"
     ]
    },
    {
     "name": "stdout",
     "output_type": "stream",
     "text": [
      "CatBoost CV AUC: 0.7394\n"
     ]
    },
    {
     "name": "stderr",
     "output_type": "stream",
     "text": [
      "Default metric period is 5 because AUC is/are not implemented for GPU\n",
      "AUC is not implemented on GPU. Will use CPU for metric computation, this could significantly affect learning time\n",
      "[I 2024-10-18 11:07:48,679] Trial 49 finished with value: 0.7365236156915651 and parameters: {'cb_iterations': 1124, 'cb_learning_rate': 0.12173865796695013, 'cb_depth': 9, 'cb_l2_leaf_reg': 4, 'cb_bagging_temperature': 0.21511029773988577}. Best is trial 17 with value: 0.7412916301675958.\n"
     ]
    },
    {
     "name": "stdout",
     "output_type": "stream",
     "text": [
      "CatBoost CV AUC: 0.7365\n"
     ]
    },
    {
     "name": "stderr",
     "output_type": "stream",
     "text": [
      "Default metric period is 5 because AUC is/are not implemented for GPU\n",
      "AUC is not implemented on GPU. Will use CPU for metric computation, this could significantly affect learning time\n",
      "[I 2024-10-18 11:08:09,557] Trial 50 finished with value: 0.738193666076162 and parameters: {'cb_iterations': 1207, 'cb_learning_rate': 0.05150174713920898, 'cb_depth': 8, 'cb_l2_leaf_reg': 6, 'cb_bagging_temperature': 0.7040369853731326}. Best is trial 17 with value: 0.7412916301675958.\n"
     ]
    },
    {
     "name": "stdout",
     "output_type": "stream",
     "text": [
      "CatBoost CV AUC: 0.7382\n"
     ]
    },
    {
     "name": "stderr",
     "output_type": "stream",
     "text": [
      "Default metric period is 5 because AUC is/are not implemented for GPU\n",
      "AUC is not implemented on GPU. Will use CPU for metric computation, this could significantly affect learning time\n",
      "[I 2024-10-18 11:08:23,199] Trial 51 finished with value: 0.7383441771550079 and parameters: {'cb_iterations': 1009, 'cb_learning_rate': 0.02486355881445352, 'cb_depth': 7, 'cb_l2_leaf_reg': 3, 'cb_bagging_temperature': 0.6197463416905046}. Best is trial 17 with value: 0.7412916301675958.\n"
     ]
    },
    {
     "name": "stdout",
     "output_type": "stream",
     "text": [
      "CatBoost CV AUC: 0.7383\n"
     ]
    },
    {
     "name": "stderr",
     "output_type": "stream",
     "text": [
      "Default metric period is 5 because AUC is/are not implemented for GPU\n",
      "AUC is not implemented on GPU. Will use CPU for metric computation, this could significantly affect learning time\n",
      "[I 2024-10-18 11:08:39,915] Trial 52 finished with value: 0.7371232492562065 and parameters: {'cb_iterations': 1281, 'cb_learning_rate': 0.01746929591951222, 'cb_depth': 7, 'cb_l2_leaf_reg': 5, 'cb_bagging_temperature': 0.5649539058739607}. Best is trial 17 with value: 0.7412916301675958.\n"
     ]
    },
    {
     "name": "stdout",
     "output_type": "stream",
     "text": [
      "CatBoost CV AUC: 0.7371\n"
     ]
    },
    {
     "name": "stderr",
     "output_type": "stream",
     "text": [
      "Default metric period is 5 because AUC is/are not implemented for GPU\n",
      "AUC is not implemented on GPU. Will use CPU for metric computation, this could significantly affect learning time\n",
      "[I 2024-10-18 11:08:50,016] Trial 53 finished with value: 0.7393462352986937 and parameters: {'cb_iterations': 860, 'cb_learning_rate': 0.03466688531270354, 'cb_depth': 6, 'cb_l2_leaf_reg': 4, 'cb_bagging_temperature': 0.639154433774555}. Best is trial 17 with value: 0.7412916301675958.\n"
     ]
    },
    {
     "name": "stdout",
     "output_type": "stream",
     "text": [
      "CatBoost CV AUC: 0.7393\n"
     ]
    },
    {
     "name": "stderr",
     "output_type": "stream",
     "text": [
      "Default metric period is 5 because AUC is/are not implemented for GPU\n",
      "AUC is not implemented on GPU. Will use CPU for metric computation, this could significantly affect learning time\n",
      "[I 2024-10-18 11:09:00,841] Trial 54 finished with value: 0.7364933675431062 and parameters: {'cb_iterations': 787, 'cb_learning_rate': 0.03879676459178345, 'cb_depth': 7, 'cb_l2_leaf_reg': 4, 'cb_bagging_temperature': 0.7790559686971706}. Best is trial 17 with value: 0.7412916301675958.\n"
     ]
    },
    {
     "name": "stdout",
     "output_type": "stream",
     "text": [
      "CatBoost CV AUC: 0.7365\n"
     ]
    },
    {
     "name": "stderr",
     "output_type": "stream",
     "text": [
      "Default metric period is 5 because AUC is/are not implemented for GPU\n",
      "AUC is not implemented on GPU. Will use CPU for metric computation, this could significantly affect learning time\n",
      "[I 2024-10-18 11:09:10,817] Trial 55 finished with value: 0.7364334059577636 and parameters: {'cb_iterations': 865, 'cb_learning_rate': 0.060268114171316, 'cb_depth': 6, 'cb_l2_leaf_reg': 5, 'cb_bagging_temperature': 0.6965938115126836}. Best is trial 17 with value: 0.7412916301675958.\n"
     ]
    },
    {
     "name": "stdout",
     "output_type": "stream",
     "text": [
      "CatBoost CV AUC: 0.7364\n"
     ]
    },
    {
     "name": "stderr",
     "output_type": "stream",
     "text": [
      "Default metric period is 5 because AUC is/are not implemented for GPU\n",
      "AUC is not implemented on GPU. Will use CPU for metric computation, this could significantly affect learning time\n",
      "[I 2024-10-18 11:09:23,179] Trial 56 finished with value: 0.7385334338666487 and parameters: {'cb_iterations': 1193, 'cb_learning_rate': 0.0865928961319204, 'cb_depth': 5, 'cb_l2_leaf_reg': 6, 'cb_bagging_temperature': 0.40960378813480425}. Best is trial 17 with value: 0.7412916301675958.\n"
     ]
    },
    {
     "name": "stdout",
     "output_type": "stream",
     "text": [
      "CatBoost CV AUC: 0.7385\n"
     ]
    },
    {
     "name": "stderr",
     "output_type": "stream",
     "text": [
      "Default metric period is 5 because AUC is/are not implemented for GPU\n",
      "AUC is not implemented on GPU. Will use CPU for metric computation, this could significantly affect learning time\n",
      "[I 2024-10-18 11:09:34,712] Trial 57 finished with value: 0.7352375676801886 and parameters: {'cb_iterations': 654, 'cb_learning_rate': 0.06590247960960144, 'cb_depth': 8, 'cb_l2_leaf_reg': 4, 'cb_bagging_temperature': 0.5282600737953358}. Best is trial 17 with value: 0.7412916301675958.\n"
     ]
    },
    {
     "name": "stdout",
     "output_type": "stream",
     "text": [
      "CatBoost CV AUC: 0.7352\n"
     ]
    },
    {
     "name": "stderr",
     "output_type": "stream",
     "text": [
      "Default metric period is 5 because AUC is/are not implemented for GPU\n",
      "AUC is not implemented on GPU. Will use CPU for metric computation, this could significantly affect learning time\n",
      "[I 2024-10-18 11:09:50,216] Trial 58 finished with value: 0.7376584614897418 and parameters: {'cb_iterations': 1359, 'cb_learning_rate': 0.036723245192843465, 'cb_depth': 6, 'cb_l2_leaf_reg': 3, 'cb_bagging_temperature': 0.46752140811818427}. Best is trial 17 with value: 0.7412916301675958.\n"
     ]
    },
    {
     "name": "stdout",
     "output_type": "stream",
     "text": [
      "CatBoost CV AUC: 0.7377\n"
     ]
    },
    {
     "name": "stderr",
     "output_type": "stream",
     "text": [
      "Default metric period is 5 because AUC is/are not implemented for GPU\n",
      "AUC is not implemented on GPU. Will use CPU for metric computation, this could significantly affect learning time\n",
      "[I 2024-10-18 11:10:02,179] Trial 59 finished with value: 0.7344950260645581 and parameters: {'cb_iterations': 902, 'cb_learning_rate': 0.04859454975353925, 'cb_depth': 7, 'cb_l2_leaf_reg': 4, 'cb_bagging_temperature': 0.5870974456242151}. Best is trial 17 with value: 0.7412916301675958.\n"
     ]
    },
    {
     "name": "stdout",
     "output_type": "stream",
     "text": [
      "CatBoost CV AUC: 0.7345\n"
     ]
    },
    {
     "name": "stderr",
     "output_type": "stream",
     "text": [
      "Default metric period is 5 because AUC is/are not implemented for GPU\n",
      "AUC is not implemented on GPU. Will use CPU for metric computation, this could significantly affect learning time\n",
      "[I 2024-10-18 11:10:11,495] Trial 60 finished with value: 0.7219488589738376 and parameters: {'cb_iterations': 1027, 'cb_learning_rate': 0.014854957612777801, 'cb_depth': 4, 'cb_l2_leaf_reg': 10, 'cb_bagging_temperature': 0.6624294298450246}. Best is trial 17 with value: 0.7412916301675958.\n"
     ]
    },
    {
     "name": "stdout",
     "output_type": "stream",
     "text": [
      "CatBoost CV AUC: 0.7219\n"
     ]
    },
    {
     "name": "stderr",
     "output_type": "stream",
     "text": [
      "Default metric period is 5 because AUC is/are not implemented for GPU\n",
      "AUC is not implemented on GPU. Will use CPU for metric computation, this could significantly affect learning time\n",
      "[I 2024-10-18 11:10:28,732] Trial 61 finished with value: 0.7387398381420016 and parameters: {'cb_iterations': 1546, 'cb_learning_rate': 0.026819058643749075, 'cb_depth': 6, 'cb_l2_leaf_reg': 2, 'cb_bagging_temperature': 0.6336515126227802}. Best is trial 17 with value: 0.7412916301675958.\n"
     ]
    },
    {
     "name": "stdout",
     "output_type": "stream",
     "text": [
      "CatBoost CV AUC: 0.7387\n"
     ]
    },
    {
     "name": "stderr",
     "output_type": "stream",
     "text": [
      "Default metric period is 5 because AUC is/are not implemented for GPU\n",
      "AUC is not implemented on GPU. Will use CPU for metric computation, this could significantly affect learning time\n",
      "[I 2024-10-18 11:10:45,498] Trial 62 finished with value: 0.7364896025494883 and parameters: {'cb_iterations': 1498, 'cb_learning_rate': 0.03341609967319908, 'cb_depth': 6, 'cb_l2_leaf_reg': 9, 'cb_bagging_temperature': 0.7282175255117734}. Best is trial 17 with value: 0.7412916301675958.\n"
     ]
    },
    {
     "name": "stdout",
     "output_type": "stream",
     "text": [
      "CatBoost CV AUC: 0.7365\n"
     ]
    },
    {
     "name": "stderr",
     "output_type": "stream",
     "text": [
      "Default metric period is 5 because AUC is/are not implemented for GPU\n",
      "AUC is not implemented on GPU. Will use CPU for metric computation, this could significantly affect learning time\n",
      "[I 2024-10-18 11:11:03,446] Trial 63 finished with value: 0.7370320819060868 and parameters: {'cb_iterations': 1649, 'cb_learning_rate': 0.05643250444353838, 'cb_depth': 6, 'cb_l2_leaf_reg': 1, 'cb_bagging_temperature': 0.6822483476896429}. Best is trial 17 with value: 0.7412916301675958.\n"
     ]
    },
    {
     "name": "stdout",
     "output_type": "stream",
     "text": [
      "CatBoost CV AUC: 0.7370\n"
     ]
    },
    {
     "name": "stderr",
     "output_type": "stream",
     "text": [
      "Default metric period is 5 because AUC is/are not implemented for GPU\n",
      "AUC is not implemented on GPU. Will use CPU for metric computation, this could significantly affect learning time\n",
      "[I 2024-10-18 11:11:20,868] Trial 64 finished with value: 0.7374635135023241 and parameters: {'cb_iterations': 1313, 'cb_learning_rate': 0.07745865307647007, 'cb_depth': 7, 'cb_l2_leaf_reg': 5, 'cb_bagging_temperature': 0.5524795751379511}. Best is trial 17 with value: 0.7412916301675958.\n"
     ]
    },
    {
     "name": "stdout",
     "output_type": "stream",
     "text": [
      "CatBoost CV AUC: 0.7375\n"
     ]
    },
    {
     "name": "stderr",
     "output_type": "stream",
     "text": [
      "Default metric period is 5 because AUC is/are not implemented for GPU\n",
      "AUC is not implemented on GPU. Will use CPU for metric computation, this could significantly affect learning time\n",
      "[I 2024-10-18 11:11:35,245] Trial 65 finished with value: 0.7376793208651925 and parameters: {'cb_iterations': 1400, 'cb_learning_rate': 0.044804244180078334, 'cb_depth': 5, 'cb_l2_leaf_reg': 3, 'cb_bagging_temperature': 0.5948587455011135}. Best is trial 17 with value: 0.7412916301675958.\n"
     ]
    },
    {
     "name": "stdout",
     "output_type": "stream",
     "text": [
      "CatBoost CV AUC: 0.7377\n"
     ]
    },
    {
     "name": "stderr",
     "output_type": "stream",
     "text": [
      "Default metric period is 5 because AUC is/are not implemented for GPU\n",
      "AUC is not implemented on GPU. Will use CPU for metric computation, this could significantly affect learning time\n",
      "[I 2024-10-18 11:11:49,433] Trial 66 finished with value: 0.7381988094409089 and parameters: {'cb_iterations': 1232, 'cb_learning_rate': 0.020754884343143213, 'cb_depth': 6, 'cb_l2_leaf_reg': 2, 'cb_bagging_temperature': 0.5143733218696234}. Best is trial 17 with value: 0.7412916301675958.\n"
     ]
    },
    {
     "name": "stdout",
     "output_type": "stream",
     "text": [
      "CatBoost CV AUC: 0.7382\n"
     ]
    },
    {
     "name": "stderr",
     "output_type": "stream",
     "text": [
      "Default metric period is 5 because AUC is/are not implemented for GPU\n",
      "AUC is not implemented on GPU. Will use CPU for metric computation, this could significantly affect learning time\n",
      "[I 2024-10-18 11:11:55,018] Trial 67 finished with value: 0.7381034671828589 and parameters: {'cb_iterations': 511, 'cb_learning_rate': 0.06582138205180223, 'cb_depth': 5, 'cb_l2_leaf_reg': 1, 'cb_bagging_temperature': 0.6445765821234597}. Best is trial 17 with value: 0.7412916301675958.\n"
     ]
    },
    {
     "name": "stdout",
     "output_type": "stream",
     "text": [
      "CatBoost CV AUC: 0.7381\n"
     ]
    },
    {
     "name": "stderr",
     "output_type": "stream",
     "text": [
      "Default metric period is 5 because AUC is/are not implemented for GPU\n",
      "AUC is not implemented on GPU. Will use CPU for metric computation, this could significantly affect learning time\n",
      "[I 2024-10-18 11:12:14,473] Trial 68 finished with value: 0.7276977990869739 and parameters: {'cb_iterations': 1477, 'cb_learning_rate': 0.09217637979672577, 'cb_depth': 7, 'cb_l2_leaf_reg': 4, 'cb_bagging_temperature': 0.4646880024390933}. Best is trial 17 with value: 0.7412916301675958.\n"
     ]
    },
    {
     "name": "stdout",
     "output_type": "stream",
     "text": [
      "CatBoost CV AUC: 0.7277\n"
     ]
    },
    {
     "name": "stderr",
     "output_type": "stream",
     "text": [
      "Default metric period is 5 because AUC is/are not implemented for GPU\n",
      "AUC is not implemented on GPU. Will use CPU for metric computation, this could significantly affect learning time\n",
      "[I 2024-10-18 11:12:27,091] Trial 69 finished with value: 0.740604185921234 and parameters: {'cb_iterations': 1136, 'cb_learning_rate': 0.044504832792010104, 'cb_depth': 6, 'cb_l2_leaf_reg': 2, 'cb_bagging_temperature': 0.8104032801396259}. Best is trial 17 with value: 0.7412916301675958.\n"
     ]
    },
    {
     "name": "stdout",
     "output_type": "stream",
     "text": [
      "CatBoost CV AUC: 0.7406\n"
     ]
    },
    {
     "name": "stderr",
     "output_type": "stream",
     "text": [
      "Default metric period is 5 because AUC is/are not implemented for GPU\n",
      "AUC is not implemented on GPU. Will use CPU for metric computation, this could significantly affect learning time\n",
      "[I 2024-10-18 11:12:37,302] Trial 70 finished with value: 0.7392147380234373 and parameters: {'cb_iterations': 739, 'cb_learning_rate': 0.043095797645250136, 'cb_depth': 7, 'cb_l2_leaf_reg': 2, 'cb_bagging_temperature': 0.8751049423783829}. Best is trial 17 with value: 0.7412916301675958.\n"
     ]
    },
    {
     "name": "stdout",
     "output_type": "stream",
     "text": [
      "CatBoost CV AUC: 0.7392\n"
     ]
    },
    {
     "name": "stderr",
     "output_type": "stream",
     "text": [
      "Default metric period is 5 because AUC is/are not implemented for GPU\n",
      "AUC is not implemented on GPU. Will use CPU for metric computation, this could significantly affect learning time\n",
      "[I 2024-10-18 11:12:49,594] Trial 71 finished with value: 0.7380968847621884 and parameters: {'cb_iterations': 1097, 'cb_learning_rate': 0.05554879703843378, 'cb_depth': 6, 'cb_l2_leaf_reg': 1, 'cb_bagging_temperature': 0.7886422029701504}. Best is trial 17 with value: 0.7412916301675958.\n"
     ]
    },
    {
     "name": "stdout",
     "output_type": "stream",
     "text": [
      "CatBoost CV AUC: 0.7381\n"
     ]
    },
    {
     "name": "stderr",
     "output_type": "stream",
     "text": [
      "Default metric period is 5 because AUC is/are not implemented for GPU\n",
      "AUC is not implemented on GPU. Will use CPU for metric computation, this could significantly affect learning time\n",
      "[I 2024-10-18 11:13:02,580] Trial 72 finished with value: 0.7386708815704806 and parameters: {'cb_iterations': 1155, 'cb_learning_rate': 0.03440133188660139, 'cb_depth': 6, 'cb_l2_leaf_reg': 1, 'cb_bagging_temperature': 0.7367494508799444}. Best is trial 17 with value: 0.7412916301675958.\n"
     ]
    },
    {
     "name": "stdout",
     "output_type": "stream",
     "text": [
      "CatBoost CV AUC: 0.7387\n"
     ]
    },
    {
     "name": "stderr",
     "output_type": "stream",
     "text": [
      "Default metric period is 5 because AUC is/are not implemented for GPU\n",
      "AUC is not implemented on GPU. Will use CPU for metric computation, this could significantly affect learning time\n",
      "[I 2024-10-18 11:13:15,079] Trial 73 finished with value: 0.7283988677168066 and parameters: {'cb_iterations': 1166, 'cb_learning_rate': 0.01050042108712829, 'cb_depth': 5, 'cb_l2_leaf_reg': 1, 'cb_bagging_temperature': 0.8267280152527892}. Best is trial 17 with value: 0.7412916301675958.\n"
     ]
    },
    {
     "name": "stdout",
     "output_type": "stream",
     "text": [
      "CatBoost CV AUC: 0.7284\n"
     ]
    },
    {
     "name": "stderr",
     "output_type": "stream",
     "text": [
      "Default metric period is 5 because AUC is/are not implemented for GPU\n",
      "AUC is not implemented on GPU. Will use CPU for metric computation, this could significantly affect learning time\n",
      "[I 2024-10-18 11:13:33,128] Trial 74 finished with value: 0.7384736627749444 and parameters: {'cb_iterations': 1599, 'cb_learning_rate': 0.03014551469304435, 'cb_depth': 6, 'cb_l2_leaf_reg': 2, 'cb_bagging_temperature': 0.8925010160625405}. Best is trial 17 with value: 0.7412916301675958.\n"
     ]
    },
    {
     "name": "stdout",
     "output_type": "stream",
     "text": [
      "CatBoost CV AUC: 0.7385\n"
     ]
    },
    {
     "name": "stderr",
     "output_type": "stream",
     "text": [
      "Default metric period is 5 because AUC is/are not implemented for GPU\n",
      "AUC is not implemented on GPU. Will use CPU for metric computation, this could significantly affect learning time\n",
      "[I 2024-10-18 11:13:44,078] Trial 75 finished with value: 0.7356707675047847 and parameters: {'cb_iterations': 1035, 'cb_learning_rate': 0.04571072598598924, 'cb_depth': 5, 'cb_l2_leaf_reg': 3, 'cb_bagging_temperature': 0.3707187002312051}. Best is trial 17 with value: 0.7412916301675958.\n"
     ]
    },
    {
     "name": "stdout",
     "output_type": "stream",
     "text": [
      "CatBoost CV AUC: 0.7357\n"
     ]
    },
    {
     "name": "stderr",
     "output_type": "stream",
     "text": [
      "Default metric period is 5 because AUC is/are not implemented for GPU\n",
      "AUC is not implemented on GPU. Will use CPU for metric computation, this could significantly affect learning time\n",
      "[I 2024-10-18 11:13:58,916] Trial 76 finished with value: 0.7384147224963147 and parameters: {'cb_iterations': 1331, 'cb_learning_rate': 0.020144758463488448, 'cb_depth': 6, 'cb_l2_leaf_reg': 1, 'cb_bagging_temperature': 0.6125939071963343}. Best is trial 17 with value: 0.7412916301675958.\n"
     ]
    },
    {
     "name": "stdout",
     "output_type": "stream",
     "text": [
      "CatBoost CV AUC: 0.7384\n"
     ]
    },
    {
     "name": "stderr",
     "output_type": "stream",
     "text": [
      "Default metric period is 5 because AUC is/are not implemented for GPU\n",
      "AUC is not implemented on GPU. Will use CPU for metric computation, this could significantly affect learning time\n",
      "[I 2024-10-18 11:14:17,472] Trial 77 finished with value: 0.7384207766779249 and parameters: {'cb_iterations': 1391, 'cb_learning_rate': 0.06140362496417327, 'cb_depth': 7, 'cb_l2_leaf_reg': 6, 'cb_bagging_temperature': 0.6806995544923591}. Best is trial 17 with value: 0.7412916301675958.\n"
     ]
    },
    {
     "name": "stdout",
     "output_type": "stream",
     "text": [
      "CatBoost CV AUC: 0.7384\n"
     ]
    },
    {
     "name": "stderr",
     "output_type": "stream",
     "text": [
      "Default metric period is 5 because AUC is/are not implemented for GPU\n",
      "AUC is not implemented on GPU. Will use CPU for metric computation, this could significantly affect learning time\n",
      "[I 2024-10-18 11:14:29,152] Trial 78 finished with value: 0.7278520837560787 and parameters: {'cb_iterations': 1276, 'cb_learning_rate': 0.2904380016452107, 'cb_depth': 4, 'cb_l2_leaf_reg': 2, 'cb_bagging_temperature': 0.7993334262630869}. Best is trial 17 with value: 0.7412916301675958.\n"
     ]
    },
    {
     "name": "stdout",
     "output_type": "stream",
     "text": [
      "CatBoost CV AUC: 0.7279\n"
     ]
    },
    {
     "name": "stderr",
     "output_type": "stream",
     "text": [
      "Default metric period is 5 because AUC is/are not implemented for GPU\n",
      "AUC is not implemented on GPU. Will use CPU for metric computation, this could significantly affect learning time\n",
      "[I 2024-10-18 11:14:58,002] Trial 79 finished with value: 0.7336206604238613 and parameters: {'cb_iterations': 1664, 'cb_learning_rate': 0.07494626366987032, 'cb_depth': 8, 'cb_l2_leaf_reg': 5, 'cb_bagging_temperature': 0.7576462287352913}. Best is trial 17 with value: 0.7412916301675958.\n"
     ]
    },
    {
     "name": "stdout",
     "output_type": "stream",
     "text": [
      "CatBoost CV AUC: 0.7336\n"
     ]
    },
    {
     "name": "stderr",
     "output_type": "stream",
     "text": [
      "Default metric period is 5 because AUC is/are not implemented for GPU\n",
      "AUC is not implemented on GPU. Will use CPU for metric computation, this could significantly affect learning time\n",
      "[I 2024-10-18 11:15:52,352] Trial 80 finished with value: 0.7277116147590078 and parameters: {'cb_iterations': 1442, 'cb_learning_rate': 0.05093407955548955, 'cb_depth': 10, 'cb_l2_leaf_reg': 3, 'cb_bagging_temperature': 0.9254342766357392}. Best is trial 17 with value: 0.7412916301675958.\n"
     ]
    },
    {
     "name": "stdout",
     "output_type": "stream",
     "text": [
      "CatBoost CV AUC: 0.7277\n"
     ]
    },
    {
     "name": "stderr",
     "output_type": "stream",
     "text": [
      "Default metric period is 5 because AUC is/are not implemented for GPU\n",
      "AUC is not implemented on GPU. Will use CPU for metric computation, this could significantly affect learning time\n",
      "[I 2024-10-18 11:16:01,653] Trial 81 finished with value: 0.7364110414139398 and parameters: {'cb_iterations': 675, 'cb_learning_rate': 0.04370419959343005, 'cb_depth': 7, 'cb_l2_leaf_reg': 2, 'cb_bagging_temperature': 0.8519778070491474}. Best is trial 17 with value: 0.7412916301675958.\n"
     ]
    },
    {
     "name": "stdout",
     "output_type": "stream",
     "text": [
      "CatBoost CV AUC: 0.7364\n"
     ]
    },
    {
     "name": "stderr",
     "output_type": "stream",
     "text": [
      "Default metric period is 5 because AUC is/are not implemented for GPU\n",
      "AUC is not implemented on GPU. Will use CPU for metric computation, this could significantly affect learning time\n",
      "[I 2024-10-18 11:16:11,506] Trial 82 finished with value: 0.7401744635068407 and parameters: {'cb_iterations': 733, 'cb_learning_rate': 0.031235285200757485, 'cb_depth': 7, 'cb_l2_leaf_reg': 2, 'cb_bagging_temperature': 0.9719539545757405}. Best is trial 17 with value: 0.7412916301675958.\n"
     ]
    },
    {
     "name": "stdout",
     "output_type": "stream",
     "text": [
      "CatBoost CV AUC: 0.7402\n"
     ]
    },
    {
     "name": "stderr",
     "output_type": "stream",
     "text": [
      "Default metric period is 5 because AUC is/are not implemented for GPU\n",
      "AUC is not implemented on GPU. Will use CPU for metric computation, this could significantly affect learning time\n",
      "[I 2024-10-18 11:16:20,110] Trial 83 finished with value: 0.7368921156138517 and parameters: {'cb_iterations': 614, 'cb_learning_rate': 0.029728324388980158, 'cb_depth': 7, 'cb_l2_leaf_reg': 1, 'cb_bagging_temperature': 0.563964259245238}. Best is trial 17 with value: 0.7412916301675958.\n"
     ]
    },
    {
     "name": "stdout",
     "output_type": "stream",
     "text": [
      "CatBoost CV AUC: 0.7369\n"
     ]
    },
    {
     "name": "stderr",
     "output_type": "stream",
     "text": [
      "Default metric period is 5 because AUC is/are not implemented for GPU\n",
      "AUC is not implemented on GPU. Will use CPU for metric computation, this could significantly affect learning time\n",
      "[I 2024-10-18 11:16:32,866] Trial 84 finished with value: 0.7373656072392061 and parameters: {'cb_iterations': 726, 'cb_learning_rate': 0.01860138600539216, 'cb_depth': 8, 'cb_l2_leaf_reg': 1, 'cb_bagging_temperature': 0.6416599409056801}. Best is trial 17 with value: 0.7412916301675958.\n"
     ]
    },
    {
     "name": "stdout",
     "output_type": "stream",
     "text": [
      "CatBoost CV AUC: 0.7374\n"
     ]
    },
    {
     "name": "stderr",
     "output_type": "stream",
     "text": [
      "Default metric period is 5 because AUC is/are not implemented for GPU\n",
      "AUC is not implemented on GPU. Will use CPU for metric computation, this could significantly affect learning time\n",
      "[I 2024-10-18 11:16:42,535] Trial 85 finished with value: 0.7383406770995806 and parameters: {'cb_iterations': 836, 'cb_learning_rate': 0.037224940955902036, 'cb_depth': 6, 'cb_l2_leaf_reg': 2, 'cb_bagging_temperature': 0.9493132327268894}. Best is trial 17 with value: 0.7412916301675958.\n"
     ]
    },
    {
     "name": "stdout",
     "output_type": "stream",
     "text": [
      "CatBoost CV AUC: 0.7383\n"
     ]
    },
    {
     "name": "stderr",
     "output_type": "stream",
     "text": [
      "Default metric period is 5 because AUC is/are not implemented for GPU\n",
      "AUC is not implemented on GPU. Will use CPU for metric computation, this could significantly affect learning time\n",
      "[I 2024-10-18 11:16:58,613] Trial 86 finished with value: 0.7358214075101637 and parameters: {'cb_iterations': 1234, 'cb_learning_rate': 0.06694693520650269, 'cb_depth': 7, 'cb_l2_leaf_reg': 3, 'cb_bagging_temperature': 0.9656237916771355}. Best is trial 17 with value: 0.7412916301675958.\n"
     ]
    },
    {
     "name": "stdout",
     "output_type": "stream",
     "text": [
      "CatBoost CV AUC: 0.7358\n"
     ]
    },
    {
     "name": "stderr",
     "output_type": "stream",
     "text": [
      "Default metric period is 5 because AUC is/are not implemented for GPU\n",
      "AUC is not implemented on GPU. Will use CPU for metric computation, this could significantly affect learning time\n",
      "[I 2024-10-18 11:17:11,167] Trial 87 finished with value: 0.7380961679380788 and parameters: {'cb_iterations': 947, 'cb_learning_rate': 0.05557597541744011, 'cb_depth': 7, 'cb_l2_leaf_reg': 4, 'cb_bagging_temperature': 0.42939598469874446}. Best is trial 17 with value: 0.7412916301675958.\n"
     ]
    },
    {
     "name": "stdout",
     "output_type": "stream",
     "text": [
      "CatBoost CV AUC: 0.7381\n"
     ]
    },
    {
     "name": "stderr",
     "output_type": "stream",
     "text": [
      "Default metric period is 5 because AUC is/are not implemented for GPU\n",
      "AUC is not implemented on GPU. Will use CPU for metric computation, this could significantly affect learning time\n",
      "[I 2024-10-18 11:17:23,562] Trial 88 finished with value: 0.7310671020484992 and parameters: {'cb_iterations': 1108, 'cb_learning_rate': 0.21076375461132874, 'cb_depth': 6, 'cb_l2_leaf_reg': 7, 'cb_bagging_temperature': 0.9916554075827936}. Best is trial 17 with value: 0.7412916301675958.\n"
     ]
    },
    {
     "name": "stdout",
     "output_type": "stream",
     "text": [
      "CatBoost CV AUC: 0.7311\n"
     ]
    },
    {
     "name": "stderr",
     "output_type": "stream",
     "text": [
      "Default metric period is 5 because AUC is/are not implemented for GPU\n",
      "AUC is not implemented on GPU. Will use CPU for metric computation, this could significantly affect learning time\n",
      "[I 2024-10-18 11:17:40,978] Trial 89 finished with value: 0.7332098622102665 and parameters: {'cb_iterations': 1790, 'cb_learning_rate': 0.2599855031594948, 'cb_depth': 5, 'cb_l2_leaf_reg': 2, 'cb_bagging_temperature': 0.7034428913752102}. Best is trial 17 with value: 0.7412916301675958.\n"
     ]
    },
    {
     "name": "stdout",
     "output_type": "stream",
     "text": [
      "CatBoost CV AUC: 0.7332\n"
     ]
    },
    {
     "name": "stderr",
     "output_type": "stream",
     "text": [
      "Default metric period is 5 because AUC is/are not implemented for GPU\n",
      "AUC is not implemented on GPU. Will use CPU for metric computation, this could significantly affect learning time\n",
      "[I 2024-10-18 11:17:59,851] Trial 90 finished with value: 0.7386220515212687 and parameters: {'cb_iterations': 1506, 'cb_learning_rate': 0.08207552040684127, 'cb_depth': 7, 'cb_l2_leaf_reg': 1, 'cb_bagging_temperature': 0.4974751196601916}. Best is trial 17 with value: 0.7412916301675958.\n"
     ]
    },
    {
     "name": "stdout",
     "output_type": "stream",
     "text": [
      "CatBoost CV AUC: 0.7386\n"
     ]
    },
    {
     "name": "stderr",
     "output_type": "stream",
     "text": [
      "Default metric period is 5 because AUC is/are not implemented for GPU\n",
      "AUC is not implemented on GPU. Will use CPU for metric computation, this could significantly affect learning time\n",
      "[I 2024-10-18 11:18:09,507] Trial 91 finished with value: 0.7400800971984914 and parameters: {'cb_iterations': 725, 'cb_learning_rate': 0.04176894842633219, 'cb_depth': 7, 'cb_l2_leaf_reg': 2, 'cb_bagging_temperature': 0.8759859670727056}. Best is trial 17 with value: 0.7412916301675958.\n"
     ]
    },
    {
     "name": "stdout",
     "output_type": "stream",
     "text": [
      "CatBoost CV AUC: 0.7401\n"
     ]
    },
    {
     "name": "stderr",
     "output_type": "stream",
     "text": [
      "Default metric period is 5 because AUC is/are not implemented for GPU\n",
      "AUC is not implemented on GPU. Will use CPU for metric computation, this could significantly affect learning time\n",
      "[I 2024-10-18 11:18:17,084] Trial 92 finished with value: 0.7395402379221019 and parameters: {'cb_iterations': 573, 'cb_learning_rate': 0.03150445883852323, 'cb_depth': 7, 'cb_l2_leaf_reg': 2, 'cb_bagging_temperature': 0.902481064921444}. Best is trial 17 with value: 0.7412916301675958.\n"
     ]
    },
    {
     "name": "stdout",
     "output_type": "stream",
     "text": [
      "CatBoost CV AUC: 0.7395\n"
     ]
    },
    {
     "name": "stderr",
     "output_type": "stream",
     "text": [
      "Default metric period is 5 because AUC is/are not implemented for GPU\n",
      "AUC is not implemented on GPU. Will use CPU for metric computation, this could significantly affect learning time\n",
      "[I 2024-10-18 11:18:27,005] Trial 93 finished with value: 0.7400031924424788 and parameters: {'cb_iterations': 783, 'cb_learning_rate': 0.03898156507829308, 'cb_depth': 7, 'cb_l2_leaf_reg': 3, 'cb_bagging_temperature': 0.9107627837381903}. Best is trial 17 with value: 0.7412916301675958.\n"
     ]
    },
    {
     "name": "stdout",
     "output_type": "stream",
     "text": [
      "CatBoost CV AUC: 0.7400\n"
     ]
    },
    {
     "name": "stderr",
     "output_type": "stream",
     "text": [
      "Default metric period is 5 because AUC is/are not implemented for GPU\n",
      "AUC is not implemented on GPU. Will use CPU for metric computation, this could significantly affect learning time\n",
      "[I 2024-10-18 11:18:35,176] Trial 94 finished with value: 0.7369357469379626 and parameters: {'cb_iterations': 620, 'cb_learning_rate': 0.041553170891862445, 'cb_depth': 7, 'cb_l2_leaf_reg': 3, 'cb_bagging_temperature': 0.9185314167449816}. Best is trial 17 with value: 0.7412916301675958.\n"
     ]
    },
    {
     "name": "stdout",
     "output_type": "stream",
     "text": [
      "CatBoost CV AUC: 0.7369\n"
     ]
    },
    {
     "name": "stderr",
     "output_type": "stream",
     "text": [
      "Default metric period is 5 because AUC is/are not implemented for GPU\n",
      "AUC is not implemented on GPU. Will use CPU for metric computation, this could significantly affect learning time\n",
      "[I 2024-10-18 11:18:45,197] Trial 95 finished with value: 0.7343544612171338 and parameters: {'cb_iterations': 555, 'cb_learning_rate': 0.024042302862543125, 'cb_depth': 8, 'cb_l2_leaf_reg': 2, 'cb_bagging_temperature': 0.8887405543122058}. Best is trial 17 with value: 0.7412916301675958.\n"
     ]
    },
    {
     "name": "stdout",
     "output_type": "stream",
     "text": [
      "CatBoost CV AUC: 0.7344\n"
     ]
    },
    {
     "name": "stderr",
     "output_type": "stream",
     "text": [
      "Default metric period is 5 because AUC is/are not implemented for GPU\n",
      "AUC is not implemented on GPU. Will use CPU for metric computation, this could significantly affect learning time\n",
      "[I 2024-10-18 11:18:55,854] Trial 96 finished with value: 0.7375508239927809 and parameters: {'cb_iterations': 785, 'cb_learning_rate': 0.052178238547773224, 'cb_depth': 7, 'cb_l2_leaf_reg': 3, 'cb_bagging_temperature': 0.9707253771162447}. Best is trial 17 with value: 0.7412916301675958.\n"
     ]
    },
    {
     "name": "stdout",
     "output_type": "stream",
     "text": [
      "CatBoost CV AUC: 0.7376\n"
     ]
    },
    {
     "name": "stderr",
     "output_type": "stream",
     "text": [
      "Default metric period is 5 because AUC is/are not implemented for GPU\n",
      "AUC is not implemented on GPU. Will use CPU for metric computation, this could significantly affect learning time\n",
      "[I 2024-10-18 11:19:05,577] Trial 97 finished with value: 0.7363682487076267 and parameters: {'cb_iterations': 716, 'cb_learning_rate': 0.061516234751220374, 'cb_depth': 7, 'cb_l2_leaf_reg': 2, 'cb_bagging_temperature': 0.8612184671815084}. Best is trial 17 with value: 0.7412916301675958.\n"
     ]
    },
    {
     "name": "stdout",
     "output_type": "stream",
     "text": [
      "CatBoost CV AUC: 0.7364\n"
     ]
    },
    {
     "name": "stderr",
     "output_type": "stream",
     "text": [
      "Default metric period is 5 because AUC is/are not implemented for GPU\n",
      "AUC is not implemented on GPU. Will use CPU for metric computation, this could significantly affect learning time\n",
      "[I 2024-10-18 11:19:15,056] Trial 98 finished with value: 0.7340927196390432 and parameters: {'cb_iterations': 697, 'cb_learning_rate': 0.015016236095795759, 'cb_depth': 7, 'cb_l2_leaf_reg': 2, 'cb_bagging_temperature': 0.8327958685130267}. Best is trial 17 with value: 0.7412916301675958.\n"
     ]
    },
    {
     "name": "stdout",
     "output_type": "stream",
     "text": [
      "CatBoost CV AUC: 0.7341\n"
     ]
    },
    {
     "name": "stderr",
     "output_type": "stream",
     "text": [
      "Default metric period is 5 because AUC is/are not implemented for GPU\n",
      "AUC is not implemented on GPU. Will use CPU for metric computation, this could significantly affect learning time\n",
      "[I 2024-10-18 11:19:28,309] Trial 99 finished with value: 0.7371149700684054 and parameters: {'cb_iterations': 769, 'cb_learning_rate': 0.0406843257958953, 'cb_depth': 8, 'cb_l2_leaf_reg': 3, 'cb_bagging_temperature': 0.9027674799702347}. Best is trial 17 with value: 0.7412916301675958.\n"
     ]
    },
    {
     "name": "stdout",
     "output_type": "stream",
     "text": [
      "CatBoost CV AUC: 0.7371\n"
     ]
    }
   ],
   "source": [
    "# kf = StratifiedKFold(n_splits = 5, shuffle = True, random_state = seed)\n",
    "study = optuna.create_study(direction = 'maximize', sampler = TPESampler(seed = seed))\n",
    "study.optimize(objective, n_trials = 100, timeout = 3600)"
   ]
  },
  {
   "cell_type": "code",
   "execution_count": 28,
   "metadata": {},
   "outputs": [
    {
     "name": "stdout",
     "output_type": "stream",
     "text": [
      "Best Hyperparameters:\n",
      "cb_iterations: 1994\n",
      "cb_learning_rate: 0.05512136098646711\n",
      "cb_depth: 6\n",
      "cb_l2_leaf_reg: 1\n",
      "cb_bagging_temperature: 0.7439509852521109\n"
     ]
    }
   ],
   "source": [
    "best_params = study.best_params\n",
    "print(\"Best Hyperparameters:\")\n",
    "for key, value in best_params.items():\n",
    "    print(f\"{key}: {value}\")"
   ]
  },
  {
   "cell_type": "code",
   "execution_count": 23,
   "metadata": {},
   "outputs": [
    {
     "name": "stderr",
     "output_type": "stream",
     "text": [
      "Default metric period is 5 because AUC is/are not implemented for GPU\n",
      "AUC is not implemented on GPU. Will use CPU for metric computation, this could significantly affect learning time\n"
     ]
    },
    {
     "name": "stdout",
     "output_type": "stream",
     "text": [
      "Fold 1 - AUC: 0.7313\n",
      "\n",
      "              precision    recall  f1-score   support\n",
      "\n",
      "           0       0.68      0.99      0.81      6797\n",
      "           1       0.35      0.01      0.01      2081\n",
      "           2       0.45      0.09      0.14       633\n",
      "           3       0.00      0.00      0.00        56\n",
      "           4       0.33      0.00      0.01       433\n",
      "\n",
      "    accuracy                           0.68     10000\n",
      "   macro avg       0.36      0.22      0.19     10000\n",
      "weighted avg       0.58      0.68      0.56     10000\n",
      "\n",
      "----------------------------------------------\n",
      "\n"
     ]
    },
    {
     "name": "stderr",
     "output_type": "stream",
     "text": [
      "c:\\Users\\citioplab\\works\\codes\\plant\\plant_venv\\Lib\\site-packages\\sklearn\\metrics\\_classification.py:1531: UndefinedMetricWarning: Precision is ill-defined and being set to 0.0 in labels with no predicted samples. Use `zero_division` parameter to control this behavior.\n",
      "  _warn_prf(average, modifier, f\"{metric.capitalize()} is\", len(result))\n",
      "c:\\Users\\citioplab\\works\\codes\\plant\\plant_venv\\Lib\\site-packages\\sklearn\\metrics\\_classification.py:1531: UndefinedMetricWarning: Precision is ill-defined and being set to 0.0 in labels with no predicted samples. Use `zero_division` parameter to control this behavior.\n",
      "  _warn_prf(average, modifier, f\"{metric.capitalize()} is\", len(result))\n",
      "c:\\Users\\citioplab\\works\\codes\\plant\\plant_venv\\Lib\\site-packages\\sklearn\\metrics\\_classification.py:1531: UndefinedMetricWarning: Precision is ill-defined and being set to 0.0 in labels with no predicted samples. Use `zero_division` parameter to control this behavior.\n",
      "  _warn_prf(average, modifier, f\"{metric.capitalize()} is\", len(result))\n",
      "Default metric period is 5 because AUC is/are not implemented for GPU\n",
      "AUC is not implemented on GPU. Will use CPU for metric computation, this could significantly affect learning time\n"
     ]
    },
    {
     "name": "stdout",
     "output_type": "stream",
     "text": [
      "Fold 2 - AUC: 0.7510\n",
      "\n",
      "              precision    recall  f1-score   support\n",
      "\n",
      "           0       0.69      0.99      0.81      6796\n",
      "           1       0.62      0.00      0.01      2082\n",
      "           2       0.53      0.10      0.16       632\n",
      "           3       0.00      0.00      0.00        56\n",
      "           4       0.67      0.00      0.01       434\n",
      "\n",
      "    accuracy                           0.68     10000\n",
      "   macro avg       0.50      0.22      0.20     10000\n",
      "weighted avg       0.66      0.68      0.56     10000\n",
      "\n",
      "----------------------------------------------\n",
      "\n"
     ]
    },
    {
     "name": "stderr",
     "output_type": "stream",
     "text": [
      "c:\\Users\\citioplab\\works\\codes\\plant\\plant_venv\\Lib\\site-packages\\sklearn\\metrics\\_classification.py:1531: UndefinedMetricWarning: Precision is ill-defined and being set to 0.0 in labels with no predicted samples. Use `zero_division` parameter to control this behavior.\n",
      "  _warn_prf(average, modifier, f\"{metric.capitalize()} is\", len(result))\n",
      "c:\\Users\\citioplab\\works\\codes\\plant\\plant_venv\\Lib\\site-packages\\sklearn\\metrics\\_classification.py:1531: UndefinedMetricWarning: Precision is ill-defined and being set to 0.0 in labels with no predicted samples. Use `zero_division` parameter to control this behavior.\n",
      "  _warn_prf(average, modifier, f\"{metric.capitalize()} is\", len(result))\n",
      "c:\\Users\\citioplab\\works\\codes\\plant\\plant_venv\\Lib\\site-packages\\sklearn\\metrics\\_classification.py:1531: UndefinedMetricWarning: Precision is ill-defined and being set to 0.0 in labels with no predicted samples. Use `zero_division` parameter to control this behavior.\n",
      "  _warn_prf(average, modifier, f\"{metric.capitalize()} is\", len(result))\n",
      "Default metric period is 5 because AUC is/are not implemented for GPU\n",
      "AUC is not implemented on GPU. Will use CPU for metric computation, this could significantly affect learning time\n"
     ]
    },
    {
     "name": "stdout",
     "output_type": "stream",
     "text": [
      "Fold 3 - AUC: 0.7351\n",
      "\n",
      "              precision    recall  f1-score   support\n",
      "\n",
      "           0       0.68      0.99      0.81      6796\n",
      "           1       0.48      0.01      0.01      2082\n",
      "           2       0.41      0.07      0.12       632\n",
      "           3       0.00      0.00      0.00        57\n",
      "           4       0.00      0.00      0.00       433\n",
      "\n",
      "    accuracy                           0.68     10000\n",
      "   macro avg       0.32      0.21      0.19     10000\n",
      "weighted avg       0.59      0.68      0.56     10000\n",
      "\n",
      "----------------------------------------------\n",
      "\n"
     ]
    },
    {
     "name": "stderr",
     "output_type": "stream",
     "text": [
      "c:\\Users\\citioplab\\works\\codes\\plant\\plant_venv\\Lib\\site-packages\\sklearn\\metrics\\_classification.py:1531: UndefinedMetricWarning: Precision is ill-defined and being set to 0.0 in labels with no predicted samples. Use `zero_division` parameter to control this behavior.\n",
      "  _warn_prf(average, modifier, f\"{metric.capitalize()} is\", len(result))\n",
      "c:\\Users\\citioplab\\works\\codes\\plant\\plant_venv\\Lib\\site-packages\\sklearn\\metrics\\_classification.py:1531: UndefinedMetricWarning: Precision is ill-defined and being set to 0.0 in labels with no predicted samples. Use `zero_division` parameter to control this behavior.\n",
      "  _warn_prf(average, modifier, f\"{metric.capitalize()} is\", len(result))\n",
      "c:\\Users\\citioplab\\works\\codes\\plant\\plant_venv\\Lib\\site-packages\\sklearn\\metrics\\_classification.py:1531: UndefinedMetricWarning: Precision is ill-defined and being set to 0.0 in labels with no predicted samples. Use `zero_division` parameter to control this behavior.\n",
      "  _warn_prf(average, modifier, f\"{metric.capitalize()} is\", len(result))\n",
      "Default metric period is 5 because AUC is/are not implemented for GPU\n",
      "AUC is not implemented on GPU. Will use CPU for metric computation, this could significantly affect learning time\n"
     ]
    },
    {
     "name": "stdout",
     "output_type": "stream",
     "text": [
      "Fold 4 - AUC: 0.7261\n",
      "\n",
      "              precision    recall  f1-score   support\n",
      "\n",
      "           0       0.68      0.99      0.81      6796\n",
      "           1       0.50      0.00      0.01      2082\n",
      "           2       0.43      0.08      0.13       632\n",
      "           3       0.00      0.00      0.00        57\n",
      "           4       0.00      0.00      0.00       433\n",
      "\n",
      "    accuracy                           0.68     10000\n",
      "   macro avg       0.32      0.21      0.19     10000\n",
      "weighted avg       0.60      0.68      0.56     10000\n",
      "\n",
      "----------------------------------------------\n",
      "\n"
     ]
    },
    {
     "name": "stderr",
     "output_type": "stream",
     "text": [
      "c:\\Users\\citioplab\\works\\codes\\plant\\plant_venv\\Lib\\site-packages\\sklearn\\metrics\\_classification.py:1531: UndefinedMetricWarning: Precision is ill-defined and being set to 0.0 in labels with no predicted samples. Use `zero_division` parameter to control this behavior.\n",
      "  _warn_prf(average, modifier, f\"{metric.capitalize()} is\", len(result))\n",
      "c:\\Users\\citioplab\\works\\codes\\plant\\plant_venv\\Lib\\site-packages\\sklearn\\metrics\\_classification.py:1531: UndefinedMetricWarning: Precision is ill-defined and being set to 0.0 in labels with no predicted samples. Use `zero_division` parameter to control this behavior.\n",
      "  _warn_prf(average, modifier, f\"{metric.capitalize()} is\", len(result))\n",
      "c:\\Users\\citioplab\\works\\codes\\plant\\plant_venv\\Lib\\site-packages\\sklearn\\metrics\\_classification.py:1531: UndefinedMetricWarning: Precision is ill-defined and being set to 0.0 in labels with no predicted samples. Use `zero_division` parameter to control this behavior.\n",
      "  _warn_prf(average, modifier, f\"{metric.capitalize()} is\", len(result))\n",
      "Default metric period is 5 because AUC is/are not implemented for GPU\n",
      "AUC is not implemented on GPU. Will use CPU for metric computation, this could significantly affect learning time\n"
     ]
    },
    {
     "name": "stdout",
     "output_type": "stream",
     "text": [
      "Fold 5 - AUC: 0.7406\n",
      "\n",
      "              precision    recall  f1-score   support\n",
      "\n",
      "           0       0.68      0.99      0.81      6796\n",
      "           1       0.40      0.00      0.01      2081\n",
      "           2       0.42      0.06      0.10       633\n",
      "           3       0.00      0.00      0.00        57\n",
      "           4       0.33      0.00      0.00       433\n",
      "\n",
      "    accuracy                           0.68     10000\n",
      "   macro avg       0.37      0.21      0.19     10000\n",
      "weighted avg       0.59      0.68      0.56     10000\n",
      "\n",
      "----------------------------------------------\n",
      "\n"
     ]
    },
    {
     "name": "stderr",
     "output_type": "stream",
     "text": [
      "c:\\Users\\citioplab\\works\\codes\\plant\\plant_venv\\Lib\\site-packages\\sklearn\\metrics\\_classification.py:1531: UndefinedMetricWarning: Precision is ill-defined and being set to 0.0 in labels with no predicted samples. Use `zero_division` parameter to control this behavior.\n",
      "  _warn_prf(average, modifier, f\"{metric.capitalize()} is\", len(result))\n",
      "c:\\Users\\citioplab\\works\\codes\\plant\\plant_venv\\Lib\\site-packages\\sklearn\\metrics\\_classification.py:1531: UndefinedMetricWarning: Precision is ill-defined and being set to 0.0 in labels with no predicted samples. Use `zero_division` parameter to control this behavior.\n",
      "  _warn_prf(average, modifier, f\"{metric.capitalize()} is\", len(result))\n",
      "c:\\Users\\citioplab\\works\\codes\\plant\\plant_venv\\Lib\\site-packages\\sklearn\\metrics\\_classification.py:1531: UndefinedMetricWarning: Precision is ill-defined and being set to 0.0 in labels with no predicted samples. Use `zero_division` parameter to control this behavior.\n",
      "  _warn_prf(average, modifier, f\"{metric.capitalize()} is\", len(result))\n"
     ]
    }
   ],
   "source": [
    "kf = StratifiedKFold(n_splits = 5, shuffle = True, random_state = seed)\n",
    "model_path = './saved_models/catboost_best_params/'\n",
    "cb_model = cb.CatBoostClassifier(iterations = 1994, learning_rate = 0.05512136098646711, depth = 6, l2_leaf_reg = 1, bagging_temperature = 0.7439509852521109, random_state = seed, eval_metric = 'AUC', verbose = False, cat_features = cat_features, task_type = \"GPU\")\n",
    "custom_cross_validate_v1(cb_model, X, y, kf, model_path)"
   ]
  },
  {
   "cell_type": "code",
   "execution_count": 24,
   "metadata": {},
   "outputs": [],
   "source": [
    "model_path = './saved_models/catboost_best_params/'\n",
    "total_fold_preds = []\n",
    "\n",
    "for i in range(1, 6):\n",
    "    fold_path = model_path + f'fold{i}.pkl'\n",
    "    fold_model = joblib.load(fold_path)\n",
    "    fold_preds = fold_model.predict_proba(test.drop(['uid'], axis = 1))\n",
    "    total_fold_preds.append(fold_preds)\n",
    "\n",
    "total_fold_preds = np.array(total_fold_preds)"
   ]
  },
  {
   "cell_type": "code",
   "execution_count": 25,
   "metadata": {},
   "outputs": [
    {
     "data": {
      "text/plain": [
       "(5, 14220, 5)"
      ]
     },
     "execution_count": 25,
     "metadata": {},
     "output_type": "execute_result"
    }
   ],
   "source": [
    "total_fold_preds.shape"
   ]
  },
  {
   "cell_type": "code",
   "execution_count": 26,
   "metadata": {},
   "outputs": [],
   "source": [
    "final_preds = np.mean(total_fold_preds, axis = 0)"
   ]
  },
  {
   "cell_type": "code",
   "execution_count": 27,
   "metadata": {},
   "outputs": [],
   "source": [
    "submission = pd.DataFrame({\n",
    "    'uid': test['uid'],\n",
    "    'out': final_preds[:, 0],\n",
    "    'single': final_preds[:, 1],\n",
    "    'double': final_preds[:, 2],\n",
    "    'triple': final_preds[:, 3],\n",
    "    'home_run': final_preds[:, 4]\n",
    "})"
   ]
  },
  {
   "cell_type": "code",
   "execution_count": 28,
   "metadata": {},
   "outputs": [],
   "source": [
    "submission.to_csv('./submissions/tenth_attempt.csv', index = False)"
   ]
  },
  {
   "cell_type": "markdown",
   "metadata": {},
   "source": [
    "### Stacking Ensemble"
   ]
  },
  {
   "cell_type": "code",
   "execution_count": 35,
   "metadata": {},
   "outputs": [],
   "source": [
    "def dnn_inference(model_path, val_loader):\n",
    "    total_outputs = np.array([])\n",
    "    dnn_fold_model = copy.deepcopy(DNN_model)\n",
    "    dnn_fold_model.load_state_dict(torch.load(model_path))\n",
    "    dnn_fold_model.to(device)\n",
    "    dnn_fold_model.eval()\n",
    "\n",
    "    with torch.no_grad():\n",
    "        for batch in tqdm(val_loader):\n",
    "            output = dnn_fold_model(batch['data'][0].to(device), batch['data'][1].to(device))\n",
    "            # total_targets = np.append(total_targets, batch['target'])\n",
    "            total_outputs = np.append(total_outputs, output.data.cpu().numpy().flatten())\n",
    "    \n",
    "    total_outputs = total_outputs.reshape(-1, 5)\n",
    "    total_outputs = softmax(total_outputs, axis = 1)\n",
    "\n",
    "    return total_outputs"
   ]
  },
  {
   "cell_type": "code",
   "execution_count": 36,
   "metadata": {},
   "outputs": [],
   "source": [
    "def custom_cross_validate_v4(meta_model, X, y, cv, meta_model_path, catboost_model_path, dnn_model_path):\n",
    "\n",
    "    for fold, (train_idx, val_idx) in enumerate(cv.split(X, y)):\n",
    "        meta_fold_model = clone(meta_model)\n",
    "\n",
    "        X_train, X_val = X.iloc[train_idx], X.iloc[val_idx]\n",
    "        X_train_torch, X_val_torch = X_torch.iloc[train_idx], X_torch.iloc[val_idx]\n",
    "        X_train_torch = X_train_torch.reset_index(drop = True)\n",
    "        X_val_torch = X_val_torch.reset_index(drop = True)\n",
    "        y_train, y_val = y.iloc[train_idx], y.iloc[val_idx]\n",
    "\n",
    "        # DNN\n",
    "        train_dataset = ClassificationDataset(X_train_torch, labels = None, cat_cols_idx = cat_features, cont_cols_idx = cont_features, is_train = False)\n",
    "        train_loader = torch.utils.data.DataLoader(train_dataset, batch_size = batch_size, pin_memory = True, drop_last = False, shuffle = False)\n",
    "        val_dataset = ClassificationDataset(X_val_torch, labels = None, cat_cols_idx = cat_features, cont_cols_idx = cont_features, is_train = False)\n",
    "        val_loader = torch.utils.data.DataLoader(val_dataset, batch_size = batch_size, pin_memory = True, drop_last = False, shuffle = False)\n",
    "        dnn_fold_path = dnn_model_path + f'fold{fold + 1}.pt'\n",
    "\n",
    "        dnn_train_outputs = dnn_inference(dnn_fold_path, train_loader)\n",
    "\n",
    "        # Catboost\n",
    "        catboost_fold_path = catboost_model_path + f'fold{fold + 1}.pkl'\n",
    "        catboost_fold_model = joblib.load(catboost_fold_path)\n",
    "\n",
    "        catboost_train_outputs = catboost_fold_model.predict_proba(X_train)\n",
    "\n",
    "        meta_train_features = np.column_stack([dnn_train_outputs, catboost_train_outputs])\n",
    "        \n",
    "        meta_fold_model.fit(meta_train_features, y_train)\n",
    "        \n",
    "        dnn_val_outputs = dnn_inference(dnn_fold_path, val_loader)\n",
    "        catboost_val_outputs = catboost_fold_model.predict_proba(X_val)\n",
    "        meta_val_features = np.column_stack([dnn_val_outputs, catboost_val_outputs])\n",
    "\n",
    "        # Predict probabilities for the validation set\n",
    "        y_preds = meta_fold_model.predict(meta_val_features)\n",
    "        y_preds_prob = meta_fold_model.predict_proba(meta_val_features)\n",
    "        \n",
    "        # Calculate and print AUC for the current fold\n",
    "        auc_score = roc_auc_score(y_val, y_preds_prob, multi_class = 'ovr')\n",
    "        print(f\"Fold {fold + 1} - AUC: {auc_score:.4f}\\n\")\n",
    "        print(classification_report(y_val, y_preds))\n",
    "        print('----------------------------------------------\\n')\n",
    "\n",
    "        joblib.dump(meta_fold_model, meta_model_path + f'fold{fold + 1}.pkl')"
   ]
  },
  {
   "cell_type": "code",
   "execution_count": 45,
   "metadata": {},
   "outputs": [],
   "source": [
    "kf = StratifiedKFold(n_splits = 5, shuffle = True, random_state = seed)\n",
    "catboost_model_path = './saved_models/catboost_best_params/'\n",
    "DNN_model_path = './saved_models/DNN/'\n",
    "DNN_model = ClassificationEmbdNN(cat_dim, no_of_cont = len(cont_features))\n",
    "meta_model_path = './saved_models/meta_model/'\n",
    "meta_model = LogisticRegression(multi_class = 'ovr', solver = 'lbfgs')"
   ]
  },
  {
   "cell_type": "code",
   "execution_count": 46,
   "metadata": {},
   "outputs": [
    {
     "data": {
      "application/vnd.jupyter.widget-view+json": {
       "model_id": "60f49ef200f743d5bc2f30e14951f36a",
       "version_major": 2,
       "version_minor": 0
      },
      "text/plain": [
       "  0%|          | 0/40 [00:00<?, ?it/s]"
      ]
     },
     "metadata": {},
     "output_type": "display_data"
    },
    {
     "name": "stderr",
     "output_type": "stream",
     "text": [
      "c:\\Users\\citioplab\\works\\codes\\plant\\plant_venv\\Lib\\site-packages\\sklearn\\linear_model\\_logistic.py:1256: FutureWarning: 'multi_class' was deprecated in version 1.5 and will be removed in 1.7. Use OneVsRestClassifier(LogisticRegression(..)) instead. Leave it to its default value to avoid this warning.\n",
      "  warnings.warn(\n"
     ]
    },
    {
     "data": {
      "application/vnd.jupyter.widget-view+json": {
       "model_id": "80d0833f4ce34374997bb70f5e887ef4",
       "version_major": 2,
       "version_minor": 0
      },
      "text/plain": [
       "  0%|          | 0/10 [00:00<?, ?it/s]"
      ]
     },
     "metadata": {},
     "output_type": "display_data"
    },
    {
     "name": "stdout",
     "output_type": "stream",
     "text": [
      "Fold 1 - AUC: 0.7348\n",
      "\n",
      "              precision    recall  f1-score   support\n",
      "\n",
      "           0       0.71      0.89      0.79      6797\n",
      "           1       0.35      0.18      0.23      2081\n",
      "           2       0.39      0.17      0.24       633\n",
      "           3       0.00      0.00      0.00        56\n",
      "           4       0.25      0.08      0.12       433\n",
      "\n",
      "    accuracy                           0.66     10000\n",
      "   macro avg       0.34      0.26      0.28     10000\n",
      "weighted avg       0.59      0.66      0.60     10000\n",
      "\n",
      "----------------------------------------------\n",
      "\n"
     ]
    },
    {
     "name": "stderr",
     "output_type": "stream",
     "text": [
      "c:\\Users\\citioplab\\works\\codes\\plant\\plant_venv\\Lib\\site-packages\\sklearn\\metrics\\_classification.py:1531: UndefinedMetricWarning: Precision is ill-defined and being set to 0.0 in labels with no predicted samples. Use `zero_division` parameter to control this behavior.\n",
      "  _warn_prf(average, modifier, f\"{metric.capitalize()} is\", len(result))\n",
      "c:\\Users\\citioplab\\works\\codes\\plant\\plant_venv\\Lib\\site-packages\\sklearn\\metrics\\_classification.py:1531: UndefinedMetricWarning: Precision is ill-defined and being set to 0.0 in labels with no predicted samples. Use `zero_division` parameter to control this behavior.\n",
      "  _warn_prf(average, modifier, f\"{metric.capitalize()} is\", len(result))\n",
      "c:\\Users\\citioplab\\works\\codes\\plant\\plant_venv\\Lib\\site-packages\\sklearn\\metrics\\_classification.py:1531: UndefinedMetricWarning: Precision is ill-defined and being set to 0.0 in labels with no predicted samples. Use `zero_division` parameter to control this behavior.\n",
      "  _warn_prf(average, modifier, f\"{metric.capitalize()} is\", len(result))\n"
     ]
    },
    {
     "data": {
      "application/vnd.jupyter.widget-view+json": {
       "model_id": "68f94b5a889244d298ed4a31dd30563b",
       "version_major": 2,
       "version_minor": 0
      },
      "text/plain": [
       "  0%|          | 0/40 [00:00<?, ?it/s]"
      ]
     },
     "metadata": {},
     "output_type": "display_data"
    },
    {
     "name": "stderr",
     "output_type": "stream",
     "text": [
      "c:\\Users\\citioplab\\works\\codes\\plant\\plant_venv\\Lib\\site-packages\\sklearn\\linear_model\\_logistic.py:1256: FutureWarning: 'multi_class' was deprecated in version 1.5 and will be removed in 1.7. Use OneVsRestClassifier(LogisticRegression(..)) instead. Leave it to its default value to avoid this warning.\n",
      "  warnings.warn(\n"
     ]
    },
    {
     "data": {
      "application/vnd.jupyter.widget-view+json": {
       "model_id": "ec5f784b4d2b4077b5ff40cd03a78cf8",
       "version_major": 2,
       "version_minor": 0
      },
      "text/plain": [
       "  0%|          | 0/10 [00:00<?, ?it/s]"
      ]
     },
     "metadata": {},
     "output_type": "display_data"
    },
    {
     "name": "stdout",
     "output_type": "stream",
     "text": [
      "Fold 2 - AUC: 0.7372\n",
      "\n",
      "              precision    recall  f1-score   support\n",
      "\n",
      "           0       0.70      0.92      0.80      6796\n",
      "           1       0.40      0.14      0.21      2082\n",
      "           2       0.41      0.16      0.23       632\n",
      "           3       0.00      0.00      0.00        56\n",
      "           4       0.31      0.06      0.11       434\n",
      "\n",
      "    accuracy                           0.67     10000\n",
      "   macro avg       0.37      0.26      0.27     10000\n",
      "weighted avg       0.60      0.67      0.61     10000\n",
      "\n",
      "----------------------------------------------\n",
      "\n"
     ]
    },
    {
     "name": "stderr",
     "output_type": "stream",
     "text": [
      "c:\\Users\\citioplab\\works\\codes\\plant\\plant_venv\\Lib\\site-packages\\sklearn\\metrics\\_classification.py:1531: UndefinedMetricWarning: Precision is ill-defined and being set to 0.0 in labels with no predicted samples. Use `zero_division` parameter to control this behavior.\n",
      "  _warn_prf(average, modifier, f\"{metric.capitalize()} is\", len(result))\n",
      "c:\\Users\\citioplab\\works\\codes\\plant\\plant_venv\\Lib\\site-packages\\sklearn\\metrics\\_classification.py:1531: UndefinedMetricWarning: Precision is ill-defined and being set to 0.0 in labels with no predicted samples. Use `zero_division` parameter to control this behavior.\n",
      "  _warn_prf(average, modifier, f\"{metric.capitalize()} is\", len(result))\n",
      "c:\\Users\\citioplab\\works\\codes\\plant\\plant_venv\\Lib\\site-packages\\sklearn\\metrics\\_classification.py:1531: UndefinedMetricWarning: Precision is ill-defined and being set to 0.0 in labels with no predicted samples. Use `zero_division` parameter to control this behavior.\n",
      "  _warn_prf(average, modifier, f\"{metric.capitalize()} is\", len(result))\n"
     ]
    },
    {
     "data": {
      "application/vnd.jupyter.widget-view+json": {
       "model_id": "fc4e01308360458fae2fdda61294c772",
       "version_major": 2,
       "version_minor": 0
      },
      "text/plain": [
       "  0%|          | 0/40 [00:00<?, ?it/s]"
      ]
     },
     "metadata": {},
     "output_type": "display_data"
    },
    {
     "name": "stderr",
     "output_type": "stream",
     "text": [
      "c:\\Users\\citioplab\\works\\codes\\plant\\plant_venv\\Lib\\site-packages\\sklearn\\linear_model\\_logistic.py:1256: FutureWarning: 'multi_class' was deprecated in version 1.5 and will be removed in 1.7. Use OneVsRestClassifier(LogisticRegression(..)) instead. Leave it to its default value to avoid this warning.\n",
      "  warnings.warn(\n"
     ]
    },
    {
     "data": {
      "application/vnd.jupyter.widget-view+json": {
       "model_id": "8d3e4466053049188b7b569b90b1e42b",
       "version_major": 2,
       "version_minor": 0
      },
      "text/plain": [
       "  0%|          | 0/10 [00:00<?, ?it/s]"
      ]
     },
     "metadata": {},
     "output_type": "display_data"
    },
    {
     "name": "stdout",
     "output_type": "stream",
     "text": [
      "Fold 3 - AUC: 0.7244\n",
      "\n",
      "              precision    recall  f1-score   support\n",
      "\n",
      "           0       0.71      0.91      0.80      6796\n",
      "           1       0.39      0.16      0.22      2082\n",
      "           2       0.36      0.16      0.22       632\n",
      "           3       0.00      0.00      0.00        57\n",
      "           4       0.24      0.07      0.10       433\n",
      "\n",
      "    accuracy                           0.67     10000\n",
      "   macro avg       0.34      0.26      0.27     10000\n",
      "weighted avg       0.60      0.67      0.61     10000\n",
      "\n",
      "----------------------------------------------\n",
      "\n"
     ]
    },
    {
     "name": "stderr",
     "output_type": "stream",
     "text": [
      "c:\\Users\\citioplab\\works\\codes\\plant\\plant_venv\\Lib\\site-packages\\sklearn\\metrics\\_classification.py:1531: UndefinedMetricWarning: Precision is ill-defined and being set to 0.0 in labels with no predicted samples. Use `zero_division` parameter to control this behavior.\n",
      "  _warn_prf(average, modifier, f\"{metric.capitalize()} is\", len(result))\n",
      "c:\\Users\\citioplab\\works\\codes\\plant\\plant_venv\\Lib\\site-packages\\sklearn\\metrics\\_classification.py:1531: UndefinedMetricWarning: Precision is ill-defined and being set to 0.0 in labels with no predicted samples. Use `zero_division` parameter to control this behavior.\n",
      "  _warn_prf(average, modifier, f\"{metric.capitalize()} is\", len(result))\n",
      "c:\\Users\\citioplab\\works\\codes\\plant\\plant_venv\\Lib\\site-packages\\sklearn\\metrics\\_classification.py:1531: UndefinedMetricWarning: Precision is ill-defined and being set to 0.0 in labels with no predicted samples. Use `zero_division` parameter to control this behavior.\n",
      "  _warn_prf(average, modifier, f\"{metric.capitalize()} is\", len(result))\n"
     ]
    },
    {
     "data": {
      "application/vnd.jupyter.widget-view+json": {
       "model_id": "1ede7bbfbb4b4e9089d6b2fa5cc8933e",
       "version_major": 2,
       "version_minor": 0
      },
      "text/plain": [
       "  0%|          | 0/40 [00:00<?, ?it/s]"
      ]
     },
     "metadata": {},
     "output_type": "display_data"
    },
    {
     "name": "stderr",
     "output_type": "stream",
     "text": [
      "c:\\Users\\citioplab\\works\\codes\\plant\\plant_venv\\Lib\\site-packages\\sklearn\\linear_model\\_logistic.py:1256: FutureWarning: 'multi_class' was deprecated in version 1.5 and will be removed in 1.7. Use OneVsRestClassifier(LogisticRegression(..)) instead. Leave it to its default value to avoid this warning.\n",
      "  warnings.warn(\n"
     ]
    },
    {
     "data": {
      "application/vnd.jupyter.widget-view+json": {
       "model_id": "9d934eb81b4d4d7fb860c99f70ccba3a",
       "version_major": 2,
       "version_minor": 0
      },
      "text/plain": [
       "  0%|          | 0/10 [00:00<?, ?it/s]"
      ]
     },
     "metadata": {},
     "output_type": "display_data"
    },
    {
     "name": "stdout",
     "output_type": "stream",
     "text": [
      "Fold 4 - AUC: 0.7181\n",
      "\n",
      "              precision    recall  f1-score   support\n",
      "\n",
      "           0       0.70      0.92      0.80      6796\n",
      "           1       0.38      0.14      0.21      2082\n",
      "           2       0.39      0.15      0.22       632\n",
      "           3       0.00      0.00      0.00        57\n",
      "           4       0.30      0.07      0.11       433\n",
      "\n",
      "    accuracy                           0.67     10000\n",
      "   macro avg       0.35      0.26      0.27     10000\n",
      "weighted avg       0.59      0.67      0.60     10000\n",
      "\n",
      "----------------------------------------------\n",
      "\n"
     ]
    },
    {
     "name": "stderr",
     "output_type": "stream",
     "text": [
      "c:\\Users\\citioplab\\works\\codes\\plant\\plant_venv\\Lib\\site-packages\\sklearn\\metrics\\_classification.py:1531: UndefinedMetricWarning: Precision is ill-defined and being set to 0.0 in labels with no predicted samples. Use `zero_division` parameter to control this behavior.\n",
      "  _warn_prf(average, modifier, f\"{metric.capitalize()} is\", len(result))\n",
      "c:\\Users\\citioplab\\works\\codes\\plant\\plant_venv\\Lib\\site-packages\\sklearn\\metrics\\_classification.py:1531: UndefinedMetricWarning: Precision is ill-defined and being set to 0.0 in labels with no predicted samples. Use `zero_division` parameter to control this behavior.\n",
      "  _warn_prf(average, modifier, f\"{metric.capitalize()} is\", len(result))\n",
      "c:\\Users\\citioplab\\works\\codes\\plant\\plant_venv\\Lib\\site-packages\\sklearn\\metrics\\_classification.py:1531: UndefinedMetricWarning: Precision is ill-defined and being set to 0.0 in labels with no predicted samples. Use `zero_division` parameter to control this behavior.\n",
      "  _warn_prf(average, modifier, f\"{metric.capitalize()} is\", len(result))\n"
     ]
    },
    {
     "data": {
      "application/vnd.jupyter.widget-view+json": {
       "model_id": "319454588e74497191e8410e9ca51b35",
       "version_major": 2,
       "version_minor": 0
      },
      "text/plain": [
       "  0%|          | 0/40 [00:00<?, ?it/s]"
      ]
     },
     "metadata": {},
     "output_type": "display_data"
    },
    {
     "name": "stderr",
     "output_type": "stream",
     "text": [
      "c:\\Users\\citioplab\\works\\codes\\plant\\plant_venv\\Lib\\site-packages\\sklearn\\linear_model\\_logistic.py:1256: FutureWarning: 'multi_class' was deprecated in version 1.5 and will be removed in 1.7. Use OneVsRestClassifier(LogisticRegression(..)) instead. Leave it to its default value to avoid this warning.\n",
      "  warnings.warn(\n"
     ]
    },
    {
     "data": {
      "application/vnd.jupyter.widget-view+json": {
       "model_id": "0a3268aeb1d74e2296d3ba881a916299",
       "version_major": 2,
       "version_minor": 0
      },
      "text/plain": [
       "  0%|          | 0/10 [00:00<?, ?it/s]"
      ]
     },
     "metadata": {},
     "output_type": "display_data"
    },
    {
     "name": "stdout",
     "output_type": "stream",
     "text": [
      "Fold 5 - AUC: 0.7332\n",
      "\n",
      "              precision    recall  f1-score   support\n",
      "\n",
      "           0       0.70      0.92      0.80      6796\n",
      "           1       0.38      0.13      0.20      2081\n",
      "           2       0.42      0.16      0.23       633\n",
      "           3       0.00      0.00      0.00        57\n",
      "           4       0.24      0.05      0.08       433\n",
      "\n",
      "    accuracy                           0.67     10000\n",
      "   macro avg       0.35      0.25      0.26     10000\n",
      "weighted avg       0.59      0.67      0.60     10000\n",
      "\n",
      "----------------------------------------------\n",
      "\n"
     ]
    },
    {
     "name": "stderr",
     "output_type": "stream",
     "text": [
      "c:\\Users\\citioplab\\works\\codes\\plant\\plant_venv\\Lib\\site-packages\\sklearn\\metrics\\_classification.py:1531: UndefinedMetricWarning: Precision is ill-defined and being set to 0.0 in labels with no predicted samples. Use `zero_division` parameter to control this behavior.\n",
      "  _warn_prf(average, modifier, f\"{metric.capitalize()} is\", len(result))\n",
      "c:\\Users\\citioplab\\works\\codes\\plant\\plant_venv\\Lib\\site-packages\\sklearn\\metrics\\_classification.py:1531: UndefinedMetricWarning: Precision is ill-defined and being set to 0.0 in labels with no predicted samples. Use `zero_division` parameter to control this behavior.\n",
      "  _warn_prf(average, modifier, f\"{metric.capitalize()} is\", len(result))\n",
      "c:\\Users\\citioplab\\works\\codes\\plant\\plant_venv\\Lib\\site-packages\\sklearn\\metrics\\_classification.py:1531: UndefinedMetricWarning: Precision is ill-defined and being set to 0.0 in labels with no predicted samples. Use `zero_division` parameter to control this behavior.\n",
      "  _warn_prf(average, modifier, f\"{metric.capitalize()} is\", len(result))\n"
     ]
    }
   ],
   "source": [
    "custom_cross_validate_v4(meta_model, X, y, kf, meta_model_path, catboost_model_path, DNN_model_path)"
   ]
  },
  {
   "cell_type": "code",
   "execution_count": 47,
   "metadata": {},
   "outputs": [],
   "source": [
    "test_dataset = ClassificationDataset(test_torch.drop(['uid'], axis = 1), labels = None, cat_cols_idx = cat_features, cont_cols_idx = cont_features, is_train = False)\n",
    "test_loader = torch.utils.data.DataLoader(test_dataset, batch_size = batch_size, pin_memory = True, drop_last = False, shuffle = False)"
   ]
  },
  {
   "cell_type": "code",
   "execution_count": 48,
   "metadata": {},
   "outputs": [
    {
     "data": {
      "application/vnd.jupyter.widget-view+json": {
       "model_id": "d69819ad3c734de0b512b4362ec6242e",
       "version_major": 2,
       "version_minor": 0
      },
      "text/plain": [
       "  0%|          | 0/14 [00:00<?, ?it/s]"
      ]
     },
     "metadata": {},
     "output_type": "display_data"
    },
    {
     "data": {
      "application/vnd.jupyter.widget-view+json": {
       "model_id": "78e6188e53884141b442d8a6eba3d1a4",
       "version_major": 2,
       "version_minor": 0
      },
      "text/plain": [
       "  0%|          | 0/14 [00:00<?, ?it/s]"
      ]
     },
     "metadata": {},
     "output_type": "display_data"
    },
    {
     "data": {
      "application/vnd.jupyter.widget-view+json": {
       "model_id": "b805f8064f264fdea192170063868fab",
       "version_major": 2,
       "version_minor": 0
      },
      "text/plain": [
       "  0%|          | 0/14 [00:00<?, ?it/s]"
      ]
     },
     "metadata": {},
     "output_type": "display_data"
    },
    {
     "data": {
      "application/vnd.jupyter.widget-view+json": {
       "model_id": "a679e17b0bf4406087d7f7907f9fcb26",
       "version_major": 2,
       "version_minor": 0
      },
      "text/plain": [
       "  0%|          | 0/14 [00:00<?, ?it/s]"
      ]
     },
     "metadata": {},
     "output_type": "display_data"
    },
    {
     "data": {
      "application/vnd.jupyter.widget-view+json": {
       "model_id": "b42094fe7e45484785e3756e02d4f1f8",
       "version_major": 2,
       "version_minor": 0
      },
      "text/plain": [
       "  0%|          | 0/14 [00:00<?, ?it/s]"
      ]
     },
     "metadata": {},
     "output_type": "display_data"
    }
   ],
   "source": [
    "total_fold_preds = []\n",
    "\n",
    "for i in range(1, 6):\n",
    "    dnn_fold_path = DNN_model_path + f'fold{i}.pt'\n",
    "\n",
    "    catboost_fold_path = catboost_model_path + f'fold{i}.pkl'\n",
    "    catboost_fold_model = joblib.load(catboost_fold_path)\n",
    "\n",
    "    meta_model_fold_path = meta_model_path + f'fold{i}.pkl'\n",
    "    meta_model_fold_model = joblib.load(meta_model_fold_path)\n",
    "\n",
    "    dnn_test_outputs = dnn_inference(dnn_fold_path, test_loader)\n",
    "    catboost_test_outputs = catboost_fold_model.predict_proba(test.drop(['uid'], axis = 1))\n",
    "    meta_test_features = np.column_stack([dnn_test_outputs, catboost_test_outputs])\n",
    "\n",
    "    fold_preds = meta_model_fold_model.predict_proba(meta_test_features)\n",
    "    total_fold_preds.append(fold_preds)\n",
    "\n",
    "total_fold_preds = np.array(total_fold_preds)"
   ]
  },
  {
   "cell_type": "code",
   "execution_count": 49,
   "metadata": {},
   "outputs": [
    {
     "data": {
      "text/plain": [
       "(5, 14220, 5)"
      ]
     },
     "execution_count": 49,
     "metadata": {},
     "output_type": "execute_result"
    }
   ],
   "source": [
    "total_fold_preds.shape"
   ]
  },
  {
   "cell_type": "code",
   "execution_count": 50,
   "metadata": {},
   "outputs": [],
   "source": [
    "final_preds = np.mean(total_fold_preds, axis = 0)"
   ]
  },
  {
   "cell_type": "code",
   "execution_count": 51,
   "metadata": {},
   "outputs": [],
   "source": [
    "submission = pd.DataFrame({\n",
    "    'uid': test['uid'],\n",
    "    'out': final_preds[:, 0],\n",
    "    'single': final_preds[:, 1],\n",
    "    'double': final_preds[:, 2],\n",
    "    'triple': final_preds[:, 3],\n",
    "    'home_run': final_preds[:, 4]\n",
    "})"
   ]
  },
  {
   "cell_type": "code",
   "execution_count": 52,
   "metadata": {},
   "outputs": [],
   "source": [
    "submission.to_csv('./submissions/twelfth_attempt.csv', index = False)"
   ]
  },
  {
   "cell_type": "markdown",
   "metadata": {},
   "source": [
    "Submission results<br>\n",
    "Public Score: 0.72662<br>\n",
    "Private Score: 0.73711"
   ]
  },
  {
   "cell_type": "markdown",
   "metadata": {},
   "source": []
  }
 ],
 "metadata": {
  "kernelspec": {
   "display_name": "plant_venv",
   "language": "python",
   "name": "python3"
  },
  "language_info": {
   "codemirror_mode": {
    "name": "ipython",
    "version": 3
   },
   "file_extension": ".py",
   "mimetype": "text/x-python",
   "name": "python",
   "nbconvert_exporter": "python",
   "pygments_lexer": "ipython3",
   "version": "3.11.0"
  }
 },
 "nbformat": 4,
 "nbformat_minor": 2
}
